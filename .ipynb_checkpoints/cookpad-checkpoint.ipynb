{
 "cells": [
  {
   "cell_type": "code",
   "execution_count": 1,
   "metadata": {},
   "outputs": [],
   "source": [
    "import numpy as np"
   ]
  },
  {
   "cell_type": "code",
   "execution_count": 26,
   "metadata": {},
   "outputs": [
    {
     "name": "stdout",
     "output_type": "stream",
     "text": [
      "16\n",
      "B\n",
      "C\n",
      "D\n",
      "AB\n",
      "AC\n",
      "AD\n",
      "AAB\n",
      "AAC\n",
      "AAD\n",
      "AAAB\n",
      "AAAC\n",
      "AAAD\n",
      "AAAAB\n",
      "AAAAC\n",
      "AAAAD\n",
      "AAAAA\n"
     ]
    }
   ],
   "source": [
    "N = int(input())\n",
    "\n",
    "# {A*n}+BorCorD\n",
    "\n",
    "for number in range(1, N+1, 1):\n",
    "    keta = (number - 1) // 3\n",
    "    right_num = (number - 1) % 3\n",
    "    if number == N and N%3 == 1:\n",
    "        print(\"A\"*keta)\n",
    "    else:\n",
    "        if right_num == 0:\n",
    "            right_char = \"B\"\n",
    "        elif right_num == 1:\n",
    "            right_char = \"C\"\n",
    "        elif right_num == 2:\n",
    "            right_char = \"D\"\n",
    "        print(\"A\"*keta + right_char)"
   ]
  },
  {
   "cell_type": "code",
   "execution_count": 15,
   "metadata": {},
   "outputs": [
    {
     "name": "stdout",
     "output_type": "stream",
     "text": [
      "input your weapon(rock,paper,scissors) >>rock\n",
      "Server: rock\n",
      "You: rock\n",
      "Result: Draw\n",
      "input your weapon(rock,paper,scissors) >>rock\n",
      "Server: rock\n",
      "You: rock\n",
      "Result: Draw\n",
      "input your weapon(rock,paper,scissors) >>rock\n",
      "Server: scissors\n",
      "You: rock\n",
      "Result: Win\n",
      "input your weapon(rock,paper,scissors) >>paper\n",
      "Server: paper\n",
      "You: paper\n",
      "Result: Draw\n",
      "input your weapon(rock,paper,scissors) >>paper\n",
      "Server: rock\n",
      "You: paper\n",
      "Result: Win\n",
      "input your weapon(rock,paper,scissors) >>paper\n",
      "Server: paper\n",
      "You: paper\n",
      "Result: Draw\n",
      "input your weapon(rock,paper,scissors) >>paper\n",
      "Server: paper\n",
      "You: paper\n",
      "Result: Draw\n",
      "input your weapon(rock,paper,scissors) >>paper\n",
      "Server: rock\n",
      "You: paper\n",
      "Result: Win\n",
      "#### finish ####\n",
      "Win:  3\n",
      "lose:  0\n",
      "Draw:  5\n",
      "You Win!\n"
     ]
    }
   ],
   "source": [
    "import requests\n",
    "\n",
    "def janken():\n",
    "    #引き分けた回数\n",
    "    draw_num = 0\n",
    "    \n",
    "    #勝負が着くまで\n",
    "    while(True):\n",
    "        #プレイヤーの手を受け付ける\n",
    "        while(True):\n",
    "            player_hand = input(\"input your weapon(rock,paper,scissors) >>\")\n",
    "            if not (player_hand  == \"rock\" or player_hand == \"scissors\" or  player_hand == \"paper\"):\n",
    "                print(\"enter correct wepon.\")\n",
    "            else:\n",
    "                break\n",
    "\n",
    "        def get_server_weapon(hand):\n",
    "            assert hand  == \"rock\" or hand == \"scissors\" or  hand == \"paper\"\n",
    "            endpoint = \"https://post-rps-server.herokuapp.com/\"\n",
    "            item = {\"weapon\" : hand}\n",
    "            r_post = requests.post(endpoint, data=item).json()\n",
    "            server_hand = r_post[\"server_weapon\"]\n",
    "            result = r_post[\"result\"]\n",
    "\n",
    "            return server_hand, result\n",
    "\n",
    "        server_hand, result = get_server_weapon(player_hand)   \n",
    "        print(\"Server: {}\\nYou: {}\\nResult: {}\".format(server_hand, player_hand, result))\n",
    "        if not result == \"Draw\":\n",
    "            return result, draw_num\n",
    "        elif result == \"Draw\":\n",
    "            draw_num += 1\n",
    "    \n",
    "    \n",
    "win_num, lose_num, draw_num = 0, 0, 0\n",
    "for _ in range(3):\n",
    "    result, draws = janken()\n",
    "    draw_num += draws\n",
    "    if result == \"Win\":\n",
    "        win_num += 1\n",
    "    elif result == \" Lose\":\n",
    "        lose_num += 1\n",
    "            \n",
    "print(\"#### finish ####\")\n",
    "print(\"Win: \", win_num)\n",
    "print(\"lose: \", lose_num)\n",
    "print(\"Draw: \", draw_num)\n",
    "if win_num > lose_num:\n",
    "    print(\"You Win!\")\n",
    "else:\n",
    "    print(\"You Lose!\")"
   ]
  },
  {
   "cell_type": "code",
   "execution_count": null,
   "metadata": {},
   "outputs": [],
   "source": [
    "import requests\n",
    "endpoint = \"https://post-rps-server.herokuapp.com/\"\n",
    "item = {\"weapon\" : hand}\n",
    "r_post = requests.post(endpoint, data=item).json()"
   ]
  }
 ],
 "metadata": {
  "kernelspec": {
   "display_name": "Python 3",
   "language": "python",
   "name": "python3"
  },
  "language_info": {
   "codemirror_mode": {
    "name": "ipython",
    "version": 3
   },
   "file_extension": ".py",
   "mimetype": "text/x-python",
   "name": "python",
   "nbconvert_exporter": "python",
   "pygments_lexer": "ipython3",
   "version": "3.6.4"
  }
 },
 "nbformat": 4,
 "nbformat_minor": 2
}
