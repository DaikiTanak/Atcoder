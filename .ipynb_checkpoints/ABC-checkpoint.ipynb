{
 "cells": [
  {
   "cell_type": "markdown",
   "metadata": {},
   "source": [
    "AtCoder Beginner Contest 111"
   ]
  },
  {
   "cell_type": "code",
   "execution_count": 39,
   "metadata": {},
   "outputs": [
    {
     "name": "stdout",
     "output_type": "stream",
     "text": [
      "122\n",
      "222\n"
     ]
    }
   ],
   "source": [
    "#B\n",
    "n = int(input())\n",
    "if(n % 111 == 0):\n",
    "    print(n)\n",
    "else:\n",
    "    print(111 * (1 + n // 111))"
   ]
  },
  {
   "cell_type": "code",
   "execution_count": null,
   "metadata": {},
   "outputs": [],
   "source": [
    "#C\n",
    "n = input()\n",
    "v = map(int, input().split())\n",
    "from collections import Counter\n",
    "\n",
    "odd = v[0::2]\n",
    "odd_c = Counter(odd)\n",
    "first = odd_c.most_common()[0][0]\n",
    "sec = odd_c.most_common()[1][0]\n",
    "even = v[1::2]\n",
    "even_c = Counter(even)\n"
   ]
  },
  {
   "cell_type": "code",
   "execution_count": 42,
   "metadata": {},
   "outputs": [
    {
     "data": {
      "text/plain": [
       "[1, 3, 5]"
      ]
     },
     "execution_count": 42,
     "metadata": {},
     "output_type": "execute_result"
    }
   ],
   "source": [
    "a = [1,2,3,4,5]\n",
    "a[0::2]"
   ]
  },
  {
   "cell_type": "markdown",
   "metadata": {},
   "source": [
    "AtCoder Beginner Contest 110"
   ]
  },
  {
   "cell_type": "code",
   "execution_count": 47,
   "metadata": {},
   "outputs": [
    {
     "name": "stdout",
     "output_type": "stream",
     "text": [
      "5 3 6 8\n",
      "-10 3 1 5 -100\n",
      "100 6 14\n"
     ]
    },
    {
     "ename": "TypeError",
     "evalue": "'>' not supported between instances of 'int' and 'map'",
     "output_type": "error",
     "traceback": [
      "\u001b[0;31m---------------------------------------------------------------------------\u001b[0m",
      "\u001b[0;31mTypeError\u001b[0m                                 Traceback (most recent call last)",
      "\u001b[0;32m<ipython-input-47-26dac17bf9bf>\u001b[0m in \u001b[0;36m<module>\u001b[0;34m()\u001b[0m\n\u001b[1;32m      4\u001b[0m \u001b[0my\u001b[0m \u001b[0;34m=\u001b[0m \u001b[0mmap\u001b[0m\u001b[0;34m(\u001b[0m\u001b[0mint\u001b[0m\u001b[0;34m,\u001b[0m \u001b[0minput\u001b[0m\u001b[0;34m(\u001b[0m\u001b[0;34m)\u001b[0m\u001b[0;34m.\u001b[0m\u001b[0msplit\u001b[0m\u001b[0;34m(\u001b[0m\u001b[0;34m)\u001b[0m\u001b[0;34m)\u001b[0m\u001b[0;34m\u001b[0m\u001b[0m\n\u001b[1;32m      5\u001b[0m \u001b[0;34m\u001b[0m\u001b[0m\n\u001b[0;32m----> 6\u001b[0;31m \u001b[0;32mif\u001b[0m\u001b[0;34m(\u001b[0m\u001b[0mmax\u001b[0m\u001b[0;34m(\u001b[0m\u001b[0mx\u001b[0m\u001b[0;34m,\u001b[0m \u001b[0mX\u001b[0m\u001b[0;34m)\u001b[0m \u001b[0;34m<\u001b[0m \u001b[0mmin\u001b[0m\u001b[0;34m(\u001b[0m\u001b[0my\u001b[0m\u001b[0;34m,\u001b[0m \u001b[0mY\u001b[0m\u001b[0;34m)\u001b[0m\u001b[0;34m)\u001b[0m\u001b[0;34m:\u001b[0m\u001b[0;34m\u001b[0m\u001b[0m\n\u001b[0m\u001b[1;32m      7\u001b[0m     \u001b[0mprint\u001b[0m\u001b[0;34m(\u001b[0m\u001b[0;34m\"No War\"\u001b[0m\u001b[0;34m)\u001b[0m\u001b[0;34m\u001b[0m\u001b[0m\n\u001b[1;32m      8\u001b[0m \u001b[0;32melse\u001b[0m\u001b[0;34m:\u001b[0m\u001b[0;34m\u001b[0m\u001b[0m\n",
      "\u001b[0;31mTypeError\u001b[0m: '>' not supported between instances of 'int' and 'map'"
     ]
    }
   ],
   "source": [
    "#B\n",
    "n, m, X, Y = map(int, input().split())\n",
    "x = map(int, input().split())\n",
    "y = map(int, input().split())\n",
    "\n",
    "if(max(max(x), X) < min(min(y), Y)):\n",
    "    print(\"No War\")\n",
    "else:\n",
    "    print(\"War\")"
   ]
  },
  {
   "cell_type": "code",
   "execution_count": null,
   "metadata": {},
   "outputs": [],
   "source": [
    "#C String Transformation\n",
    "s = input()\n",
    "t = input()\n",
    "\n"
   ]
  },
  {
   "cell_type": "markdown",
   "metadata": {},
   "source": [
    "AtCoder Beginner Contest 109"
   ]
  },
  {
   "cell_type": "code",
   "execution_count": 1,
   "metadata": {},
   "outputs": [
    {
     "ename": "KeyboardInterrupt",
     "evalue": "",
     "output_type": "error",
     "traceback": [
      "\u001b[0;31m---------------------------------------------------------------------------\u001b[0m",
      "\u001b[0;31mKeyboardInterrupt\u001b[0m                         Traceback (most recent call last)",
      "\u001b[0;32m/anaconda3/lib/python3.6/site-packages/ipykernel/kernelbase.py\u001b[0m in \u001b[0;36m_input_request\u001b[0;34m(self, prompt, ident, parent, password)\u001b[0m\n\u001b[1;32m    728\u001b[0m             \u001b[0;32mtry\u001b[0m\u001b[0;34m:\u001b[0m\u001b[0;34m\u001b[0m\u001b[0m\n\u001b[0;32m--> 729\u001b[0;31m                 \u001b[0mident\u001b[0m\u001b[0;34m,\u001b[0m \u001b[0mreply\u001b[0m \u001b[0;34m=\u001b[0m \u001b[0mself\u001b[0m\u001b[0;34m.\u001b[0m\u001b[0msession\u001b[0m\u001b[0;34m.\u001b[0m\u001b[0mrecv\u001b[0m\u001b[0;34m(\u001b[0m\u001b[0mself\u001b[0m\u001b[0;34m.\u001b[0m\u001b[0mstdin_socket\u001b[0m\u001b[0;34m,\u001b[0m \u001b[0;36m0\u001b[0m\u001b[0;34m)\u001b[0m\u001b[0;34m\u001b[0m\u001b[0m\n\u001b[0m\u001b[1;32m    730\u001b[0m             \u001b[0;32mexcept\u001b[0m \u001b[0mException\u001b[0m\u001b[0;34m:\u001b[0m\u001b[0;34m\u001b[0m\u001b[0m\n",
      "\u001b[0;32m/anaconda3/lib/python3.6/site-packages/jupyter_client/session.py\u001b[0m in \u001b[0;36mrecv\u001b[0;34m(self, socket, mode, content, copy)\u001b[0m\n\u001b[1;32m    802\u001b[0m         \u001b[0;32mtry\u001b[0m\u001b[0;34m:\u001b[0m\u001b[0;34m\u001b[0m\u001b[0m\n\u001b[0;32m--> 803\u001b[0;31m             \u001b[0mmsg_list\u001b[0m \u001b[0;34m=\u001b[0m \u001b[0msocket\u001b[0m\u001b[0;34m.\u001b[0m\u001b[0mrecv_multipart\u001b[0m\u001b[0;34m(\u001b[0m\u001b[0mmode\u001b[0m\u001b[0;34m,\u001b[0m \u001b[0mcopy\u001b[0m\u001b[0;34m=\u001b[0m\u001b[0mcopy\u001b[0m\u001b[0;34m)\u001b[0m\u001b[0;34m\u001b[0m\u001b[0m\n\u001b[0m\u001b[1;32m    804\u001b[0m         \u001b[0;32mexcept\u001b[0m \u001b[0mzmq\u001b[0m\u001b[0;34m.\u001b[0m\u001b[0mZMQError\u001b[0m \u001b[0;32mas\u001b[0m \u001b[0me\u001b[0m\u001b[0;34m:\u001b[0m\u001b[0;34m\u001b[0m\u001b[0m\n",
      "\u001b[0;32m/anaconda3/lib/python3.6/site-packages/zmq/sugar/socket.py\u001b[0m in \u001b[0;36mrecv_multipart\u001b[0;34m(self, flags, copy, track)\u001b[0m\n\u001b[1;32m    394\u001b[0m         \"\"\"\n\u001b[0;32m--> 395\u001b[0;31m         \u001b[0mparts\u001b[0m \u001b[0;34m=\u001b[0m \u001b[0;34m[\u001b[0m\u001b[0mself\u001b[0m\u001b[0;34m.\u001b[0m\u001b[0mrecv\u001b[0m\u001b[0;34m(\u001b[0m\u001b[0mflags\u001b[0m\u001b[0;34m,\u001b[0m \u001b[0mcopy\u001b[0m\u001b[0;34m=\u001b[0m\u001b[0mcopy\u001b[0m\u001b[0;34m,\u001b[0m \u001b[0mtrack\u001b[0m\u001b[0;34m=\u001b[0m\u001b[0mtrack\u001b[0m\u001b[0;34m)\u001b[0m\u001b[0;34m]\u001b[0m\u001b[0;34m\u001b[0m\u001b[0m\n\u001b[0m\u001b[1;32m    396\u001b[0m         \u001b[0;31m# have first part already, only loop while more to receive\u001b[0m\u001b[0;34m\u001b[0m\u001b[0;34m\u001b[0m\u001b[0m\n",
      "\u001b[0;32mzmq/backend/cython/socket.pyx\u001b[0m in \u001b[0;36mzmq.backend.cython.socket.Socket.recv\u001b[0;34m()\u001b[0m\n",
      "\u001b[0;32mzmq/backend/cython/socket.pyx\u001b[0m in \u001b[0;36mzmq.backend.cython.socket.Socket.recv\u001b[0;34m()\u001b[0m\n",
      "\u001b[0;32mzmq/backend/cython/socket.pyx\u001b[0m in \u001b[0;36mzmq.backend.cython.socket._recv_copy\u001b[0;34m()\u001b[0m\n",
      "\u001b[0;32m/anaconda3/lib/python3.6/site-packages/zmq/backend/cython/checkrc.pxd\u001b[0m in \u001b[0;36mzmq.backend.cython.checkrc._check_rc\u001b[0;34m()\u001b[0m\n",
      "\u001b[0;31mKeyboardInterrupt\u001b[0m: ",
      "\nDuring handling of the above exception, another exception occurred:\n",
      "\u001b[0;31mKeyboardInterrupt\u001b[0m                         Traceback (most recent call last)",
      "\u001b[0;32m<ipython-input-1-9e0443ce21de>\u001b[0m in \u001b[0;36m<module>\u001b[0;34m()\u001b[0m\n\u001b[1;32m      1\u001b[0m \u001b[0;31m# B - Shiritori\u001b[0m\u001b[0;34m\u001b[0m\u001b[0;34m\u001b[0m\u001b[0m\n\u001b[1;32m      2\u001b[0m \u001b[0;34m\u001b[0m\u001b[0m\n\u001b[0;32m----> 3\u001b[0;31m \u001b[0mN\u001b[0m \u001b[0;34m=\u001b[0m \u001b[0mint\u001b[0m\u001b[0;34m(\u001b[0m\u001b[0minput\u001b[0m\u001b[0;34m(\u001b[0m\u001b[0;34m)\u001b[0m\u001b[0;34m)\u001b[0m\u001b[0;34m\u001b[0m\u001b[0m\n\u001b[0m\u001b[1;32m      4\u001b[0m \u001b[0mwords\u001b[0m \u001b[0;34m=\u001b[0m \u001b[0;34m[\u001b[0m\u001b[0minput\u001b[0m\u001b[0;34m(\u001b[0m\u001b[0;34m)\u001b[0m \u001b[0;32mfor\u001b[0m \u001b[0mi\u001b[0m \u001b[0;32min\u001b[0m \u001b[0mrange\u001b[0m\u001b[0;34m(\u001b[0m\u001b[0mN\u001b[0m\u001b[0;34m)\u001b[0m\u001b[0;34m]\u001b[0m\u001b[0;34m\u001b[0m\u001b[0m\n\u001b[1;32m      5\u001b[0m \u001b[0mflag\u001b[0m\u001b[0;34m=\u001b[0m\u001b[0;34m\"Yes\"\u001b[0m\u001b[0;34m\u001b[0m\u001b[0m\n",
      "\u001b[0;32m/anaconda3/lib/python3.6/site-packages/ipykernel/kernelbase.py\u001b[0m in \u001b[0;36mraw_input\u001b[0;34m(self, prompt)\u001b[0m\n\u001b[1;32m    702\u001b[0m             \u001b[0mself\u001b[0m\u001b[0;34m.\u001b[0m\u001b[0m_parent_ident\u001b[0m\u001b[0;34m,\u001b[0m\u001b[0;34m\u001b[0m\u001b[0m\n\u001b[1;32m    703\u001b[0m             \u001b[0mself\u001b[0m\u001b[0;34m.\u001b[0m\u001b[0m_parent_header\u001b[0m\u001b[0;34m,\u001b[0m\u001b[0;34m\u001b[0m\u001b[0m\n\u001b[0;32m--> 704\u001b[0;31m             \u001b[0mpassword\u001b[0m\u001b[0;34m=\u001b[0m\u001b[0;32mFalse\u001b[0m\u001b[0;34m,\u001b[0m\u001b[0;34m\u001b[0m\u001b[0m\n\u001b[0m\u001b[1;32m    705\u001b[0m         )\n\u001b[1;32m    706\u001b[0m \u001b[0;34m\u001b[0m\u001b[0m\n",
      "\u001b[0;32m/anaconda3/lib/python3.6/site-packages/ipykernel/kernelbase.py\u001b[0m in \u001b[0;36m_input_request\u001b[0;34m(self, prompt, ident, parent, password)\u001b[0m\n\u001b[1;32m    732\u001b[0m             \u001b[0;32mexcept\u001b[0m \u001b[0mKeyboardInterrupt\u001b[0m\u001b[0;34m:\u001b[0m\u001b[0;34m\u001b[0m\u001b[0m\n\u001b[1;32m    733\u001b[0m                 \u001b[0;31m# re-raise KeyboardInterrupt, to truncate traceback\u001b[0m\u001b[0;34m\u001b[0m\u001b[0;34m\u001b[0m\u001b[0m\n\u001b[0;32m--> 734\u001b[0;31m                 \u001b[0;32mraise\u001b[0m \u001b[0mKeyboardInterrupt\u001b[0m\u001b[0;34m\u001b[0m\u001b[0m\n\u001b[0m\u001b[1;32m    735\u001b[0m             \u001b[0;32melse\u001b[0m\u001b[0;34m:\u001b[0m\u001b[0;34m\u001b[0m\u001b[0m\n\u001b[1;32m    736\u001b[0m                 \u001b[0;32mbreak\u001b[0m\u001b[0;34m\u001b[0m\u001b[0m\n",
      "\u001b[0;31mKeyboardInterrupt\u001b[0m: "
     ]
    }
   ],
   "source": [
    "# B - Shiritori\n",
    "\n",
    "N = int(input())\n",
    "words = [input() for i in range(N)]\n",
    "flag=\"Yes\"\n",
    "for i in range(N):\n",
    "    if(i ==0):\n",
    "        continue\n",
    "    else:\n",
    "        if(words[i][0] == words[i-1][-1] and (not words[i] == words[i-1])):\n",
    "            continue\n",
    "        else:\n",
    "            flag=\"No\"\n",
    "    print(flag)"
   ]
  },
  {
   "cell_type": "code",
   "execution_count": 21,
   "metadata": {},
   "outputs": [
    {
     "name": "stdout",
     "output_type": "stream",
     "text": [
      "1 1\n",
      "1000000000\n"
     ]
    },
    {
     "ename": "IndexError",
     "evalue": "list index out of range",
     "output_type": "error",
     "traceback": [
      "\u001b[0;31m---------------------------------------------------------------------------\u001b[0m",
      "\u001b[0;31mIndexError\u001b[0m                                Traceback (most recent call last)",
      "\u001b[0;32m<ipython-input-21-61454d92cbc5>\u001b[0m in \u001b[0;36m<module>\u001b[0;34m()\u001b[0m\n\u001b[1;32m     14\u001b[0m \u001b[0;32mfor\u001b[0m \u001b[0mi\u001b[0m \u001b[0;32min\u001b[0m \u001b[0mrange\u001b[0m\u001b[0;34m(\u001b[0m\u001b[0mlen\u001b[0m\u001b[0;34m(\u001b[0m\u001b[0mresidual\u001b[0m\u001b[0;34m)\u001b[0m\u001b[0;34m)\u001b[0m\u001b[0;34m:\u001b[0m\u001b[0;34m\u001b[0m\u001b[0m\n\u001b[1;32m     15\u001b[0m     \u001b[0;32mif\u001b[0m\u001b[0;34m(\u001b[0m\u001b[0mi\u001b[0m \u001b[0;34m==\u001b[0m \u001b[0;36m0\u001b[0m\u001b[0;34m)\u001b[0m\u001b[0;34m:\u001b[0m\u001b[0;34m\u001b[0m\u001b[0m\n\u001b[0;32m---> 16\u001b[0;31m         \u001b[0mmax_\u001b[0m \u001b[0;34m=\u001b[0m \u001b[0mgcd\u001b[0m\u001b[0;34m(\u001b[0m\u001b[0mresidual\u001b[0m\u001b[0;34m[\u001b[0m\u001b[0mi\u001b[0m\u001b[0;34m]\u001b[0m\u001b[0;34m,\u001b[0m \u001b[0mresidual\u001b[0m\u001b[0;34m[\u001b[0m\u001b[0mi\u001b[0m\u001b[0;34m+\u001b[0m\u001b[0;36m1\u001b[0m\u001b[0;34m]\u001b[0m\u001b[0;34m)\u001b[0m\u001b[0;34m\u001b[0m\u001b[0m\n\u001b[0m\u001b[1;32m     17\u001b[0m     \u001b[0;32melif\u001b[0m\u001b[0;34m(\u001b[0m\u001b[0mi\u001b[0m \u001b[0;34m==\u001b[0m \u001b[0mN\u001b[0m\u001b[0;34m-\u001b[0m\u001b[0;36m1\u001b[0m\u001b[0;34m)\u001b[0m\u001b[0;34m:\u001b[0m\u001b[0;34m\u001b[0m\u001b[0m\n\u001b[1;32m     18\u001b[0m         \u001b[0mprint\u001b[0m\u001b[0;34m(\u001b[0m\u001b[0mmax_\u001b[0m\u001b[0;34m)\u001b[0m\u001b[0;34m\u001b[0m\u001b[0m\n",
      "\u001b[0;31mIndexError\u001b[0m: list index out of range"
     ]
    }
   ],
   "source": [
    "#C - Skip\n",
    "import sys\n",
    "\n",
    "N, X = map(int, input().split())\n",
    "x_list = list(map(int, input().split()))\n",
    "\n",
    "residual = [abs(x - X) for x in x_list]\n",
    "\n",
    "def gcd(a,b):\n",
    "    if(b==0):\n",
    "        return a\n",
    "    else:\n",
    "        return gcd(b, a%b)\n",
    "        \n",
    "max_ = 0\n",
    "for i in range(len(residual)):\n",
    "    if(N==1):\n",
    "        print(residual[0])\n",
    "        break\n",
    "    \n",
    "    if(i == 0):\n",
    "        max_ = gcd(residual[i], residual[i+1])\n",
    "    elif(i == N-1):\n",
    "        print(max_)\n",
    "    else:\n",
    "        max_ = gcd(residual[i], max_)\n",
    "\n",
    "        "
   ]
  },
  {
   "cell_type": "code",
   "execution_count": 44,
   "metadata": {},
   "outputs": [
    {
     "name": "stdout",
     "output_type": "stream",
     "text": [
      "1 5\n",
      "9 9 9 9 9\n",
      "3\n",
      "0 0 0 1\n",
      "0 2 0 3\n"
     ]
    }
   ],
   "source": [
    "#D - Make Them Even\n",
    "import numpy as np\n",
    "H, W = list(map(int, input().split()))\n",
    "#matrix = np.zeros((H, W))\n",
    "\n",
    "a = np.array([list(map(int, input().split())) for i in range(H)])\n",
    "sousa = []\n",
    "count = 0\n",
    "\n",
    "for x in range(W):\n",
    "    if(x %2):\n",
    "        for y in range(H-1, -1, -1):\n",
    "            if(a[y, x] % 2):\n",
    "                count+=1\n",
    "                a[y, x] -=1\n",
    "                if(y == 0):\n",
    "                    #端っこのとき\n",
    "                    if(x == W-1):\n",
    "                        continue\n",
    "                    a[y, x+1] += 1\n",
    "                    sousa.append([y, x, y, x+1])\n",
    "                else:\n",
    "                    a[y-1, x] += 1\n",
    "                    sousa.append([y, x, y-1, x])\n",
    "            else:\n",
    "                pass\n",
    "    else:\n",
    "        for y in range(0, H, 1):\n",
    "            if(a[y,x] % 2):\n",
    "                count+=1\n",
    "                a[y,x] -=1\n",
    "                if(y == H-1):\n",
    "                    if(x == W-1):\n",
    "                        continue\n",
    "                    a[y, x+1] += 1\n",
    "                    sousa.append([y, x, y, x+1])\n",
    "                else:\n",
    "                    a[y+1, x] += 1\n",
    "                    sousa.append([y, x, y+1, x])                  \n",
    "            else:\n",
    "                pass\n",
    "print(count)\n",
    "for act in sousa:\n",
    "    print(\"{} {} {} {}\".format(act[0], act[1], act[2], act[3]))\n",
    "    \n"
   ]
  },
  {
   "cell_type": "code",
   "execution_count": 34,
   "metadata": {},
   "outputs": [
    {
     "name": "stdout",
     "output_type": "stream",
     "text": [
      "3\n",
      "2\n",
      "1\n"
     ]
    }
   ],
   "source": [
    "2 3\n",
    "1 2 3\n",
    "0 1 1\n",
    "\n",
    "1 5 \n",
    "9 9 9 9 9 "
   ]
  },
  {
   "cell_type": "markdown",
   "metadata": {},
   "source": [
    "AtCoder Beginner Contest 108"
   ]
  },
  {
   "cell_type": "code",
   "execution_count": null,
   "metadata": {},
   "outputs": [],
   "source": [
    "# B - Ruined Square\n",
    "x1, y1, x2, y2 = list(map(int, input().split()))\n",
    "hen = abs(x2 - x1)\n",
    "if x2 > x1 and y1 == y2:\n",
    "    x3 = x2\n",
    "    y3 = x1 - hen\n",
    "    x4 = x1\n",
    "    y4 = y1 - hen\n",
    "    \n",
    "elif x1 == x2 and y1 > y2:\n",
    "    x3 = x1 - hen\n",
    "    \n",
    "    \n",
    "    "
   ]
  },
  {
   "cell_type": "code",
   "execution_count": 45,
   "metadata": {},
   "outputs": [
    {
     "name": "stdout",
     "output_type": "stream",
     "text": [
      "\n"
     ]
    },
    {
     "ename": "ValueError",
     "evalue": "not enough values to unpack (expected 2, got 0)",
     "output_type": "error",
     "traceback": [
      "\u001b[0;31m---------------------------------------------------------------------------\u001b[0m",
      "\u001b[0;31mValueError\u001b[0m                                Traceback (most recent call last)",
      "\u001b[0;32m<ipython-input-45-ac38e50989a7>\u001b[0m in \u001b[0;36m<module>\u001b[0;34m()\u001b[0m\n\u001b[1;32m      1\u001b[0m \u001b[0;31m# C - Triangular Relationship\u001b[0m\u001b[0;34m\u001b[0m\u001b[0;34m\u001b[0m\u001b[0m\n\u001b[0;32m----> 2\u001b[0;31m \u001b[0mN\u001b[0m\u001b[0;34m,\u001b[0m \u001b[0mK\u001b[0m \u001b[0;34m=\u001b[0m \u001b[0mlist\u001b[0m\u001b[0;34m(\u001b[0m\u001b[0mmap\u001b[0m\u001b[0;34m(\u001b[0m\u001b[0mint\u001b[0m\u001b[0;34m,\u001b[0m \u001b[0minput\u001b[0m\u001b[0;34m(\u001b[0m\u001b[0;34m)\u001b[0m\u001b[0;34m.\u001b[0m\u001b[0msplit\u001b[0m\u001b[0;34m(\u001b[0m\u001b[0;34m)\u001b[0m\u001b[0;34m)\u001b[0m\u001b[0;34m)\u001b[0m\u001b[0;34m\u001b[0m\u001b[0m\n\u001b[0m\u001b[1;32m      3\u001b[0m \u001b[0;34m\u001b[0m\u001b[0m\n\u001b[1;32m      4\u001b[0m \u001b[0mcount\u001b[0m \u001b[0;34m=\u001b[0m \u001b[0;36m0\u001b[0m\u001b[0;34m\u001b[0m\u001b[0m\n\u001b[1;32m      5\u001b[0m \u001b[0;32mfor\u001b[0m \u001b[0ma\u001b[0m \u001b[0;32min\u001b[0m \u001b[0mrange\u001b[0m\u001b[0;34m(\u001b[0m\u001b[0mN\u001b[0m\u001b[0;34m-\u001b[0m\u001b[0;36m1\u001b[0m\u001b[0;34m,\u001b[0m \u001b[0;36m1\u001b[0m\u001b[0;34m)\u001b[0m\u001b[0;34m:\u001b[0m\u001b[0;34m\u001b[0m\u001b[0m\n",
      "\u001b[0;31mValueError\u001b[0m: not enough values to unpack (expected 2, got 0)"
     ]
    }
   ],
   "source": [
    "# C - Triangular Relationship\n",
    "N, K = list(map(int, input().split()))\n",
    "\n",
    "count = 0\n",
    "for a in range(N-1, 1):\n",
    "    for b in range(N- a -1):\n",
    "        c = N - a - b\n",
    "        if(a+b % K == 0 and a+c % K == 0 and b + c % K ==0):\n",
    "            count += 1\n",
    "print(count)"
   ]
  },
  {
   "cell_type": "markdown",
   "metadata": {},
   "source": [
    "AtCoder Beginner Contest 107\n"
   ]
  },
  {
   "cell_type": "code",
   "execution_count": 46,
   "metadata": {},
   "outputs": [
    {
     "name": "stdout",
     "output_type": "stream",
     "text": [
      "4 4\n",
      "##.#\n",
      "....\n",
      "##.#\n",
      ".#.#\n"
     ]
    },
    {
     "ename": "IndexError",
     "evalue": "index 1 is out of bounds for axis 1 with size 1",
     "output_type": "error",
     "traceback": [
      "\u001b[0;31m---------------------------------------------------------------------------\u001b[0m",
      "\u001b[0;31mIndexError\u001b[0m                                Traceback (most recent call last)",
      "\u001b[0;32m<ipython-input-46-20bf140f0f60>\u001b[0m in \u001b[0;36m<module>\u001b[0;34m()\u001b[0m\n\u001b[1;32m     15\u001b[0m \u001b[0mexist\u001b[0m \u001b[0;34m=\u001b[0m \u001b[0;34m[\u001b[0m\u001b[0;34m]\u001b[0m\u001b[0;34m\u001b[0m\u001b[0m\n\u001b[1;32m     16\u001b[0m \u001b[0;32mfor\u001b[0m \u001b[0mx\u001b[0m \u001b[0;32min\u001b[0m \u001b[0mrange\u001b[0m\u001b[0;34m(\u001b[0m\u001b[0mW\u001b[0m\u001b[0;34m)\u001b[0m\u001b[0;34m:\u001b[0m\u001b[0;34m\u001b[0m\u001b[0m\n\u001b[0;32m---> 17\u001b[0;31m     \u001b[0;32mif\u001b[0m \u001b[0mall\u001b[0m\u001b[0;34m(\u001b[0m\u001b[0ma\u001b[0m\u001b[0;34m[\u001b[0m\u001b[0;34m:\u001b[0m\u001b[0;34m,\u001b[0m \u001b[0mx\u001b[0m\u001b[0;34m]\u001b[0m\u001b[0;34m)\u001b[0m \u001b[0;34m==\u001b[0m \u001b[0;34m\".\"\u001b[0m\u001b[0;34m:\u001b[0m\u001b[0;34m\u001b[0m\u001b[0m\n\u001b[0m\u001b[1;32m     18\u001b[0m         \u001b[0;32mpass\u001b[0m\u001b[0;34m\u001b[0m\u001b[0m\n\u001b[1;32m     19\u001b[0m     \u001b[0;32melse\u001b[0m\u001b[0;34m:\u001b[0m\u001b[0;34m\u001b[0m\u001b[0m\n",
      "\u001b[0;31mIndexError\u001b[0m: index 1 is out of bounds for axis 1 with size 1"
     ]
    }
   ],
   "source": [
    "# B - Grid Compression\n",
    "H, W = list(map(int, input().split()))\n",
    "a = np.array([input() for i in range(H)])\n",
    "\n",
    "exist = []\n",
    "for y in range(H):\n",
    "    if all(a[y, :]) == \".\":\n",
    "        #white_col.append(y)\n",
    "        pass\n",
    "    else:\n",
    "        exist.append(a[y, :])\n",
    "H = len(exist)\n",
    "\n",
    "a = np.array(exist)\n",
    "exist = []\n",
    "for x in range(W):\n",
    "    if all(a[:, x]) == \".\":\n",
    "        pass\n",
    "    else:\n",
    "        exist.append(a[:, x])\n",
    "        \n",
    "a = np.array(exist)\n",
    "\n",
    "for i in range(H):\n",
    "    print(a[i])\n"
   ]
  },
  {
   "cell_type": "code",
   "execution_count": null,
   "metadata": {},
   "outputs": [],
   "source": [
    "# C - Candles\n",
    "N,K = map(int, input().split())\n",
    "x =  list(map(int, input().split()))\n",
    "\n",
    "shortest = float(\"inf\")\n",
    "for i in range(N - K + 1):\n",
    "    left = x[i]\n",
    "    right = x[i + K - 1]\n",
    "    left_first = abs(left) + abs(left - right)\n",
    "    right_first =  abs(right) + abs(left - right)\n",
    "    shortest = min(shortest, left_first, right_first)\n",
    "print(shortest)"
   ]
  },
  {
   "cell_type": "markdown",
   "metadata": {},
   "source": [
    "AtCoder Beginner Contest 106"
   ]
  },
  {
   "cell_type": "code",
   "execution_count": 59,
   "metadata": {},
   "outputs": [
    {
     "name": "stdout",
     "output_type": "stream",
     "text": [
      "2\n",
      "0\n",
      "ss\n"
     ]
    }
   ],
   "source": [
    "# B - 105\n",
    "N = int(input())\n",
    "if(N < 105):\n",
    "    print(0)"
   ]
  },
  {
   "cell_type": "code",
   "execution_count": 27,
   "metadata": {},
   "outputs": [
    {
     "data": {
      "text/plain": [
       "array([1, 2, 3])"
      ]
     },
     "execution_count": 27,
     "metadata": {},
     "output_type": "execute_result"
    }
   ],
   "source": [
    "# C - To Infinity\n",
    "import numpy as np\n",
    "np.sort([2,3,1])[0:]"
   ]
  },
  {
   "cell_type": "code",
   "execution_count": 45,
   "metadata": {},
   "outputs": [
    {
     "data": {
      "text/plain": [
       "2"
      ]
     },
     "execution_count": 45,
     "metadata": {},
     "output_type": "execute_result"
    }
   ],
   "source": [
    "a = np.array([1,1,2,3])\n",
    "np.sum(a==1)"
   ]
  },
  {
   "cell_type": "code",
   "execution_count": 76,
   "metadata": {},
   "outputs": [
    {
     "name": "stdout",
     "output_type": "stream",
     "text": [
      "2\n",
      "1\n",
      "5\n",
      "4\n"
     ]
    }
   ],
   "source": [
    "#tenka1 C\n",
    "import numpy as np\n",
    "N = int(input())\n",
    "a = np.sort(np.array([int(input()) for i in range(N)]))\n",
    "\n",
    "\n",
    "max_a = np.max(a)\n",
    "min_a = np.min(a)\n",
    "\n",
    "max_kazu = np.sum(a==max_a)\n",
    "min_kazu = np.sum(a==min_a)\n",
    "\n",
    "route = []\n",
    "\n",
    "i = 0\n",
    "while(len(a)>1):\n",
    "    if (max_kazu >= min_kazu):\n",
    "        if(i %2 == 0):\n",
    "            route.append(a[-1])\n",
    "            a = a[:-1]\n",
    "        else:\n",
    "            route.append(a[0])\n",
    "            a = a[1:]\n",
    "    else:\n",
    "        if(i %2 == 1):\n",
    "            route.append(a[-1])\n",
    "            a = a[:-1]\n",
    "        else:\n",
    "            route.append(a[0])\n",
    "            a = a[1:]\n",
    "    i+=1\n",
    "#route = route[-1::-1]\n",
    "if (abs(route[-1]-a[0]) >= abs(route[0]-a[0])):\n",
    "    route.append(a[0])\n",
    "else:\n",
    "    route.insert(0, a[0])\n",
    "\n",
    "\n",
    "all_sum = 0\n",
    "for i in range(len(route)):\n",
    "    if i == len(route)-1:\n",
    "        break\n",
    "    all_sum+= abs(route[i+1]-route[i])\n",
    "\n",
    "print(all_sum)\n",
    "\n",
    "\n",
    "\n",
    "\n"
   ]
  },
  {
   "cell_type": "markdown",
   "metadata": {},
   "source": [
    "# a = [1,2,3]\n",
    "a.stack(1)"
   ]
  },
  {
   "cell_type": "code",
   "execution_count": null,
   "metadata": {},
   "outputs": [],
   "source": [
    "#tenka1 D\n",
    "N = int(input())\n",
    "\n",
    "if N*(N-1)/2 "
   ]
  },
  {
   "cell_type": "code",
   "execution_count": 31,
   "metadata": {},
   "outputs": [
    {
     "data": {
      "text/plain": [
       "2"
      ]
     },
     "execution_count": 31,
     "metadata": {},
     "output_type": "execute_result"
    }
   ],
   "source": [
    "round(3/2)"
   ]
  },
  {
   "cell_type": "code",
   "execution_count": 7,
   "metadata": {},
   "outputs": [
    {
     "name": "stdout",
     "output_type": "stream",
     "text": [
      "abc\n",
      "cba\n"
     ]
    }
   ],
   "source": [
    "#tenka1 A\n",
    "\n",
    "S = input()\n",
    "if(len(S)==2):\n",
    "    print(S)\n",
    "else:\n",
    "    print(S[-1::-1])\n"
   ]
  },
  {
   "cell_type": "code",
   "execution_count": 25,
   "metadata": {},
   "outputs": [
    {
     "name": "stdout",
     "output_type": "stream",
     "text": [
      "3 3 3\n",
      "1 3\n"
     ]
    }
   ],
   "source": [
    "#tenka1 B\n",
    "A,B,K = map(int, input().split())\n",
    "for i in range(K):\n",
    "    if (i %2 == 0):\n",
    "        if(not A % 2 == 0):\n",
    "            A -= 1\n",
    "            B += A/2\n",
    "            A /= 2\n",
    "        else:\n",
    "            B += A/2\n",
    "            A /= 2\n",
    "    else:\n",
    "        if(not B % 2 == 0):\n",
    "            B -= 1\n",
    "            A += B/2\n",
    "            B /= 2\n",
    "        else:\n",
    "            A += B/2\n",
    "            B /= 2\n",
    "\n",
    "print(\"{} {}\".format(int(A),int(B)))"
   ]
  },
  {
   "cell_type": "code",
   "execution_count": 22,
   "metadata": {},
   "outputs": [
    {
     "data": {
      "text/plain": [
       "1"
      ]
     },
     "execution_count": 22,
     "metadata": {},
     "output_type": "execute_result"
    }
   ],
   "source": [
    "1 % 2"
   ]
  },
  {
   "cell_type": "code",
   "execution_count": 3,
   "metadata": {},
   "outputs": [
    {
     "name": "stdout",
     "output_type": "stream",
     "text": [
      "81 58\n",
      "110\n"
     ]
    }
   ],
   "source": [
    "#ABC 113\n",
    "# A\n",
    "X,Y = map(int, input().split())\n",
    "\n",
    "print(int(X + Y/2))"
   ]
  },
  {
   "cell_type": "code",
   "execution_count": 29,
   "metadata": {},
   "outputs": [
    {
     "name": "stdout",
     "output_type": "stream",
     "text": [
      "2\n",
      "12 5\n",
      "1000 2000\n",
      "1\n"
     ]
    }
   ],
   "source": [
    "#B - Palace\n",
    "import numpy as np\n",
    "N = int(input())\n",
    "T,A = map(int, input().split())\n",
    "H =  list(map(int, input().split()))\n",
    "\n",
    "temp = np.argsort([abs(A - (T-h*0.006)) for h in H])[0]\n",
    "print(temp+1)"
   ]
  },
  {
   "cell_type": "code",
   "execution_count": 31,
   "metadata": {},
   "outputs": [
    {
     "name": "stdout",
     "output_type": "stream",
     "text": [
      "2 3\n",
      "1 32\n",
      "2 63\n",
      "1 12\n",
      "000001000002\n",
      "000002000001\n",
      "000001000001\n"
     ]
    }
   ],
   "source": [
    "#C - ID\n",
    "import numpy as np\n",
    "\n",
    "N,M = map(int, input().split())\n",
    "py = [[int(i) for i in input().split()] for i in range(M)]\n",
    "\n",
    "pref_dic = {}\n",
    "for i in range(N):\n",
    "    pref_dic[i+1] = []\n",
    "for e,index in zip(py, range(M)):\n",
    "    pref = e[0]\n",
    "    year = e[1]\n",
    "    \n",
    "    pref_dic[pref].append((index, year))\n",
    "        \n",
    "city_num_dic = {}\n",
    "for pref in pref_dic.keys():\n",
    "    pref_string = str(pref)\n",
    "    if len(pref_string) < 6:\n",
    "        while len(pref_string) < 6:\n",
    "            pref_string = \"0\" + pref_string\n",
    "    \n",
    "    in_year_list = np.array(pref_dic[pref])\n",
    "    if len(in_year_list) == 0:\n",
    "        continue\n",
    "    \n",
    "    year_ =  in_year_list[:, 1]\n",
    "    city_ = in_year_list[:, 0]\n",
    "    \n",
    "    hayaijun_ind = np.argsort(year_)\n",
    "    for index, i in zip(hayaijun_ind, range(len(hayaijun_ind))):\n",
    "        city_name = city_[index]\n",
    "        num = str(i+1)\n",
    "        if len(num) < 6:\n",
    "            while len(num) < 6:\n",
    "                num = \"0\" + num\n",
    "        city_num_dic[city_name] = pref_string + num\n",
    "\n",
    "\n",
    "for city in np.sort(list(city_num_dic.keys())):\n",
    "    print(city_num_dic[city])"
   ]
  },
  {
   "cell_type": "code",
   "execution_count": null,
   "metadata": {},
   "outputs": [],
   "source": [
    "#D - amidakuji\n",
    "\n",
    "H,W,K = map(int, input().split())\n",
    "\n"
   ]
  },
  {
   "cell_type": "code",
   "execution_count": null,
   "metadata": {},
   "outputs": [],
   "source": []
  },
  {
   "cell_type": "code",
   "execution_count": null,
   "metadata": {},
   "outputs": [],
   "source": []
  },
  {
   "cell_type": "code",
   "execution_count": null,
   "metadata": {},
   "outputs": [],
   "source": []
  },
  {
   "cell_type": "code",
   "execution_count": 1,
   "metadata": {},
   "outputs": [],
   "source": [
    "# CADDi 2018 fr beginners\n",
    "import numpy as np"
   ]
  },
  {
   "cell_type": "code",
   "execution_count": 2,
   "metadata": {},
   "outputs": [
    {
     "name": "stdout",
     "output_type": "stream",
     "text": [
      "1223\n",
      "2\n"
     ]
    }
   ],
   "source": [
    "N = input()\n",
    "c = 0\n",
    "for n in N:\n",
    "    if n==\"2\":\n",
    "        c+=1\n",
    "print(c)"
   ]
  },
  {
   "cell_type": "code",
   "execution_count": 11,
   "metadata": {},
   "outputs": [
    {
     "name": "stdout",
     "output_type": "stream",
     "text": [
      "3 5 2\n",
      "10 3\n",
      "5 2\n",
      "2 5\n",
      "2\n"
     ]
    }
   ],
   "source": [
    "N,H,W = map(int, input().split())\n",
    "c=0\n",
    "for _ in  range(N):\n",
    "    try:\n",
    "        listA=list(map(int,input().split()))\n",
    "        A,B = listA[0], listA[1]\n",
    "        \n",
    "        if H <= A and W <= B:\n",
    "            c+=1\n",
    "    except:\n",
    "        break;\n",
    "print(c)"
   ]
  },
  {
   "cell_type": "code",
   "execution_count": null,
   "metadata": {},
   "outputs": [],
   "source": []
  },
  {
   "cell_type": "code",
   "execution_count": null,
   "metadata": {},
   "outputs": [
    {
     "name": "stdout",
     "output_type": "stream",
     "text": [
      "4 972439611840\n"
     ]
    }
   ],
   "source": [
    "import numpy as np\n",
    "import itertools\n",
    "N, P = map(int, input().split())\n",
    "\n",
    "#約数列挙\n",
    "yakusu = []\n",
    "for i in range(1, int(np.sqrt(P))+1):\n",
    "    if P % i == 0:\n",
    "        yakusu.append(i)\n",
    "        yakusu.append(int(P/i))\n",
    "# print(\"yakusu\", sorted(yakusu)[-1::-1])\n",
    "\n",
    "# 最大公約数はyakusuの中のいずれか.\n",
    "for y in sorted(yakusu):\n",
    "    if y == 1:\n",
    "        best=1\n",
    "        continue\n",
    "    \n",
    "    kouho = np.arange(y, P+1, y)\n",
    "    if len(kouho) < N:\n",
    "        continue\n",
    "\n",
    "    if y**N > P:\n",
    "        continue\n",
    "        \n",
    "    for lis in list(itertools.combinations_with_replacement(kouho, N)):\n",
    "        if np.prod(lis) == P:\n",
    "            best = y\n",
    "            break\n",
    "        elif np.prod(lis) > P:\n",
    "            break\n",
    "print(best)"
   ]
  },
  {
   "cell_type": "code",
   "execution_count": null,
   "metadata": {},
   "outputs": [],
   "source": [
    "# N = int(input())\n",
    "a_list = [int(input()) for _ in range(N)]\n"
   ]
  },
  {
   "cell_type": "code",
   "execution_count": 19,
   "metadata": {},
   "outputs": [
    {
     "data": {
      "text/plain": [
       "1430772380096798895335358484205526577657675776"
      ]
     },
     "execution_count": 19,
     "metadata": {},
     "output_type": "execute_result"
    }
   ],
   "source": [
    "194487922368**4"
   ]
  },
  {
   "cell_type": "code",
   "execution_count": null,
   "metadata": {},
   "outputs": [],
   "source": []
  },
  {
   "cell_type": "code",
   "execution_count": null,
   "metadata": {},
   "outputs": [],
   "source": []
  },
  {
   "cell_type": "code",
   "execution_count": null,
   "metadata": {},
   "outputs": [],
   "source": []
  },
  {
   "cell_type": "code",
   "execution_count": 3,
   "metadata": {},
   "outputs": [
    {
     "name": "stdout",
     "output_type": "stream",
     "text": [
      "7\n",
      "18\n"
     ]
    }
   ],
   "source": [
    "# ABC116\n",
    "# B\n",
    "import numpy as np\n",
    "s = int(input())\n",
    "\n",
    "a = s\n",
    "idx = 1\n",
    "a_list = [a]\n",
    "while(idx < 1000000):\n",
    "    idx += 1\n",
    "    if a % 2 == 0:\n",
    "        a = int(a / 2)\n",
    "    else:\n",
    "        a = 3*a+1\n",
    "    if a in a_list:\n",
    "        print(idx)\n",
    "        break\n",
    "    else:\n",
    "        a_list.append(a)"
   ]
  },
  {
   "cell_type": "code",
   "execution_count": 38,
   "metadata": {},
   "outputs": [
    {
     "name": "stdout",
     "output_type": "stream",
     "text": [
      "8\n",
      "4 23 75 0 23 96 50 100\n",
      "221\n"
     ]
    }
   ],
   "source": [
    "# ABC116\n",
    "# C\n",
    "import numpy as np\n",
    "N = int(input())\n",
    "h_list = list(map(int, input().split()))\n",
    "\n",
    "def shorten(idx_list, current_h):\n",
    "    for idx in idx_list:\n",
    "        current_h[idx] -= 1\n",
    "    return current_h\n",
    "\n",
    "def get_highest_idx(current_h):\n",
    "    max_h = np.max(current_h)\n",
    "    max_flower_idx = []\n",
    "    for idx, h in enumerate(current_h):\n",
    "        if h == max_h:\n",
    "            max_flower_idx.append(idx)\n",
    "    return max_flower_idx\n",
    "\n",
    "ans = 0\n",
    "while(np.max(h_list) > 0):\n",
    "    highest_idx_list = get_highest_idx(h_list)\n",
    "    mizunuki_idx = []\n",
    "    \n",
    "    for i, idx in enumerate(highest_idx_list):\n",
    "        hight = h_list[idx]\n",
    "        if i==len(highest_idx_list)-1:\n",
    "            break\n",
    "        else:\n",
    "            if idx+1 == highest_idx_list[i+1]:\n",
    "                j = 0\n",
    "                while(True):\n",
    "                    try:\n",
    "                        if idx+j == highest_idx_list[i+j]:\n",
    "                            j += 1\n",
    "                        else:\n",
    "                            break\n",
    "                    except:\n",
    "                        break\n",
    "\n",
    "                mizunuki = np.array(highest_idx_list)[np.arange(i, i+j,1)]\n",
    "                mizunuki_idx.append(mizunuki)\n",
    "    if len(mizunuki_idx) == 0:\n",
    "        mizunuki_ = [highest_idx_list[0]]\n",
    "    else:\n",
    "        mizunuki_ = mizunuki_idx[0]\n",
    "    \n",
    "    new_h = shorten(mizunuki_, h_list)\n",
    "    h_list = new_h\n",
    "    ans += 1\n",
    "    \n",
    "print(ans)\n",
    "    \n",
    "                    \n",
    "    \n"
   ]
  },
  {
   "cell_type": "code",
   "execution_count": 65,
   "metadata": {},
   "outputs": [
    {
     "name": "stdout",
     "output_type": "stream",
     "text": [
      "6 5\n",
      "5 1000000000\n",
      "2 990000000\n",
      "3 980000000\n",
      "6 970000000\n",
      "6 960000000\n",
      "4 950000000\n",
      "4900000016\n"
     ]
    }
   ],
   "source": [
    "import numpy as np\n",
    "import heapq\n",
    "import copy\n",
    "\n",
    "N, K = list(map(int, input().split()))\n",
    "t_list, d_list = [], []\n",
    "for _ in range(N):\n",
    "    t_, d_ = list(map(int, input().split()))\n",
    "    t_list.append(t_)\n",
    "    d_list.append(d_)\n",
    "    \n",
    "# Sort by delicoiousness.\n",
    "c = zip(t_list, d_list)\n",
    "c = sorted(c, key=lambda x: x[1])[-1::-1]\n",
    "t_list, d_list = zip(*c)\n",
    "\n",
    "first_sushi_set = []\n",
    "nokori_set = []\n",
    "\n",
    "iter_ = 0\n",
    "for neta, delicious in zip(t_list, d_list):\n",
    "    if iter_ < K:\n",
    "        heapq.heappush(first_sushi_set, (delicious, neta))\n",
    "    else:\n",
    "        heapq.heappush(nokori_set, (-delicious, neta))\n",
    "    iter_ += 1\n",
    "    \n",
    "first_neta_num = len(list(set(t_list[:K])))\n",
    "\n",
    "def get_next_sushi_set(current_sushi, nokori_sushi):\n",
    "    current_sushi_cp = copy.deepcopy(current_sushi)\n",
    "\n",
    "    while(len(current_sushi) > 0):\n",
    "        #種類数が減らないかつ一番美味しくない寿司を選ぶ\n",
    "        remove_sushi = heapq.heappop(current_sushi)\n",
    "        score, neta = remove_sushi\n",
    "        if len(current_sushi) == 0:\n",
    "            break\n",
    "        if neta in np.array(current_sushi)[:, 1]:\n",
    "            break\n",
    "        else:\n",
    "            pass\n",
    "        \n",
    "    current_sushi_cp.remove(remove_sushi)\n",
    "    heapq.heappush(nokori_sushi, (-score, neta))\n",
    "    nokori_sushi_cp = copy.deepcopy(nokori_sushi)\n",
    "\n",
    "    while(len(nokori_sushi) > 0):\n",
    "        #種類数が増えるかつ一番美味しい寿司を選ぶ\n",
    "        add_sushi = heapq.heappop(nokori_sushi)\n",
    "        negative_score, neta = add_sushi\n",
    "        score = - negative_score\n",
    "        if len(nokori_sushi) == 0:\n",
    "            break\n",
    "        if neta in np.array(current_sushi_cp)[:, 1]:\n",
    "            pass\n",
    "        else:\n",
    "            break        \n",
    "    heapq.heappush(current_sushi_cp, (score, neta))\n",
    "    nokori_sushi_cp.remove(add_sushi)\n",
    "            \n",
    "    return current_sushi_cp, nokori_sushi_cp\n",
    "        \n",
    "current_sushi_set = first_sushi_set\n",
    "nokori_sushi_set = nokori_set\n",
    "score_list = []\n",
    "for neta_num in range(first_neta_num, N+1, 1):\n",
    "    score =  len(set(np.array(current_sushi_set)[:, 1]))**2 + sum(np.array(current_sushi_set)[:, 0])\n",
    "    score_list.append(score)\n",
    "    current_sushi_set, nokori_sushi_set = get_next_sushi_set(current_sushi_set, nokori_sushi_set)\n",
    "print(max(score_list))"
   ]
  },
  {
   "cell_type": "code",
   "execution_count": 62,
   "metadata": {},
   "outputs": [
    {
     "data": {
      "text/plain": [
       "[26, 25, 32, 41]"
      ]
     },
     "execution_count": 62,
     "metadata": {},
     "output_type": "execute_result"
    }
   ],
   "source": [
    "score_list"
   ]
  },
  {
   "cell_type": "code",
   "execution_count": 41,
   "metadata": {},
   "outputs": [
    {
     "name": "stdout",
     "output_type": "stream",
     "text": [
      "1 49\n",
      "2 30\n",
      "3 15\n"
     ]
    },
    {
     "data": {
      "text/plain": [
       "[(15, 3), (49, 1), (30, 2)]"
      ]
     },
     "execution_count": 41,
     "metadata": {},
     "output_type": "execute_result"
    }
   ],
   "source": [
    "import heapq\n",
    "h = []\n",
    "for neta, delicious in zip(t_list, d_list):\n",
    "    print(neta, delicious)\n",
    "    heapq.heappush(h, (delicious, neta))\n",
    "h"
   ]
  },
  {
   "cell_type": "code",
   "execution_count": 42,
   "metadata": {},
   "outputs": [
    {
     "data": {
      "text/plain": [
       "[(49, 1), (30, 2)]"
      ]
     },
     "execution_count": 42,
     "metadata": {},
     "output_type": "execute_result"
    }
   ],
   "source": [
    "h.remove((15,3))\n",
    "h"
   ]
  },
  {
   "cell_type": "code",
   "execution_count": 24,
   "metadata": {},
   "outputs": [
    {
     "data": {
      "text/plain": [
       "(15, 1)"
      ]
     },
     "execution_count": 24,
     "metadata": {},
     "output_type": "execute_result"
    }
   ],
   "source": [
    "heapq.heappop(h)"
   ]
  },
  {
   "cell_type": "code",
   "execution_count": 25,
   "metadata": {},
   "outputs": [
    {
     "data": {
      "text/plain": [
       "(20, 2)"
      ]
     },
     "execution_count": 25,
     "metadata": {},
     "output_type": "execute_result"
    }
   ],
   "source": [
    "heapq.heappop(h)"
   ]
  },
  {
   "cell_type": "code",
   "execution_count": 5,
   "metadata": {},
   "outputs": [
    {
     "name": "stdout",
     "output_type": "stream",
     "text": [
      "100 100 100\n",
      "100 100\n"
     ]
    }
   ],
   "source": [
    "# NIKKEI\n",
    "N, A, B = map(int, input().split())\n",
    "\n",
    "bigger = max(A, B)\n",
    "neither = N - bigger\n",
    "max_ = A+B+neither-N\n",
    "if A+B > N:\n",
    "    min_ = A+B - N\n",
    "else:\n",
    "    min_ = 0\n",
    "print(\"{} {}\".format(max_, min_))\n"
   ]
  },
  {
   "cell_type": "code",
   "execution_count": 12,
   "metadata": {},
   "outputs": [
    {
     "name": "stdout",
     "output_type": "stream",
     "text": [
      "9\n",
      "as\n",
      "as\n",
      "as\n",
      "0\n",
      "0\n"
     ]
    }
   ],
   "source": [
    "N = int(input())\n",
    "A = input()\n",
    "B = input()\n",
    "C = input()\n",
    "if A == B == C:\n",
    "    print(0)\n",
    "else:\n",
    "    count = 0\n",
    "    for a, b, c in zip(A,B,C):\n",
    "        if a == b == c:\n",
    "            pass\n",
    "        elif a == b and not a==c:\n",
    "            count += 1\n",
    "        elif a ==c and not a == b:\n",
    "            count += 1\n",
    "        elif b == c and not a == b:\n",
    "            count += 1\n",
    "        else:\n",
    "            count += 2\n",
    "    print(count)"
   ]
  },
  {
   "cell_type": "code",
   "execution_count": 27,
   "metadata": {},
   "outputs": [
    {
     "name": "stdout",
     "output_type": "stream",
     "text": [
      "3\n",
      "20 10\n",
      "20 20\n",
      "20 30\n",
      "takahasi 20 30\n",
      "aoki 20 10\n",
      "takahasi 20 20\n",
      "30\n"
     ]
    }
   ],
   "source": [
    "# C\n",
    "import numpy as np\n",
    "N = int(input())\n",
    "a_list, b_list = [], []\n",
    "diff_list = []\n",
    "for i in range(N):\n",
    "    a, b = map(int, input().split())\n",
    "    a_list.append(a)\n",
    "    b_list.append(b)\n",
    "    diff_list.append(a-b)\n",
    "a_list = np.asarray(a_list)\n",
    "b_list = np.asarray(b_list)\n",
    "diff_list = np.asarray(diff_list)\n",
    "    \n",
    "aoki = []\n",
    "taka = []\n",
    "def aoki_act(current_b, diff):\n",
    "    if len(list(set(diff))) == 1:\n",
    "        idx = np.argmax(current_b)\n",
    "    else:\n",
    "        best = np.max(-diff)\n",
    "        worst = np.min(-diff)\n",
    "        if best > abs(best):\n",
    "            idx = np.argmax(-diff)\n",
    "        else:\n",
    "            idx = np.argmin(-diff)\n",
    "    return idx\n",
    "def taka_act(current_a, diff):\n",
    "    if len(list(set(diff))) == 1:\n",
    "        idx = np.argmax(current_a)\n",
    "    else:\n",
    "        best = np.max(diff)\n",
    "        worst = np.min(diff)\n",
    "        if best > abs(best):\n",
    "            idx = np.argmax(diff)\n",
    "        else:\n",
    "            idx = np.argmin(diff)\n",
    "    return idx\n",
    "\n",
    "while(len(a_list) > 0):\n",
    "#     print(a_list, b_list)\n",
    "    taka_idx = taka_act(a_list, diff_list)\n",
    "    print(\"takahasi\", a_list[taka_idx], b_list[taka_idx])\n",
    "    taka.append(a_list[taka_idx])\n",
    "    a_list = np.delete(a_list, taka_idx)\n",
    "    b_list = np.delete(b_list, taka_idx)\n",
    "    diff_list = np.delete(diff_list, taka_idx)\n",
    "#     print(a_list, b_list)\n",
    "\n",
    "    if len(a_list) == 0:\n",
    "        break\n",
    "    \n",
    "    aoki_idx = aoki_act(b_list, diff_list)\n",
    "    print(\"aoki\", a_list[aoki_idx], b_list[aoki_idx])\n",
    "    aoki.append(b_list[aoki_idx])\n",
    "    a_list = np.delete(a_list, aoki_idx)\n",
    "    b_list = np.delete(b_list, aoki_idx)\n",
    "    diff_list = np.delete(diff_list, aoki_idx)\n",
    "#     print(a_list, b_list)\n",
    "\n",
    "    \n",
    "print(sum(taka) - sum(aoki))\n",
    "\n",
    "    \n"
   ]
  },
  {
   "cell_type": "code",
   "execution_count": 22,
   "metadata": {},
   "outputs": [
    {
     "data": {
      "text/plain": [
       "[1, 1, 1]"
      ]
     },
     "execution_count": 22,
     "metadata": {},
     "output_type": "execute_result"
    }
   ],
   "source": [
    "aoki"
   ]
  },
  {
   "cell_type": "code",
   "execution_count": null,
   "metadata": {},
   "outputs": [],
   "source": []
  },
  {
   "cell_type": "code",
   "execution_count": 1,
   "metadata": {},
   "outputs": [
    {
     "name": "stdout",
     "output_type": "stream",
     "text": [
      "4 12\n",
      "16\n"
     ]
    }
   ],
   "source": [
    "# ABC 118\n",
    "import numpy as np\n",
    "\n",
    "A, B = map(int, input().split())\n",
    "\n",
    "if B % A == 0:\n",
    "    print(A+B)\n",
    "else:\n",
    "    print(B-A)"
   ]
  },
  {
   "cell_type": "code",
   "execution_count": 13,
   "metadata": {},
   "outputs": [
    {
     "name": "stdout",
     "output_type": "stream",
     "text": [
      "1 30\n",
      "3 5 10 30\n",
      "3\n"
     ]
    }
   ],
   "source": [
    "import numpy as np\n",
    "\n",
    "N, M = map(int, input().split())\n",
    "A_list = [list(map(int, input().split()))[1:] for _ in range(N)]\n",
    "\n",
    "current = set(A_list[0])\n",
    "for foods in A_list:\n",
    "    foods = set(foods)\n",
    "    current = current & foods\n",
    "print(len(list(current)))\n",
    "            "
   ]
  },
  {
   "cell_type": "code",
   "execution_count": 68,
   "metadata": {},
   "outputs": [
    {
     "name": "stdout",
     "output_type": "stream",
     "text": [
      "4\n",
      "5 13 8 1000000\n",
      "1\n"
     ]
    }
   ],
   "source": [
    "import numpy as np\n",
    "\n",
    "N = input()\n",
    "A_list= list(map(int, input().split()))\n",
    "min_ = np.min(A_list)\n",
    "\n",
    "\n",
    "while(True):\n",
    "    minima = 100000\n",
    "    flag = False\n",
    "    for life in A_list:\n",
    "        amari = life % min_\n",
    "        if amari == 0:\n",
    "            continue\n",
    "        elif amari < minima:\n",
    "            minima = amari\n",
    "            flag = True\n",
    "    if flag:\n",
    "        min_ = minima\n",
    "        additional = []\n",
    "        for idx,life in enumerate(A_list):\n",
    "            if life == min_:\n",
    "                pass\n",
    "            else:\n",
    "                save = [life]\n",
    "                while(True):\n",
    "                    if save[-1]-min_ > 0:\n",
    "                        save.append(save[-1]-min_)\n",
    "                    else:\n",
    "                        break\n",
    "        A_list.extend(save[1:])\n",
    "    if not flag or np.min(A_list)==1:\n",
    "        if np.min(A_list)==1:\n",
    "            min_ = 1\n",
    "        break\n",
    "print(min_)"
   ]
  },
  {
   "cell_type": "code",
   "execution_count": 61,
   "metadata": {},
   "outputs": [
    {
     "name": "stdout",
     "output_type": "stream",
     "text": [
      "3\n",
      "100 100 100\n",
      "100\n"
     ]
    }
   ],
   "source": [
    "import numpy as np\n",
    "\n",
    "N = int(input())\n",
    "A_list= sorted(list(map(int, input().split())))[-1::-1]\n",
    "\n",
    "while(True):\n",
    "    residual = []\n",
    "    for idx, A in enumerate(A_list):\n",
    "        if idx == N-1:\n",
    "            continue\n",
    "        else:\n",
    "            residual.append(A_list[idx] - A_list[idx+1])\n",
    "    minimum_idx = np.argmin(residual)\n",
    "    if A_list[minimum_idx] > A_list[minimum_idx+1]:\n",
    "        bigger = minimum_idx\n",
    "        smaller = minimum_idx+1\n",
    "    else:\n",
    "        bigger = minimum_idx+1\n",
    "        smaller = minimum_idx\n",
    "#     print(bigger, smaller, A_list, residual)\n",
    "        \n",
    "    if A_list[smaller] == 0:\n",
    "        break\n",
    "        \n",
    "    A_list[bigger] = A_list[bigger] - A_list[smaller]\n",
    "    \n",
    "    \n",
    "print(np.max(A_list))\n",
    "    "
   ]
  },
  {
   "cell_type": "code",
   "execution_count": 22,
   "metadata": {},
   "outputs": [
    {
     "name": "stdout",
     "output_type": "stream",
     "text": [
      "2 3\n",
      "1\n"
     ]
    }
   ],
   "source": [
    "import numpy as np\n",
    "\n",
    "N, M = map(int, input().split())\n",
    "A_list= list(map(int, input().split()))\n",
    "\n",
    "match_require = {\n",
    "    1:2,2:5,3:5,4:4,5:5,6:6,7:3,8:7,9:6\n",
    "}\n",
    "\n"
   ]
  },
  {
   "cell_type": "code",
   "execution_count": 23,
   "metadata": {},
   "outputs": [
    {
     "data": {
      "text/plain": [
       "{1: 2, 2: 5, 3: 5, 4: 4, 5: 5, 6: 6, 7: 3, 8: 7, 9: 6}"
      ]
     },
     "execution_count": 23,
     "metadata": {},
     "output_type": "execute_result"
    }
   ],
   "source": [
    "match_require"
   ]
  },
  {
   "cell_type": "code",
   "execution_count": 16,
   "metadata": {},
   "outputs": [
    {
     "data": {
      "text/plain": [
       "True"
      ]
     },
     "execution_count": 16,
     "metadata": {},
     "output_type": "execute_result"
    }
   ],
   "source": [
    "a = [1,2,3]\n",
    "all(a) >0"
   ]
  },
  {
   "cell_type": "code",
   "execution_count": null,
   "metadata": {},
   "outputs": [],
   "source": []
  },
  {
   "cell_type": "code",
   "execution_count": 2,
   "metadata": {},
   "outputs": [
    {
     "name": "stdout",
     "output_type": "stream",
     "text": [
      "2019/05/00\n",
      "TBD\n"
     ]
    }
   ],
   "source": [
    "#ABC119\n",
    "S =  input()\n",
    "split = S.split(\"/\")\n",
    "if int(split[0]) >= 2020:\n",
    "    print(\"TBD\")\n",
    "elif int(split[0]) < 2019:\n",
    "    print(\"Heisei\")\n",
    "else:\n",
    "    if int(split[1]) < 5:\n",
    "        print(\"Heisei\")\n",
    "    else:\n",
    "        print(\"TBD\")\n",
    "    "
   ]
  },
  {
   "cell_type": "code",
   "execution_count": 5,
   "metadata": {},
   "outputs": [
    {
     "name": "stdout",
     "output_type": "stream",
     "text": [
      "2\n",
      "10000 JPY\n",
      "0.1 BTC\n",
      "48000.0\n"
     ]
    }
   ],
   "source": [
    "N = int(input())\n",
    "xu_list = [input().split() for _ in range(N)]\n",
    "\n",
    "ans = 0\n",
    "for content in xu_list:\n",
    "    x_ , u_ = content\n",
    "    if u_ == \"JPY\":\n",
    "        ans += int(x_)\n",
    "    else:\n",
    "        ans += float(x_) * 380000\n",
    "print(ans)"
   ]
  },
  {
   "cell_type": "code",
   "execution_count": 33,
   "metadata": {},
   "outputs": [
    {
     "name": "stdout",
     "output_type": "stream",
     "text": [
      "3 1 2 3\n",
      "1\n",
      "2\n",
      "3\n",
      "cur:2, a:0,b:0,c:0,ret0:10000000000.0, ret1:10000000010.0, ret2:10000000010.0, ret3:10000000010.0\n",
      "cur:2, a:2,b:0,c:0,ret0:10000000000.0, ret1:10000000010.0, ret2:10000000010.0, ret3:10000000010.0\n",
      "cur:2, a:0,b:2,c:0,ret0:10000000000.0, ret1:10000000010.0, ret2:10000000010.0, ret3:10000000010.0\n",
      "cur:2, a:0,b:0,c:2,ret0:10000000000.0, ret1:10000000010.0, ret2:10000000010.0, ret3:10000000010.0\n",
      "cur:1, a:0,b:0,c:0,ret0:10000000000.0, ret1:10000000010.0, ret2:10000000010.0, ret3:10000000010.0\n",
      "cur:2, a:3,b:0,c:0,ret0:10000000000.0, ret1:10000000010.0, ret2:10000000010.0, ret3:10000000010.0\n",
      "cur:2, a:5,b:0,c:0,ret0:10000000000.0, ret1:10000000010.0, ret2:10000000010.0, ret3:10000000010.0\n",
      "cur:2, a:3,b:2,c:0,ret0:10000000000.0, ret1:10000000010.0, ret2:10000000010.0, ret3:-16\n",
      "cur:2, a:3,b:0,c:2,ret0:10000000000.0, ret1:10000000010.0, ret2:-16, ret3:10000000010.0\n",
      "cur:1, a:3,b:0,c:0,ret0:10000000000.0, ret1:10000000010.0, ret2:-6, ret3:-6\n",
      "cur:2, a:0,b:3,c:0,ret0:10000000000.0, ret1:10000000010.0, ret2:10000000010.0, ret3:10000000010.0\n",
      "cur:2, a:2,b:3,c:0,ret0:10000000000.0, ret1:10000000010.0, ret2:10000000010.0, ret3:-16\n",
      "cur:2, a:0,b:5,c:0,ret0:10000000000.0, ret1:10000000010.0, ret2:10000000010.0, ret3:10000000010.0\n",
      "cur:2, a:0,b:3,c:2,ret0:10000000000.0, ret1:-18, ret2:10000000010.0, ret3:10000000010.0\n",
      "cur:1, a:0,b:3,c:0,ret0:10000000000.0, ret1:-6, ret2:10000000010.0, ret3:-8\n",
      "cur:2, a:0,b:0,c:3,ret0:10000000000.0, ret1:10000000010.0, ret2:10000000010.0, ret3:10000000010.0\n",
      "cur:2, a:2,b:0,c:3,ret0:10000000000.0, ret1:10000000010.0, ret2:-18, ret3:10000000010.0\n",
      "cur:2, a:0,b:2,c:3,ret0:10000000000.0, ret1:-20, ret2:10000000010.0, ret3:10000000010.0\n",
      "cur:2, a:0,b:0,c:5,ret0:10000000000.0, ret1:10000000010.0, ret2:10000000010.0, ret3:10000000010.0\n",
      "cur:1, a:0,b:0,c:3,ret0:10000000000.0, ret1:-8, ret2:-10, ret3:10000000010.0\n",
      "cur:0, a:0,b:0,c:0,ret0:10000000000.0, ret1:4, ret2:2, ret3:0\n",
      "0\n"
     ]
    }
   ],
   "source": [
    "N, A,B,C = map(int, input().split())\n",
    "l = sorted([int(input()) for _ in range(N)])[-1::-1]\n",
    "\n",
    "INF = 1e+10\n",
    "\n",
    "def dfs(cur, a, b, c):\n",
    "    if cur == N:\n",
    "#         print(\"a:{}, b:{}, c:{}\".format(a,b,c))\n",
    "        # 材料が何も使われないことを防ぐ為にa=b=c=0の時INFを返す\n",
    "        # 30は余分に数えているMP\n",
    "        return abs(a - A) + abs(b - B) + abs(c - C) - 30 if min(a, b, c) > 0 else INF\n",
    "    # cur本めを使わない場合\n",
    "    ret0 = dfs(cur + 1, a, b, c)\n",
    "    # cur本めをAに使う場合\n",
    "    ret1 = dfs(cur + 1, a + l[cur], b, c) + 10\n",
    "    # cur本めをBに使う場合\n",
    "    ret2 = dfs(cur + 1, a, b + l[cur], c) + 10\n",
    "    # cur本めをCに使う場合\n",
    "    ret3 = dfs(cur + 1, a, b, c + l[cur]) + 10\n",
    "    \n",
    "    print(\"cur:{}, a:{},b:{},c:{},ret0:{}, ret1:{}, ret2:{}, ret3:{}\".format(cur,a,b,c,ret0,ret1,ret2,ret3))\n",
    "    return min(ret0, ret1, ret2, ret3)\n",
    "\n",
    "print(dfs(0, 0, 0, 0))\n",
    "    "
   ]
  },
  {
   "cell_type": "code",
   "execution_count": 34,
   "metadata": {},
   "outputs": [
    {
     "ename": "KeyboardInterrupt",
     "evalue": "",
     "output_type": "error",
     "traceback": [
      "\u001b[0;31m---------------------------------------------------------------------------\u001b[0m",
      "\u001b[0;31mKeyboardInterrupt\u001b[0m                         Traceback (most recent call last)",
      "\u001b[0;32m/anaconda3/lib/python3.6/site-packages/ipykernel/kernelbase.py\u001b[0m in \u001b[0;36m_input_request\u001b[0;34m(self, prompt, ident, parent, password)\u001b[0m\n\u001b[1;32m    728\u001b[0m             \u001b[0;32mtry\u001b[0m\u001b[0;34m:\u001b[0m\u001b[0;34m\u001b[0m\u001b[0m\n\u001b[0;32m--> 729\u001b[0;31m                 \u001b[0mident\u001b[0m\u001b[0;34m,\u001b[0m \u001b[0mreply\u001b[0m \u001b[0;34m=\u001b[0m \u001b[0mself\u001b[0m\u001b[0;34m.\u001b[0m\u001b[0msession\u001b[0m\u001b[0;34m.\u001b[0m\u001b[0mrecv\u001b[0m\u001b[0;34m(\u001b[0m\u001b[0mself\u001b[0m\u001b[0;34m.\u001b[0m\u001b[0mstdin_socket\u001b[0m\u001b[0;34m,\u001b[0m \u001b[0;36m0\u001b[0m\u001b[0;34m)\u001b[0m\u001b[0;34m\u001b[0m\u001b[0m\n\u001b[0m\u001b[1;32m    730\u001b[0m             \u001b[0;32mexcept\u001b[0m \u001b[0mException\u001b[0m\u001b[0;34m:\u001b[0m\u001b[0;34m\u001b[0m\u001b[0m\n",
      "\u001b[0;32m/anaconda3/lib/python3.6/site-packages/jupyter_client/session.py\u001b[0m in \u001b[0;36mrecv\u001b[0;34m(self, socket, mode, content, copy)\u001b[0m\n\u001b[1;32m    802\u001b[0m         \u001b[0;32mtry\u001b[0m\u001b[0;34m:\u001b[0m\u001b[0;34m\u001b[0m\u001b[0m\n\u001b[0;32m--> 803\u001b[0;31m             \u001b[0mmsg_list\u001b[0m \u001b[0;34m=\u001b[0m \u001b[0msocket\u001b[0m\u001b[0;34m.\u001b[0m\u001b[0mrecv_multipart\u001b[0m\u001b[0;34m(\u001b[0m\u001b[0mmode\u001b[0m\u001b[0;34m,\u001b[0m \u001b[0mcopy\u001b[0m\u001b[0;34m=\u001b[0m\u001b[0mcopy\u001b[0m\u001b[0;34m)\u001b[0m\u001b[0;34m\u001b[0m\u001b[0m\n\u001b[0m\u001b[1;32m    804\u001b[0m         \u001b[0;32mexcept\u001b[0m \u001b[0mzmq\u001b[0m\u001b[0;34m.\u001b[0m\u001b[0mZMQError\u001b[0m \u001b[0;32mas\u001b[0m \u001b[0me\u001b[0m\u001b[0;34m:\u001b[0m\u001b[0;34m\u001b[0m\u001b[0m\n",
      "\u001b[0;32m/anaconda3/lib/python3.6/site-packages/zmq/sugar/socket.py\u001b[0m in \u001b[0;36mrecv_multipart\u001b[0;34m(self, flags, copy, track)\u001b[0m\n\u001b[1;32m    394\u001b[0m         \"\"\"\n\u001b[0;32m--> 395\u001b[0;31m         \u001b[0mparts\u001b[0m \u001b[0;34m=\u001b[0m \u001b[0;34m[\u001b[0m\u001b[0mself\u001b[0m\u001b[0;34m.\u001b[0m\u001b[0mrecv\u001b[0m\u001b[0;34m(\u001b[0m\u001b[0mflags\u001b[0m\u001b[0;34m,\u001b[0m \u001b[0mcopy\u001b[0m\u001b[0;34m=\u001b[0m\u001b[0mcopy\u001b[0m\u001b[0;34m,\u001b[0m \u001b[0mtrack\u001b[0m\u001b[0;34m=\u001b[0m\u001b[0mtrack\u001b[0m\u001b[0;34m)\u001b[0m\u001b[0;34m]\u001b[0m\u001b[0;34m\u001b[0m\u001b[0m\n\u001b[0m\u001b[1;32m    396\u001b[0m         \u001b[0;31m# have first part already, only loop while more to receive\u001b[0m\u001b[0;34m\u001b[0m\u001b[0;34m\u001b[0m\u001b[0m\n",
      "\u001b[0;32mzmq/backend/cython/socket.pyx\u001b[0m in \u001b[0;36mzmq.backend.cython.socket.Socket.recv\u001b[0;34m()\u001b[0m\n",
      "\u001b[0;32mzmq/backend/cython/socket.pyx\u001b[0m in \u001b[0;36mzmq.backend.cython.socket.Socket.recv\u001b[0;34m()\u001b[0m\n",
      "\u001b[0;32mzmq/backend/cython/socket.pyx\u001b[0m in \u001b[0;36mzmq.backend.cython.socket._recv_copy\u001b[0;34m()\u001b[0m\n",
      "\u001b[0;32m/anaconda3/lib/python3.6/site-packages/zmq/backend/cython/checkrc.pxd\u001b[0m in \u001b[0;36mzmq.backend.cython.checkrc._check_rc\u001b[0;34m()\u001b[0m\n",
      "\u001b[0;31mKeyboardInterrupt\u001b[0m: ",
      "\nDuring handling of the above exception, another exception occurred:\n",
      "\u001b[0;31mKeyboardInterrupt\u001b[0m                         Traceback (most recent call last)",
      "\u001b[0;32m<ipython-input-34-c24a2d86b496>\u001b[0m in \u001b[0;36m<module>\u001b[0;34m()\u001b[0m\n\u001b[0;32m----> 1\u001b[0;31m \u001b[0mN\u001b[0m\u001b[0;34m,\u001b[0m \u001b[0mA\u001b[0m\u001b[0;34m,\u001b[0m\u001b[0mB\u001b[0m\u001b[0;34m,\u001b[0m\u001b[0mC\u001b[0m \u001b[0;34m=\u001b[0m \u001b[0mmap\u001b[0m\u001b[0;34m(\u001b[0m\u001b[0mint\u001b[0m\u001b[0;34m,\u001b[0m \u001b[0minput\u001b[0m\u001b[0;34m(\u001b[0m\u001b[0;34m)\u001b[0m\u001b[0;34m.\u001b[0m\u001b[0msplit\u001b[0m\u001b[0;34m(\u001b[0m\u001b[0;34m)\u001b[0m\u001b[0;34m)\u001b[0m\u001b[0;34m\u001b[0m\u001b[0m\n\u001b[0m\u001b[1;32m      2\u001b[0m \u001b[0ml\u001b[0m \u001b[0;34m=\u001b[0m \u001b[0msorted\u001b[0m\u001b[0;34m(\u001b[0m\u001b[0;34m[\u001b[0m\u001b[0mint\u001b[0m\u001b[0;34m(\u001b[0m\u001b[0minput\u001b[0m\u001b[0;34m(\u001b[0m\u001b[0;34m)\u001b[0m\u001b[0;34m)\u001b[0m \u001b[0;32mfor\u001b[0m \u001b[0m_\u001b[0m \u001b[0;32min\u001b[0m \u001b[0mrange\u001b[0m\u001b[0;34m(\u001b[0m\u001b[0mN\u001b[0m\u001b[0;34m)\u001b[0m\u001b[0;34m]\u001b[0m\u001b[0;34m)\u001b[0m\u001b[0;34m[\u001b[0m\u001b[0;34m-\u001b[0m\u001b[0;36m1\u001b[0m\u001b[0;34m:\u001b[0m\u001b[0;34m:\u001b[0m\u001b[0;34m-\u001b[0m\u001b[0;36m1\u001b[0m\u001b[0;34m]\u001b[0m\u001b[0;34m\u001b[0m\u001b[0m\n\u001b[1;32m      3\u001b[0m \u001b[0;34m\u001b[0m\u001b[0m\n\u001b[1;32m      4\u001b[0m \u001b[0mINF\u001b[0m \u001b[0;34m=\u001b[0m \u001b[0;36m1e+10\u001b[0m\u001b[0;34m\u001b[0m\u001b[0m\n\u001b[1;32m      5\u001b[0m \u001b[0;34m\u001b[0m\u001b[0m\n",
      "\u001b[0;32m/anaconda3/lib/python3.6/site-packages/ipykernel/kernelbase.py\u001b[0m in \u001b[0;36mraw_input\u001b[0;34m(self, prompt)\u001b[0m\n\u001b[1;32m    702\u001b[0m             \u001b[0mself\u001b[0m\u001b[0;34m.\u001b[0m\u001b[0m_parent_ident\u001b[0m\u001b[0;34m,\u001b[0m\u001b[0;34m\u001b[0m\u001b[0m\n\u001b[1;32m    703\u001b[0m             \u001b[0mself\u001b[0m\u001b[0;34m.\u001b[0m\u001b[0m_parent_header\u001b[0m\u001b[0;34m,\u001b[0m\u001b[0;34m\u001b[0m\u001b[0m\n\u001b[0;32m--> 704\u001b[0;31m             \u001b[0mpassword\u001b[0m\u001b[0;34m=\u001b[0m\u001b[0;32mFalse\u001b[0m\u001b[0;34m,\u001b[0m\u001b[0;34m\u001b[0m\u001b[0m\n\u001b[0m\u001b[1;32m    705\u001b[0m         )\n\u001b[1;32m    706\u001b[0m \u001b[0;34m\u001b[0m\u001b[0m\n",
      "\u001b[0;32m/anaconda3/lib/python3.6/site-packages/ipykernel/kernelbase.py\u001b[0m in \u001b[0;36m_input_request\u001b[0;34m(self, prompt, ident, parent, password)\u001b[0m\n\u001b[1;32m    732\u001b[0m             \u001b[0;32mexcept\u001b[0m \u001b[0mKeyboardInterrupt\u001b[0m\u001b[0;34m:\u001b[0m\u001b[0;34m\u001b[0m\u001b[0m\n\u001b[1;32m    733\u001b[0m                 \u001b[0;31m# re-raise KeyboardInterrupt, to truncate traceback\u001b[0m\u001b[0;34m\u001b[0m\u001b[0;34m\u001b[0m\u001b[0m\n\u001b[0;32m--> 734\u001b[0;31m                 \u001b[0;32mraise\u001b[0m \u001b[0mKeyboardInterrupt\u001b[0m\u001b[0;34m\u001b[0m\u001b[0m\n\u001b[0m\u001b[1;32m    735\u001b[0m             \u001b[0;32melse\u001b[0m\u001b[0;34m:\u001b[0m\u001b[0;34m\u001b[0m\u001b[0m\n\u001b[1;32m    736\u001b[0m                 \u001b[0;32mbreak\u001b[0m\u001b[0;34m\u001b[0m\u001b[0m\n",
      "\u001b[0;31mKeyboardInterrupt\u001b[0m: "
     ]
    }
   ],
   "source": [
    "N, A,B,C = map(int, input().split())\n",
    "l = sorted([int(input()) for _ in range(N)])[-1::-1]\n",
    "\n",
    "INF = 1e+10\n",
    "\n",
    "def DFS(depth, current_a, current_b, current_c):\n",
    "    if depth == N:\n",
    "        if min(current_a, current_b, current_c) > 0:\n",
    "            return abs(current_a - A) + abs(current_b - B) + abs(current_c - C) -30\n",
    "        else:\n",
    "            return INF\n",
    "    \n",
    "    ret0 = DFS(depth+1, current_a, current_b, current_c)\n",
    "    ret1 = DFS(depth+1, current_a + l[depth], current_b, current_c) + 10\n",
    "    ret2 = DFS(depth+1, current_a , current_b+ l[depth], current_c) + 10\n",
    "    ret3 = DFS(depth+1, current_a, current_b, current_c + l[depth]) + 10\n",
    "    \n",
    "    return min(ret0, ret1, ret2, ret3)\n",
    "\n",
    "print(DFS(0, 0, 0, 0))"
   ]
  },
  {
   "cell_type": "markdown",
   "metadata": {},
   "source": [
    "###### l_list, target"
   ]
  },
  {
   "cell_type": "code",
   "execution_count": 18,
   "metadata": {},
   "outputs": [
    {
     "name": "stdout",
     "output_type": "stream",
     "text": [
      "1 1 3\n",
      "1\n",
      "10000000000\n",
      "2\n",
      "9999999999\n",
      "5000000000\n",
      "s :  [1]\n",
      "t :  [10000000000]\n",
      "x :  [2, 9999999999, 5000000000]\n",
      "10000000000\n",
      "10000000000\n",
      "14999999998\n"
     ]
    }
   ],
   "source": [
    "import bisect\n",
    "A,B,Q = map(int, input().split())\n",
    "\n",
    "INF = 1e+18\n",
    "\n",
    "s_list = [-INF] + [int(input()) for _ in range(A)] + [INF]\n",
    "t_list = [-INF] + [int(input()) for _ in range(B)] + [INF]\n",
    "x_list = [int(input()) for _ in range(Q)]\n",
    "\n",
    "def get_ans(s_list, t_list, x):\n",
    "    b, d = bisect.bisect_right(s_list, x), bisect.bisect_right(t_list, x)\n",
    "    ans = INF\n",
    "    for S in [s[b - 1], s[b]]:\n",
    "        for T in [t[d - 1], t[d]]:\n",
    "            d1, d2 = abs(S - x) + abs(T - S), abs(T - x) + abs(S - T)\n",
    "            ans = min(ans, d1, d2)\n",
    "    return ans\n",
    "        \n",
    "for x in x_list:\n",
    "    print(get_ans(s_list, t_list, x))\n",
    "    \n",
    "    "
   ]
  },
  {
   "cell_type": "code",
   "execution_count": 38,
   "metadata": {},
   "outputs": [
    {
     "data": {
      "text/plain": [
       "3"
      ]
     },
     "execution_count": 38,
     "metadata": {},
     "output_type": "execute_result"
    }
   ],
   "source": [
    "import bisect\n",
    "\n",
    "x = [1,2,6,15,35]\n",
    "bisect.bisect_right(x, 7)"
   ]
  },
  {
   "cell_type": "code",
   "execution_count": 39,
   "metadata": {},
   "outputs": [
    {
     "data": {
      "text/plain": [
       "15"
      ]
     },
     "execution_count": 39,
     "metadata": {},
     "output_type": "execute_result"
    }
   ],
   "source": [
    "x[3]"
   ]
  },
  {
   "cell_type": "code",
   "execution_count": 4,
   "metadata": {},
   "outputs": [
    {
     "data": {
      "text/plain": [
       "6"
      ]
     },
     "execution_count": 4,
     "metadata": {},
     "output_type": "execute_result"
    }
   ],
   "source": [
    "# ABC 120\n",
    "def kaijo(x):\n",
    "    if x == 0:\n",
    "        return 1\n",
    "    fact = kaijo(x-1)\n",
    "    return x * fact\n"
   ]
  },
  {
   "cell_type": "code",
   "execution_count": 6,
   "metadata": {},
   "outputs": [
    {
     "name": "stdout",
     "output_type": "stream",
     "text": [
      "3 9 5\n",
      "3\n"
     ]
    }
   ],
   "source": [
    "# A\n",
    "A,B,C = map(int, input().split())\n",
    "\n",
    "can = B // A\n",
    "if C < can:\n",
    "    print(C)\n",
    "else:\n",
    "    print(can)\n"
   ]
  },
  {
   "cell_type": "code",
   "execution_count": 14,
   "metadata": {},
   "outputs": [
    {
     "name": "stdout",
     "output_type": "stream",
     "text": [
      "1 1 1\n",
      "1\n"
     ]
    }
   ],
   "source": [
    "#B\n",
    "A,B,K = map(int, input().split())\n",
    "\n",
    "waru = []\n",
    "for i in range(1, max(A,B)+1, 1):\n",
    "    if A%i == 0 and B%i == 0:\n",
    "        waru.append(i)\n",
    "print(waru[-K])\n"
   ]
  },
  {
   "cell_type": "code",
   "execution_count": 66,
   "metadata": {},
   "outputs": [
    {
     "name": "stdout",
     "output_type": "stream",
     "text": [
      "11011010001011\n",
      "12\n"
     ]
    }
   ],
   "source": [
    "#c\n",
    "\n",
    "S = input()\n",
    "\n",
    "def clean(seq):\n",
    "#     print(\"seq: \", seq)\n",
    "    if len(seq) == 1:\n",
    "        return seq\n",
    "    \n",
    "    def get_removee_left(cand_seq):\n",
    "        if len(cand_seq) == 1:\n",
    "            return -1\n",
    "        for idx, s in enumerate(cand_seq[:-1]):\n",
    "            if int(s) + int(cand_seq[idx+1]) == 1:\n",
    "                return idx\n",
    "        return -1\n",
    "        \n",
    "    ans = seq\n",
    "    \n",
    "    left = get_removee_left(seq)\n",
    "#     print(\"left: \",left)\n",
    "    if left > 0:\n",
    "#         print(\"give:\",seq[:left]+seq[left+2:])\n",
    "        give = seq[:left]+seq[left+2:]\n",
    "        ans = clean(give)\n",
    "    elif left == 0:\n",
    "#         print(\"give:\", seq[left+2:])\n",
    "        ans = clean(seq[left+2:])\n",
    "    else:\n",
    "        pass\n",
    "        \n",
    "    return ans\n",
    "    \n",
    "    \n",
    "#     cleaned_seq = []\n",
    "#     remove_flag = False\n",
    "#     for idx, s in enumerate(seq):\n",
    "#         if remove_flag:\n",
    "#             ans = clean(clean_seq)\n",
    "            \n",
    "#         if idx == len(seq)-1:\n",
    "#             cleaned_seq.append(s)\n",
    "#             break\n",
    "\n",
    "#         this_ = int(s)\n",
    "#         next_ = int(seq[idx+1])\n",
    "#         if this_ + next_ == 1:\n",
    "#             remove_flag = True\n",
    "#         else:\n",
    "#             cleaned_seq.append(s)\n",
    "            \n",
    "#     return cleaned_seq\n",
    "\n",
    "# former_cleaned = []\n",
    "# cleaned = S\n",
    "# while(not len(cleaned) == len(former_cleaned)):\n",
    "#     former_cleaned = cleaned\n",
    "#     cleaned = clean(former_cleaned)\n",
    "    \n",
    "# print(len(S) - len(cleaned))\n",
    "print(len(S) - len(clean(S)))\n"
   ]
  },
  {
   "cell_type": "code",
   "execution_count": 80,
   "metadata": {},
   "outputs": [
    {
     "name": "stdout",
     "output_type": "stream",
     "text": [
      "11011010001011\n",
      "12\n"
     ]
    }
   ],
   "source": [
    "S = input()\n",
    "\n",
    "save = []\n",
    "flag = False\n",
    "modori_flag = False\n",
    "count = 0\n",
    "for idx, s in enumerate(S):\n",
    "    if modori_flag:\n",
    "        modori_flag = False\n",
    "    elif flag:\n",
    "        flag = False\n",
    "        continue\n",
    "            \n",
    "    this_ = int(s)\n",
    "    if len(save) > 0 and this_ + save[-1] == 1:\n",
    "        modori_flag = True\n",
    "        del save[-1]\n",
    "        count += 2\n",
    "        continue\n",
    "    if idx == len(S) -1:\n",
    "        break\n",
    "    next_ = int(S[idx+1])\n",
    "    if this_ + next_ == 1:\n",
    "        flag = True\n",
    "        count += 2\n",
    "        continue\n",
    "        \n",
    "    save.append(this_)\n",
    "    \n",
    "print(count)\n"
   ]
  },
  {
   "cell_type": "code",
   "execution_count": 15,
   "metadata": {},
   "outputs": [
    {
     "name": "stdout",
     "output_type": "stream",
     "text": [
      "4 5\n",
      "1 2\n",
      "3 4\n",
      "1 3\n",
      "2 3\n",
      "1 4\n",
      "0\n",
      "0\n",
      "4\n",
      "5\n",
      "6\n"
     ]
    }
   ],
   "source": [
    "class UnionFind():\n",
    "    def __init__(self, size):\n",
    "        # self.parent holds a list of idx for parant node of i-th node\n",
    "        # if i-th node is a root, self.parent[i] holds the - (number of nodes) in the parent.\n",
    "        # if self.parent[i] = j, j-th node is a paranet of i-th node. \n",
    "        self.parent = [-1 for _ in range(size)]\n",
    "        \n",
    "        # self.height holds a list of trees' heights\n",
    "        self.height = [0] * (size)\n",
    "        \n",
    "    def find(self, i):\n",
    "        \"\"\"\n",
    "        Search for i-th node's parent.\n",
    "        Args : \n",
    "            i : index of target node.\n",
    "        Return :\n",
    "            index of root of target node\n",
    "        \"\"\" \n",
    "        \n",
    "        if self.parent[i] < 0:\n",
    "            # root node\n",
    "            return i\n",
    "        else:\n",
    "            # if not root, search by the parent's node\n",
    "            self.parent[i] = self.find(self.parent[i])\n",
    "            return self.parent[i]     \n",
    "        \n",
    "    def unite(self, i_, j_):\n",
    "        \"\"\"\n",
    "        Unite two parents\n",
    "        Args : \n",
    "            i, j : indices of target nodes.\n",
    "        \"\"\" \n",
    "        # search roots\n",
    "        i = self.find(i_)\n",
    "        j = self.find(j_)\n",
    "        \n",
    "        if self.height[i] < self.height[j]:\n",
    "            self.parent[j] += self.parent[i]\n",
    "            self.parent[i] = j_\n",
    "            \n",
    "        else:\n",
    "            self.parent[i] += self.parent[j]\n",
    "            self.parent[j] = i_\n",
    "            if self.height[i] == self.height[j]:\n",
    "                self.height[i] += 1\n",
    "       \n",
    "    def size(self, i):\n",
    "        \"\"\"\n",
    "        Get num of nodes in same parent\n",
    "        Args : \n",
    "            i : index of target node.\n",
    "        \"\"\"\n",
    "        return - self.parent[self.find(i)]\n",
    "        \n",
    "        \n",
    "\n",
    "import numpy as np\n",
    "N, M = map(int, input().split())\n",
    "ab_list = [list(map(int, input().split())) for _ in range(M)]\n",
    "\n",
    "a_list = np.array(ab_list)[:, 0][-1::-1]\n",
    "b_list = np.array(ab_list)[:, 1][-1::-1]\n",
    "\n",
    "huben = [int((N) * (N-1) * 0.5)]\n",
    "        \n",
    "uni = UnionFind(size=N+1)\n",
    "\n",
    "for a, b in zip(a_list, b_list):\n",
    "    a_group = uni.find(a)\n",
    "    b_group = uni.find(b)\n",
    "    \n",
    "    if a_group == b_group:\n",
    "        huben.append(huben[-1])\n",
    "    else:\n",
    "        huben.append(huben[-1] - uni.size(a)*uni.size(b))\n",
    "        uni.unite(a, b)\n",
    "        \n",
    "for ans in huben[-1::-1][1:]:\n",
    "    print(ans)"
   ]
  },
  {
   "cell_type": "code",
   "execution_count": 10,
   "metadata": {},
   "outputs": [],
   "source": [
    "class UnionFind():\n",
    "    def __init__(self, size):\n",
    "        # self.parent holds a list of idx for parant node of i-th node\n",
    "        # if i-th node is a root, self.parent[i] holds the - (number of nodes) in the parent.\n",
    "        # if self.parent[i] = j, j-th node is a paranet of i-th node. \n",
    "        self.parent = [-1 for _ in range(size)]\n",
    "        \n",
    "        # self.height holds a list of trees' heights\n",
    "        self.height = [0] * (size)\n",
    "        \n",
    "    def find(self, i):\n",
    "        \"\"\"\n",
    "        Search for i-th node's parent.\n",
    "        Args : \n",
    "            i : index of target node.\n",
    "        Return :\n",
    "            index of root of target node\n",
    "        \"\"\" \n",
    "        \n",
    "        if self.parent[i] < 0:\n",
    "            # root node\n",
    "            return i\n",
    "        else:\n",
    "            # if not root, search by the parent's node\n",
    "            self.parent[i] = self.find(self.parent[i])\n",
    "            return self.parent[i]     \n",
    "        \n",
    "    def unite(self, i, j):\n",
    "        \"\"\"\n",
    "        Unite two parents\n",
    "        Args : \n",
    "            i, j : indices of target nodes.\n",
    "        \"\"\" \n",
    "        # search roots\n",
    "        i = self.find(i)\n",
    "        j = self.find(j)\n",
    "        \n",
    "        if self.height[i] < self.height[j]:\n",
    "            self.parent[j] += self.parent[i]\n",
    "            self.parent[i] = j\n",
    "            \n",
    "        else:\n",
    "            self.parent[i] += self.parent[j]\n",
    "            self.parent[j] = i\n",
    "            if self.height[i] == self.height[j]:\n",
    "                self.height[i] += 1\n",
    "       \n",
    "    def size(self, i):\n",
    "        \"\"\"\n",
    "        Get num of nodes in same parent\n",
    "        Args : \n",
    "            i : index of target node.\n",
    "        \"\"\"\n",
    "        return - self.find(i)"
   ]
  },
  {
   "cell_type": "code",
   "execution_count": null,
   "metadata": {},
   "outputs": [],
   "source": []
  },
  {
   "cell_type": "code",
   "execution_count": null,
   "metadata": {},
   "outputs": [],
   "source": []
  },
  {
   "cell_type": "code",
   "execution_count": 3,
   "metadata": {},
   "outputs": [
    {
     "name": "stdout",
     "output_type": "stream",
     "text": [
      "2 4\n",
      "2 4\n",
      "0\n"
     ]
    }
   ],
   "source": [
    "# ABC 121\n",
    "H,W = map(int, input().split())\n",
    "h,w = map(int, input().split())\n",
    "\n",
    "print(H*W - (h * W + H * w - h*w))\n",
    "\n",
    "\n",
    "\n"
   ]
  },
  {
   "cell_type": "code",
   "execution_count": 11,
   "metadata": {},
   "outputs": [
    {
     "name": "stdout",
     "output_type": "stream",
     "text": [
      "2 3 -10\n",
      "1 2 3\n",
      "3 2 1\n",
      "1 2 2\n",
      "[3, 2, 1] [1, 2, 3]\n",
      "10\n",
      "[1, 2, 2] [1, 2, 3]\n",
      "11\n",
      "2\n"
     ]
    }
   ],
   "source": [
    "N, M, C = map(int, input().split())\n",
    "b_list = list(map(int, input().split()))\n",
    "\n",
    "a_list = [list(map(int, input().split())) for _ in range(N)]\n",
    "\n",
    "ans = 0\n",
    "for a_ in a_list:\n",
    "    pro = 0\n",
    "    for a, b in zip(a_,b_list):\n",
    "        pro += a * b\n",
    "    if pro+C >0:\n",
    "        ans += 1\n",
    "    \n",
    "print(ans)\n"
   ]
  },
  {
   "cell_type": "code",
   "execution_count": 19,
   "metadata": {},
   "outputs": [
    {
     "name": "stdout",
     "output_type": "stream",
     "text": [
      "2 5\n",
      "4 9\n",
      "2 4\n",
      "(2, 4) (4, 9)\n",
      "2 4 0 0\n",
      "4 9 4 8\n",
      "12\n"
     ]
    }
   ],
   "source": [
    "N, M = map(int, input().split())\n",
    "\n",
    "a_list = []\n",
    "b_list = []\n",
    "\n",
    "for _ in range(N):\n",
    "    a,b = map(int, input().split())\n",
    "    a_list.append(a)\n",
    "    b_list.append(b)\n",
    "    \n",
    "uni = zip(a_list,b_list)\n",
    "uni = sorted(uni, key=lambda x:x[0])\n",
    "\n",
    "a_list, b_list = zip(*uni)\n",
    "\n",
    "now = 0\n",
    "money = 0\n",
    "for a, b in zip(a_list, b_list):\n",
    "    if M - now < b:\n",
    "        kau = M -now\n",
    "        now += kau\n",
    "        money += a*kau\n",
    "    else:\n",
    "        now += b\n",
    "        money += a*b\n",
    "        \n",
    "print(money)"
   ]
  },
  {
   "cell_type": "code",
   "execution_count": null,
   "metadata": {},
   "outputs": [],
   "source": []
  },
  {
   "cell_type": "code",
   "execution_count": 38,
   "metadata": {},
   "outputs": [
    {
     "name": "stdout",
     "output_type": "stream",
     "text": [
      "123 456\n",
      "435\n"
     ]
    }
   ],
   "source": [
    "import numpy as np\n",
    "A, B = map(int, input().split())\n",
    "           \n",
    "bins = []\n",
    "max_len = len((format(B, \"b\")))\n",
    "\n",
    "ans = np.zeros(max_len)\n",
    "\n",
    "for i in range(B, A-1, -1):\n",
    "    binary = format(i, \"b\")\n",
    "\n",
    "    while(not len(binary) == max_len):\n",
    "        binary = \"0\"+binary\n",
    "        \n",
    "    for keta in range(max_len):\n",
    "        ans[keta] += int(binary[keta])\n",
    "\n",
    "fin = \"\"\n",
    "for a in ans:\n",
    "    if a%2 == 0:\n",
    "        fin = fin +\"0\"\n",
    "    else:\n",
    "        fin = fin + \"1\"\n",
    "\n",
    "print(int(\"0b\"+fin, 0))"
   ]
  },
  {
   "cell_type": "code",
   "execution_count": 40,
   "metadata": {},
   "outputs": [
    {
     "data": {
      "text/plain": [
       "[1,\n",
       " 2,\n",
       " 4,\n",
       " 8,\n",
       " 16,\n",
       " 32,\n",
       " 64,\n",
       " 128,\n",
       " 256,\n",
       " 512,\n",
       " 1024,\n",
       " 2048,\n",
       " 4096,\n",
       " 8192,\n",
       " 16384,\n",
       " 32768,\n",
       " 65536,\n",
       " 131072,\n",
       " 262144,\n",
       " 524288,\n",
       " 1048576,\n",
       " 2097152,\n",
       " 4194304,\n",
       " 8388608,\n",
       " 16777216,\n",
       " 33554432,\n",
       " 67108864,\n",
       " 134217728,\n",
       " 268435456,\n",
       " 536870912,\n",
       " 1073741824,\n",
       " 2147483648,\n",
       " 4294967296,\n",
       " 8589934592,\n",
       " 17179869184,\n",
       " 34359738368,\n",
       " 68719476736,\n",
       " 137438953472,\n",
       " 274877906944,\n",
       " 549755813888,\n",
       " 1099511627776]"
      ]
     },
     "execution_count": 40,
     "metadata": {},
     "output_type": "execute_result"
    }
   ],
   "source": [
    "thre = [2**i for i in range(41)]\n",
    "thre"
   ]
  },
  {
   "cell_type": "code",
   "execution_count": null,
   "metadata": {},
   "outputs": [],
   "source": []
  },
  {
   "cell_type": "code",
   "execution_count": null,
   "metadata": {},
   "outputs": [],
   "source": []
  },
  {
   "cell_type": "code",
   "execution_count": null,
   "metadata": {},
   "outputs": [],
   "source": []
  },
  {
   "cell_type": "code",
   "execution_count": null,
   "metadata": {},
   "outputs": [],
   "source": []
  },
  {
   "cell_type": "markdown",
   "metadata": {},
   "source": [
    "# abc 122"
   ]
  },
  {
   "cell_type": "code",
   "execution_count": null,
   "metadata": {},
   "outputs": [],
   "source": [
    "b = input()\n",
    "if  b == \"A\":\n",
    "    print(\"T\")\n",
    "elif b == \"C\":\n",
    "    print(\"G\")\n",
    "elif b == \"T\":\n",
    "    print(\"A\")\n",
    "else:\n",
    "    print(\"C\")\n"
   ]
  },
  {
   "cell_type": "code",
   "execution_count": 13,
   "metadata": {},
   "outputs": [
    {
     "name": "stdout",
     "output_type": "stream",
     "text": [
      "ATCODERATACAT\n",
      "6\n"
     ]
    }
   ],
   "source": [
    "S = input()\n",
    "\n",
    "arr = [[]]\n",
    "renzoku = True\n",
    "for char in S:\n",
    "    if char in [\"A\",\"C\", \"G\", \"T\"]:\n",
    "        if renzoku:\n",
    "            arr[-1].append(char)\n",
    "        else:\n",
    "            arr.append([char])\n",
    "            renzoku = True\n",
    "    else:\n",
    "        renzoku = False\n",
    "\n",
    "leng = []\n",
    "for a in arr:\n",
    "    leng.append(len(a))\n",
    "print(max(leng))"
   ]
  },
  {
   "cell_type": "code",
   "execution_count": 76,
   "metadata": {},
   "outputs": [
    {
     "name": "stdout",
     "output_type": "stream",
     "text": [
      "8 2\n",
      "AAAAAAAC\n",
      "1 8\n",
      "4 5\n",
      "1\n",
      "0\n"
     ]
    }
   ],
   "source": [
    "import numpy as np\n",
    "\n",
    "N, Q = map(int, input().split())\n",
    "S = input()\n",
    "l_list, r_list = [], []\n",
    "for _ in range(Q):\n",
    "    l, r = map(int, input().split())\n",
    "    l_list.append(l)\n",
    "    r_list.append(r)\n",
    "    \n",
    "ac_begin_idx = []\n",
    "A_flag = False\n",
    "for idx, char in enumerate(S):\n",
    "    if A_flag and char ==\"C\":\n",
    "        ac_begin_idx.append(idx-1)\n",
    "        A_flag = False\n",
    "    elif char == \"A\":\n",
    "        A_flag = True\n",
    "    else:\n",
    "        A_flag = False\n",
    "        \n",
    "table = np.zeros((N,N))\n",
    "for j in range(N):\n",
    "    for i in range(j):\n",
    "        if j == 0:\n",
    "            continue\n",
    "        ans = 0\n",
    "        for idx in ac_begin_idx:\n",
    "            if idx >= i and idx < j:\n",
    "                ans+=1\n",
    "            table[i][j] = ans\n",
    "# print(table)\n",
    "\n",
    "for l, r in zip(l_list, r_list):\n",
    "    l_idx = l -1\n",
    "    r_idx = r -1\n",
    "    print(int(table[l_idx][r_idx]))\n",
    "    \n",
    "            \n"
   ]
  },
  {
   "cell_type": "code",
   "execution_count": 72,
   "metadata": {},
   "outputs": [
    {
     "data": {
      "text/plain": [
       "array([[0., 1., 1., 1., 1., 2., 2., 2.],\n",
       "       [0., 0., 0., 0., 0., 1., 1., 1.],\n",
       "       [0., 0., 0., 0., 0., 1., 1., 1.],\n",
       "       [0., 0., 0., 0., 0., 1., 1., 1.],\n",
       "       [0., 0., 0., 0., 0., 1., 1., 1.],\n",
       "       [0., 0., 0., 0., 0., 0., 0., 0.],\n",
       "       [0., 0., 0., 0., 0., 0., 0., 0.],\n",
       "       [0., 0., 0., 0., 0., 0., 0., 0.]])"
      ]
     },
     "execution_count": 72,
     "metadata": {},
     "output_type": "execute_result"
    }
   ],
   "source": [
    "table"
   ]
  },
  {
   "cell_type": "markdown",
   "metadata": {},
   "source": [
    "### エクサウィザーズ 2019"
   ]
  },
  {
   "cell_type": "code",
   "execution_count": null,
   "metadata": {},
   "outputs": [],
   "source": [
    "N, Q = map(int, input().split())\n",
    "S = input()\n",
    "l_list, r_list = [], []\n",
    "for _ in range(Q):\n",
    "    l, r = map(int, input().split())\n",
    "    l_list.append(l)\n",
    "    r_list.append(r)"
   ]
  },
  {
   "cell_type": "code",
   "execution_count": 7,
   "metadata": {},
   "outputs": [
    {
     "name": "stdout",
     "output_type": "stream",
     "text": [
      "3 4 5\n",
      "No\n"
     ]
    }
   ],
   "source": [
    "#A\n",
    "A, B, C = map(int, input().split())\n",
    "\n",
    "if not A ==B==C:\n",
    "    print(\"No\")\n",
    "else:\n",
    "    print(\"Yes\")"
   ]
  },
  {
   "cell_type": "code",
   "execution_count": 1,
   "metadata": {},
   "outputs": [
    {
     "name": "stdout",
     "output_type": "stream",
     "text": [
      "4\n",
      "RRBR\n",
      "Yes\n"
     ]
    }
   ],
   "source": [
    "#B\n",
    "N = int(input())\n",
    "s = input()\n",
    "\n",
    "r, b = 0, 0\n",
    "for p in s:\n",
    "    if p == \"R\":\n",
    "        r += 1\n",
    "    else:\n",
    "        b += 1\n",
    "if r > b:\n",
    "    print(\"Yes\")\n",
    "else:\n",
    "    print(\"No\")"
   ]
  },
  {
   "cell_type": "code",
   "execution_count": 56,
   "metadata": {},
   "outputs": [
    {
     "name": "stdout",
     "output_type": "stream",
     "text": [
      "1 3\n",
      "A\n",
      "A L\n",
      "B D\n",
      "B D\n",
      "0\n"
     ]
    }
   ],
   "source": [
    "N, Q = map(int, input().split())\n",
    "s = input()\n",
    "t_list, d_list = [], []\n",
    "for _ in range(Q):\n",
    "    l, r = input().split()\n",
    "    t_list.append(l)\n",
    "    d_list.append(r)\n",
    "\n",
    "from collections import defaultdict\n",
    "import numpy as np\n",
    "\n",
    "loc_dict = defaultdict(list)\n",
    "for moji in s:\n",
    "    if moji in loc_dict.keys():\n",
    "        continue\n",
    "    for idx, moji_ in enumerate(s):\n",
    "        if moji == moji_:\n",
    "            loc_dict[moji].append(idx)\n",
    "            \n",
    "gorems = np.ones((len(s)+2)) \n",
    "gorems[0] = 0\n",
    "gorems[-1] = 0\n",
    "original_num = len(s)\n",
    "\n",
    "for t_i, d_i in zip(t_list, d_list):\n",
    "    if t_i in loc_dict.keys():\n",
    "        target_loc_list = np.array(loc_dict[t_i])+1\n",
    "        save = gorems[target_loc_list][:]\n",
    "        if d_i == \"L\":\n",
    "            gorems[target_loc_list-1] += gorems[target_loc_list]\n",
    "            gorems[target_loc_list] -= save\n",
    "        else:\n",
    "            gorems[target_loc_list+1] += gorems[target_loc_list]\n",
    "            gorems[target_loc_list] -= save\n",
    "    else:\n",
    "        continue\n",
    "print(int(original_num - gorems[0] - gorems[-1]))\n",
    "# %time"
   ]
  },
  {
   "cell_type": "code",
   "execution_count": 181,
   "metadata": {},
   "outputs": [
    {
     "name": "stdout",
     "output_type": "stream",
     "text": [
      "4 3\n",
      "ABCA\n",
      "C L\n",
      "A L\n",
      "A R\n",
      "3\n"
     ]
    }
   ],
   "source": [
    "N, Q = map(int, input().split())\n",
    "s = input()\n",
    "t_list, d_list = [], []\n",
    "for _ in range(Q):\n",
    "    t, d = input().split()\n",
    "    t_list.append(t)\n",
    "    d_list.append(d)\n",
    "\n",
    "    \n",
    "def if_survive(idx):\n",
    "    \"\"\"\n",
    "    Args :\n",
    "        idx : position of gorem\n",
    "        max_ : max value of position idx\n",
    "        min_ : min value of position idx\n",
    "    Return : \n",
    "        +1 : 右側に落ちた時\n",
    "        -1 : 左側に落ちた時\n",
    "        0 : 落ちなかった時\n",
    "    \"\"\"\n",
    "    max_ = len(s) - 1\n",
    "    min_ = 0\n",
    "    target_moji = s[idx]\n",
    "    current_position = idx\n",
    "    \n",
    "    for t, d in zip(t_list, d_list):\n",
    "        if t == target_moji:\n",
    "            if d == \"L\":\n",
    "                current_position -= 1\n",
    "            elif d == \"R\":\n",
    "                current_position += 1\n",
    "                \n",
    "            if current_position > max_:\n",
    "                return 1\n",
    "            elif current_position < min_:\n",
    "                return -1\n",
    "            target_moji = s[current_position]\n",
    "\n",
    "        else:\n",
    "            pass\n",
    "    return 0\n",
    "\n",
    "# 二分探索\n",
    "def bisection_search_right(x_max, x_min):\n",
    "    if if_survive(x_max) < 1:\n",
    "        return x_max + 1\n",
    "        \n",
    "    while(True):\n",
    "        x_mid = int((x_max + x_min)/2)\n",
    "        max_survive = if_survive(x_max)\n",
    "        mid_survive = if_survive(x_mid)\n",
    "\n",
    "        if mid_survive + max_survive == 2:\n",
    "            x_max = x_mid\n",
    "        elif mid_survive + max_survive < 2:\n",
    "            x_min = x_mid\n",
    "        \n",
    "        if x_max - x_min == 1:\n",
    "            return x_max\n",
    "        \n",
    "def bisection_search_left(x_max, x_min):\n",
    "    if if_survive(x_min) > -1:\n",
    "        return x_min - 1\n",
    "    \n",
    "    while(True):\n",
    "        x_mid = int((x_max + x_min)/2)\n",
    "                \n",
    "        min_survive = if_survive(x_min)\n",
    "        mid_survive = if_survive(x_mid)\n",
    "\n",
    "        if mid_survive + min_survive == -2:\n",
    "            x_min = x_mid\n",
    "        elif mid_survive + min_survive > -2:\n",
    "            x_max = x_mid\n",
    "        \n",
    "        if x_max - x_min == 1:\n",
    "            return x_min\n",
    "    \n",
    "right_idx = bisection_search_right(N-1, 0) \n",
    "left_idx = bisection_search_left(N-1, 0) \n",
    "\n",
    "print(N - (left_idx+1) - (N-right_idx))"
   ]
  },
  {
   "cell_type": "code",
   "execution_count": 182,
   "metadata": {},
   "outputs": [
    {
     "data": {
      "text/plain": [
       "(0, 4)"
      ]
     },
     "execution_count": 182,
     "metadata": {},
     "output_type": "execute_result"
    }
   ],
   "source": [
    "left_idx, right_idx"
   ]
  },
  {
   "cell_type": "code",
   "execution_count": null,
   "metadata": {},
   "outputs": [],
   "source": []
  },
  {
   "cell_type": "code",
   "execution_count": null,
   "metadata": {},
   "outputs": [],
   "source": []
  },
  {
   "cell_type": "markdown",
   "metadata": {},
   "source": [
    "### ABC 123"
   ]
  },
  {
   "cell_type": "code",
   "execution_count": 6,
   "metadata": {},
   "outputs": [
    {
     "name": "stdout",
     "output_type": "stream",
     "text": [
      "15\n",
      "18\n",
      "26\n",
      "35\n",
      "36\n",
      "18\n",
      ":(\n"
     ]
    }
   ],
   "source": [
    "a = int(input())\n",
    "b = int(input())\n",
    "c = int(input())\n",
    "d = int(input())\n",
    "e = int(input())\n",
    "k = int(input())\n",
    "\n",
    "zahyo = [a,b,c,d,e]\n",
    "\n",
    "def ite(zahyo):\n",
    "    for z in zahyo:\n",
    "        for z_ in zahyo:\n",
    "            if z==z_ or z > z_ :\n",
    "                continue\n",
    "            else:\n",
    "                if z_ - z > k:\n",
    "                    print(\":(\")\n",
    "                    return None\n",
    "    print(\"Yay!\")\n",
    "    return None\n",
    "ite(zahyo)"
   ]
  },
  {
   "cell_type": "code",
   "execution_count": 13,
   "metadata": {},
   "outputs": [
    {
     "name": "stdout",
     "output_type": "stream",
     "text": [
      "29\n",
      "20\n",
      "7\n",
      "35\n",
      "120\n",
      "215\n"
     ]
    }
   ],
   "source": [
    "a = int(input())\n",
    "b = int(input())\n",
    "c = int(input())\n",
    "d = int(input())\n",
    "e = int(input())\n",
    "\n",
    "# ans = max(a%10, b%10, c%10, d%10, e%10) + (a+(10-a%10)) + (b+(10-b%10))+(c+(10-c%10))+(d+(10-d%10))+(e+(10-e%10)) -10\n",
    "\n",
    "min_amari = 10\n",
    "lis = [a,b,c,d,e]\n",
    "ans = -10\n",
    "for e in lis:\n",
    "    ama = e % 10\n",
    "    if ama == 0:\n",
    "        ans += e\n",
    "    else:\n",
    "        ans += e + (10-e%10)\n",
    "        if min_amari > ama:\n",
    "            min_amari = ama\n",
    "ans += min_amari \n",
    "\n",
    "print(ans)"
   ]
  },
  {
   "cell_type": "code",
   "execution_count": 18,
   "metadata": {},
   "outputs": [
    {
     "name": "stdout",
     "output_type": "stream",
     "text": [
      "5\n",
      "3\n",
      "2\n",
      "4\n",
      "3\n",
      "5\n",
      "7\n"
     ]
    }
   ],
   "source": [
    "n = int(input())\n",
    "a = int(input())\n",
    "b = int(input())\n",
    "c = int(input())\n",
    "d = int(input())\n",
    "e = int(input())\n",
    "\n",
    "norimono_lis = [a,b,c,d,e]\n",
    "\n",
    "min_norimono = min(norimono_lis)\n",
    "\n",
    "if n % min_norimono == 0:\n",
    "    ans = (n//min_norimono) + 4\n",
    "else:\n",
    "    ans = (n//min_norimono) + 5\n",
    "print(ans)\n"
   ]
  },
  {
   "cell_type": "code",
   "execution_count": 27,
   "metadata": {},
   "outputs": [
    {
     "name": "stdout",
     "output_type": "stream",
     "text": [
      "2 2 2 8\n",
      "4 6\n",
      "1 5\n",
      "3 8\n",
      "19\n",
      "[2, 4, 5] 1 0 0\n",
      "17\n",
      "[4, 5] 1 1 0\n",
      "13\n",
      "[5] 1 1 1\n",
      "8\n"
     ]
    },
    {
     "ename": "ValueError",
     "evalue": "min() arg is an empty sequence",
     "output_type": "error",
     "traceback": [
      "\u001b[0;31m---------------------------------------------------------------------------\u001b[0m",
      "\u001b[0;31mValueError\u001b[0m                                Traceback (most recent call last)",
      "\u001b[0;32m<ipython-input-27-c67f6bb53020>\u001b[0m in \u001b[0;36m<module>\u001b[0;34m()\u001b[0m\n\u001b[1;32m     34\u001b[0m \u001b[0;34m\u001b[0m\u001b[0m\n\u001b[1;32m     35\u001b[0m \u001b[0;31m#     diff = [a_diff,b_diff,c_diff]\u001b[0m\u001b[0;34m\u001b[0m\u001b[0;34m\u001b[0m\u001b[0m\n\u001b[0;32m---> 36\u001b[0;31m     \u001b[0;32mif\u001b[0m \u001b[0ma_diff\u001b[0m \u001b[0;34m==\u001b[0m \u001b[0mmin\u001b[0m\u001b[0;34m(\u001b[0m\u001b[0mdiff\u001b[0m\u001b[0;34m)\u001b[0m\u001b[0;34m:\u001b[0m\u001b[0;34m\u001b[0m\u001b[0m\n\u001b[0m\u001b[1;32m     37\u001b[0m         \u001b[0ma_idx\u001b[0m \u001b[0;34m+=\u001b[0m \u001b[0;36m1\u001b[0m\u001b[0;34m\u001b[0m\u001b[0m\n\u001b[1;32m     38\u001b[0m     \u001b[0;32melif\u001b[0m \u001b[0mb_diff\u001b[0m \u001b[0;34m==\u001b[0m \u001b[0mmin\u001b[0m\u001b[0;34m(\u001b[0m\u001b[0mdiff\u001b[0m\u001b[0;34m)\u001b[0m\u001b[0;34m:\u001b[0m\u001b[0;34m\u001b[0m\u001b[0m\n",
      "\u001b[0;31mValueError\u001b[0m: min() arg is an empty sequence"
     ]
    }
   ],
   "source": [
    "X,Y,Z,K = map(int, input().split())\n",
    "\n",
    "A_list = sorted(map(int, input().split()))[-1::-1][:K]\n",
    "B_list = sorted(map(int, input().split()))[-1::-1][:K]\n",
    "C_list = sorted(map(int, input().split()))[-1::-1][:K]\n",
    "\n",
    "a_idx = 0\n",
    "b_idx = 0\n",
    "c_idx = 0\n",
    "\n",
    "ans = []\n",
    "for a in A_list:\n",
    "    for b in B_list:\n",
    "        for c in C_list:\n",
    "            ans.append(a+b+c)\n",
    "ans = sorted(ans)[-1::-1]\n",
    "\n",
    "for "
   ]
  },
  {
   "cell_type": "code",
   "execution_count": 20,
   "metadata": {},
   "outputs": [
    {
     "data": {
      "text/plain": [
       "[6, 4]"
      ]
     },
     "execution_count": 20,
     "metadata": {},
     "output_type": "execute_result"
    }
   ],
   "source": [
    "A_list"
   ]
  },
  {
   "cell_type": "code",
   "execution_count": null,
   "metadata": {},
   "outputs": [],
   "source": []
  },
  {
   "cell_type": "code",
   "execution_count": null,
   "metadata": {},
   "outputs": [],
   "source": []
  },
  {
   "cell_type": "code",
   "execution_count": null,
   "metadata": {},
   "outputs": [],
   "source": []
  },
  {
   "cell_type": "code",
   "execution_count": 1,
   "metadata": {},
   "outputs": [],
   "source": [
    "# Tenka1 Programmer Beginner Contest 2019"
   ]
  },
  {
   "cell_type": "code",
   "execution_count": null,
   "metadata": {},
   "outputs": [],
   "source": [
    "N, Q = map(int, input().split())\n",
    "s = input()\n",
    "t_list, d_list = [], []"
   ]
  },
  {
   "cell_type": "code",
   "execution_count": 11,
   "metadata": {},
   "outputs": [
    {
     "name": "stdout",
     "output_type": "stream",
     "text": [
      "3 8 5\n",
      "Yes\n"
     ]
    }
   ],
   "source": [
    "A,B,C = map(int, input().split())\n",
    "\n",
    "if A < B:\n",
    "    if B >= C and C >= A:\n",
    "        print(\"Yes\")\n",
    "    else:\n",
    "        print(\"No\")\n",
    "else:\n",
    "    if B <= C and C <= A:\n",
    "        print(\"Yes\")\n",
    "    else:\n",
    "        print(\"No\")\n"
   ]
  },
  {
   "cell_type": "code",
   "execution_count": 5,
   "metadata": {},
   "outputs": [
    {
     "name": "stdout",
     "output_type": "stream",
     "text": [
      "6\n",
      "eleven\n",
      "5\n",
      "e*e*e*\n"
     ]
    }
   ],
   "source": [
    "\n",
    "N = int(input())\n",
    "S = input()\n",
    "K = int(input())\n",
    "\n",
    "target = S[K-1]\n",
    "ans = \"\"\n",
    "for s in S:\n",
    "    if not s == target:\n",
    "        ans = ans + \"*\"\n",
    "    else:\n",
    "        ans = ans + s\n",
    "print(ans)"
   ]
  },
  {
   "cell_type": "code",
   "execution_count": 28,
   "metadata": {},
   "outputs": [
    {
     "name": "stdout",
     "output_type": "stream",
     "text": [
      "5\n",
      "#.##.\n",
      "2\n"
     ]
    }
   ],
   "source": [
    "N = int(input())\n",
    "S = input()\n",
    "\n",
    "S = S + \"#\"\n",
    "\n",
    "# is black, . is white\n",
    "seq_black = 0\n",
    "seq_white = 0\n",
    "ans = 0\n",
    "for idx, s in enumerate(S):\n",
    "    if idx == 0:\n",
    "        former = s\n",
    "        if s == \"#\":\n",
    "            seq_black += 1\n",
    "    else:\n",
    "        if s == \"#\":\n",
    "            if seq_white > 0:\n",
    "                ans += min(seq_black, seq_white)\n",
    "                seq_black = 0\n",
    "                seq_white = 0\n",
    "                \n",
    "            if former == s:\n",
    "                seq_black += 1\n",
    "            else:\n",
    "                seq_black = 1\n",
    "            \n",
    "        else:\n",
    "            # white\n",
    "            if seq_black > 0:\n",
    "                seq_white += 1\n",
    "                \n",
    "        former = s\n",
    "print(ans)\n",
    "                \n",
    "            \n",
    "    "
   ]
  },
  {
   "cell_type": "code",
   "execution_count": 50,
   "metadata": {},
   "outputs": [
    {
     "name": "stdout",
     "output_type": "stream",
     "text": [
      "5\n",
      "#.##.\n",
      "2\n"
     ]
    }
   ],
   "source": [
    "N = int(input())\n",
    "S = input()\n",
    "S = list(map(lambda x: 0 if x==\".\" else 1, S))\n",
    "#all_white\n",
    "# all_white = sum(S)\n",
    "# all_black = len(S) - all_white\n",
    "\n",
    "# white, black, white\n",
    "ans_list = []\n",
    "for thresh in range(len(S)):        \n",
    "    if thresh == 0:\n",
    "        ans = len(S) - sum(S)\n",
    "        ans_list.append(ans)\n",
    "    \n",
    "    else:\n",
    "        ans = ans_list[-1]\n",
    "        if S[thresh-1] == 1: \n",
    "            ans += 1\n",
    "        else:\n",
    "            ans -= 1\n",
    "        ans_list.append(ans)\n",
    "ans_list.append(sum(S))\n",
    "        \n",
    "print(min(ans_list))"
   ]
  },
  {
   "cell_type": "code",
   "execution_count": 51,
   "metadata": {},
   "outputs": [
    {
     "data": {
      "text/plain": [
       "([2, 3, 2, 3, 4, 3], [1, 0, 1, 1, 0])"
      ]
     },
     "execution_count": 51,
     "metadata": {},
     "output_type": "execute_result"
    }
   ],
   "source": [
    "ans_list, S"
   ]
  },
  {
   "cell_type": "code",
   "execution_count": null,
   "metadata": {},
   "outputs": [],
   "source": [
    "N = int(input())\n",
    "a_list = []\n",
    "for _ in range(N):\n",
    "    a_list.append(int(input()))\n",
    "    \n",
    "\n",
    "    \n"
   ]
  },
  {
   "cell_type": "code",
   "execution_count": 55,
   "metadata": {},
   "outputs": [
    {
     "data": {
      "text/plain": [
       "True"
      ]
     },
     "execution_count": 55,
     "metadata": {},
     "output_type": "execute_result"
    }
   ],
   "source": [
    "\"10\" < \"2\""
   ]
  },
  {
   "cell_type": "code",
   "execution_count": 57,
   "metadata": {},
   "outputs": [
    {
     "ename": "TypeError",
     "evalue": "ord() expected a character, but string of length 2 found",
     "output_type": "error",
     "traceback": [
      "\u001b[0;31m---------------------------------------------------------------------------\u001b[0m",
      "\u001b[0;31mTypeError\u001b[0m                                 Traceback (most recent call last)",
      "\u001b[0;32m<ipython-input-57-c07dbe362e88>\u001b[0m in \u001b[0;36m<module>\u001b[0;34m()\u001b[0m\n\u001b[0;32m----> 1\u001b[0;31m \u001b[0mord\u001b[0m\u001b[0;34m(\u001b[0m\u001b[0;34m\"10\"\u001b[0m\u001b[0;34m)\u001b[0m\u001b[0;34m\u001b[0m\u001b[0m\n\u001b[0m",
      "\u001b[0;31mTypeError\u001b[0m: ord() expected a character, but string of length 2 found"
     ]
    }
   ],
   "source": [
    "ord(\"10\")"
   ]
  },
  {
   "cell_type": "code",
   "execution_count": 23,
   "metadata": {},
   "outputs": [
    {
     "name": "stdout",
     "output_type": "stream",
     "text": [
      "4\n",
      "....####\n",
      "0\n"
     ]
    }
   ],
   "source": [
    "N = int(input())\n",
    "S = input()                                                      \n",
    "list_S = list(S)\n",
    "N1 = 0\n",
    "X1 = 0\n",
    "X2 = 0\n",
    "X1MIN = 0\n",
    "X2MIN = 0\n",
    "list_X = []\n",
    "for color in list_S:\n",
    "    list_S1 = list_S[N1:]\n",
    "    list_S2 = list_S[:N1]\n",
    "    X1 = list_S1.count('.')\n",
    "    X2 = list_S2.count('#')\n",
    "    X = X1 + X2\n",
    "    list_X.append(X)\n",
    "    N1 +=1\n",
    "    \n",
    "\n",
    "X_MIN = min(list_X)\n",
    "print(X_MIN)"
   ]
  },
  {
   "cell_type": "code",
   "execution_count": 21,
   "metadata": {},
   "outputs": [
    {
     "data": {
      "text/plain": [
       "[4, 3, 2, 1]"
      ]
     },
     "execution_count": 21,
     "metadata": {},
     "output_type": "execute_result"
    }
   ],
   "source": [
    "list_X"
   ]
  },
  {
   "cell_type": "code",
   "execution_count": 26,
   "metadata": {},
   "outputs": [
    {
     "data": {
      "text/plain": [
       "[]"
      ]
     },
     "execution_count": 26,
     "metadata": {},
     "output_type": "execute_result"
    }
   ],
   "source": [
    "a = [1,2,3,4]\n"
   ]
  },
  {
   "cell_type": "code",
   "execution_count": null,
   "metadata": {},
   "outputs": [],
   "source": []
  },
  {
   "cell_type": "code",
   "execution_count": null,
   "metadata": {},
   "outputs": [],
   "source": []
  },
  {
   "cell_type": "code",
   "execution_count": null,
   "metadata": {},
   "outputs": [],
   "source": [
    "# ABC 125"
   ]
  },
  {
   "cell_type": "code",
   "execution_count": null,
   "metadata": {},
   "outputs": [],
   "source": [
    "N = int(input())\n",
    "S = input()\n",
    "S = list(map(lambda x: 0 if x==\".\" else 1, S))"
   ]
  },
  {
   "cell_type": "code",
   "execution_count": 3,
   "metadata": {},
   "outputs": [
    {
     "name": "stdout",
     "output_type": "stream",
     "text": [
      "20 20 19\n",
      "0\n"
     ]
    }
   ],
   "source": [
    "A,B, T = map(int, (input().split()))\n",
    "\n",
    "print(int(T//A)*B)"
   ]
  },
  {
   "cell_type": "code",
   "execution_count": 4,
   "metadata": {},
   "outputs": [
    {
     "name": "stdout",
     "output_type": "stream",
     "text": [
      "4\n",
      "13 21 6 19\n",
      "11 30 6 15\n",
      "6\n"
     ]
    }
   ],
   "source": [
    "N = int(input())\n",
    "\n",
    "V_list = list(map(int, input().split()))\n",
    "C_list = list(map(int, input().split()))\n",
    "\n",
    "ans = 0\n",
    "for v,c in zip(V_list, C_list):\n",
    "    if v > c:\n",
    "        ans += v-c\n",
    "print(ans)"
   ]
  },
  {
   "cell_type": "code",
   "execution_count": 19,
   "metadata": {
    "scrolled": true
   },
   "outputs": [
    {
     "name": "stdout",
     "output_type": "stream",
     "text": [
      "3\n",
      "7 6 8\n",
      "2\n"
     ]
    }
   ],
   "source": [
    "import numpy as np\n",
    "\n",
    "def gcd(a,b):    \n",
    "    if a < b:\n",
    "        a, b = b, a\n",
    "    if b == 0:\n",
    "        return a\n",
    "    c = a % b\n",
    "    return gcd(b, c)\n",
    "    \n",
    "N = int(input())\n",
    "A_list = list(map(int, input().split()))\n",
    "\n",
    "# =====\n",
    "# initialize L and R\n",
    "# =====\n",
    "L = np.zeros(N+1)\n",
    "R = np.zeros(N+1)\n",
    "\n",
    "for idx, element in enumerate(A_list):\n",
    "    if L[idx] == 0:\n",
    "        L[idx+1] = element\n",
    "    else:\n",
    "        L[idx+1] = gcd(L[idx], element)\n",
    "\n",
    "for idx, element in enumerate(A_list[-1::-1]):\n",
    "    idx = N-idx\n",
    "    if R[idx] == 0:\n",
    "        R[idx-1] = element\n",
    "    else:\n",
    "        R[idx-1] = gcd(R[idx], element)\n",
    "\n",
    "ans = 0\n",
    "for i in range(N):\n",
    "    if L[i] == 0:\n",
    "        M = R[i+1]\n",
    "    elif R[i+1] == 0:\n",
    "        M = L[i]\n",
    "    else:\n",
    "        M = gcd(L[i], R[i+1])\n",
    "    if ans < M:\n",
    "        ans = M\n",
    "\n",
    "print(int(ans))\n",
    "\n"
   ]
  },
  {
   "cell_type": "code",
   "execution_count": 20,
   "metadata": {},
   "outputs": [
    {
     "data": {
      "text/plain": [
       "array([1., 2., 8., 0.])"
      ]
     },
     "execution_count": 20,
     "metadata": {},
     "output_type": "execute_result"
    }
   ],
   "source": [
    "R"
   ]
  },
  {
   "cell_type": "code",
   "execution_count": 21,
   "metadata": {},
   "outputs": [
    {
     "data": {
      "text/plain": [
       "array([0., 7., 1., 1.])"
      ]
     },
     "execution_count": 21,
     "metadata": {},
     "output_type": "execute_result"
    }
   ],
   "source": [
    "L"
   ]
  },
  {
   "cell_type": "code",
   "execution_count": 24,
   "metadata": {},
   "outputs": [
    {
     "name": "stdout",
     "output_type": "stream",
     "text": [
      "3\n",
      "-10 5 -4\n",
      "19.0\n"
     ]
    }
   ],
   "source": [
    "import numpy as np\n",
    "N = int(input())\n",
    "A_list = list(map(int, input().split()))\n",
    "\n",
    "dp = np.zeros((len(A_list)+1, 2))\n",
    "dp[0][1] = - 10**5\n",
    "\n",
    "for idx, a in enumerate(A_list):\n",
    "    dp[idx+1][0] = max(dp[idx][0] + a, dp[idx][1] - a)\n",
    "    dp[idx+1][1] = max(dp[idx][0] - a, dp[idx][1] + a)\n",
    "print(int(dp[N][0]))"
   ]
  },
  {
   "cell_type": "code",
   "execution_count": null,
   "metadata": {},
   "outputs": [],
   "source": []
  },
  {
   "cell_type": "code",
   "execution_count": null,
   "metadata": {},
   "outputs": [],
   "source": []
  },
  {
   "cell_type": "code",
   "execution_count": 1,
   "metadata": {},
   "outputs": [
    {
     "name": "stdout",
     "output_type": "stream",
     "text": [
      "13 3\n",
      "11\n"
     ]
    }
   ],
   "source": [
    "N,K = list(map(int, input().split()))\n",
    "\n",
    "print(N-K+1)\n",
    "\n",
    "\n"
   ]
  },
  {
   "cell_type": "code",
   "execution_count": 100,
   "metadata": {},
   "outputs": [
    {
     "name": "stdout",
     "output_type": "stream",
     "text": [
      "13 1 4 3000\n",
      "87058\n"
     ]
    }
   ],
   "source": [
    "R,G,B,N = list(map(int, input().split()))\n",
    "ans = 0\n",
    "for r in range(N//R+1):\n",
    "    for g in range((N-r*R)//G+1):\n",
    "        if (N-r*R-g*G) % B == 0:\n",
    "             ans += 1\n",
    "print(ans)"
   ]
  },
  {
   "cell_type": "code",
   "execution_count": 95,
   "metadata": {},
   "outputs": [
    {
     "name": "stdout",
     "output_type": "stream",
     "text": [
      "13 1 4 3000\n",
      "2798410005\n"
     ]
    }
   ],
   "source": [
    "R,G,B,N = list(map(int, input().split()))\n",
    "\n",
    "sorted_rgb = sorted([R,G,B])\n",
    "max_, mid_, min_ = sorted_rgb[2], sorted_rgb[1], sorted_rgb[0]\n",
    "\n",
    "way = 0\n",
    "for i in range(max_//mid_ + 1):\n",
    "    for j in range(max_//min_ + 1):\n",
    "        if mid_*i + min_*j == max_:\n",
    "            way += 1\n",
    "ans = 0\n",
    "for k in range(N//max_ + 1, 0, -1):\n",
    "    nokori = N - k*max_\n",
    "    for i in range(nokori//mid_ + 1):\n",
    "        for j in range((nokori-i*mid_) // min_ + 1):\n",
    "            if i*mid_ + j*min_ == nokori:\n",
    "                ans += 1\n",
    "    if ans > 0:\n",
    "        break\n",
    "ans += k*way\n",
    "\n",
    "if N % mid_ == 0:\n",
    "    ans += 1\n",
    "if N % min_ == 0:\n",
    "    ans += 1\n",
    "print(ans)"
   ]
  },
  {
   "cell_type": "code",
   "execution_count": 96,
   "metadata": {},
   "outputs": [
    {
     "data": {
      "text/plain": [
       "(4, 230)"
      ]
     },
     "execution_count": 96,
     "metadata": {},
     "output_type": "execute_result"
    }
   ],
   "source": [
    "way, k"
   ]
  },
  {
   "cell_type": "code",
   "execution_count": 79,
   "metadata": {},
   "outputs": [
    {
     "data": {
      "text/plain": [
       "[1, 2, 3]"
      ]
     },
     "execution_count": 79,
     "metadata": {},
     "output_type": "execute_result"
    }
   ],
   "source": [
    "sorted([1,2,3])\n"
   ]
  },
  {
   "cell_type": "code",
   "execution_count": 87,
   "metadata": {},
   "outputs": [
    {
     "name": "stdout",
     "output_type": "stream",
     "text": [
      "4\n",
      "3\n",
      "2\n",
      "1\n"
     ]
    }
   ],
   "source": [
    "for i in range(4,0,-1):\n",
    "    print(i)"
   ]
  },
  {
   "cell_type": "code",
   "execution_count": null,
   "metadata": {},
   "outputs": [],
   "source": []
  },
  {
   "cell_type": "code",
   "execution_count": null,
   "metadata": {},
   "outputs": [],
   "source": []
  },
  {
   "cell_type": "code",
   "execution_count": null,
   "metadata": {},
   "outputs": [],
   "source": []
  },
  {
   "cell_type": "code",
   "execution_count": 64,
   "metadata": {},
   "outputs": [
    {
     "name": "stdout",
     "output_type": "stream",
     "text": [
      "3\n",
      "ABABABBBBBA\n",
      "BFFFF\n",
      "ADDDD\n",
      "4\n"
     ]
    }
   ],
   "source": [
    "N = int(input())\n",
    "s_list = []\n",
    "ans = 0\n",
    "\n",
    "b_head_a_tail = 0\n",
    "b_head = 0\n",
    "a_tail = 0\n",
    "\n",
    "for _ in range(N):\n",
    "    string= input()\n",
    "    if string[0] == \"B\":\n",
    "        if string[-1] == \"A\":\n",
    "            b_head_a_tail += 1\n",
    "        else:\n",
    "            b_head += 1\n",
    "    elif string[-1] == \"A\":\n",
    "        a_tail += 1\n",
    "    if \"AB\" in string:\n",
    "        ans += string.count(\"AB\")\n",
    "        \n",
    "if b_head_a_tail > 0:\n",
    "    if a_tail > 0:\n",
    "        if b_head > 0:\n",
    "            ans += b_head_a_tail  + min(a_tail, b_head) \n",
    "        else:\n",
    "            ans += b_head_a_tail\n",
    "    else:\n",
    "        if b_head > 0:\n",
    "            ans += b_head_a_tail\n",
    "        else:\n",
    "            ans += b_head_a_tail - 1\n",
    "else:\n",
    "    ans += min(a_tail, b_head) \n",
    "    \n",
    "print(ans)"
   ]
  },
  {
   "cell_type": "code",
   "execution_count": 53,
   "metadata": {},
   "outputs": [
    {
     "data": {
      "text/plain": [
       "1"
      ]
     },
     "execution_count": 53,
     "metadata": {},
     "output_type": "execute_result"
    }
   ],
   "source": [
    "a_tail"
   ]
  },
  {
   "cell_type": "code",
   "execution_count": 54,
   "metadata": {},
   "outputs": [
    {
     "data": {
      "text/plain": [
       "0"
      ]
     },
     "execution_count": 54,
     "metadata": {},
     "output_type": "execute_result"
    }
   ],
   "source": [
    "b_head"
   ]
  },
  {
   "cell_type": "code",
   "execution_count": 55,
   "metadata": {},
   "outputs": [
    {
     "data": {
      "text/plain": [
       "2"
      ]
     },
     "execution_count": 55,
     "metadata": {},
     "output_type": "execute_result"
    }
   ],
   "source": [
    "b_head_a_tail"
   ]
  },
  {
   "cell_type": "code",
   "execution_count": null,
   "metadata": {},
   "outputs": [],
   "source": [
    "7\n",
    "RABYBBE\n",
    "JOZ\n",
    "BMHQUVA\n",
    "BPA\n",
    "ISU\n",
    "MCMABAOBHZ\n",
    "SZMEHMA"
   ]
  },
  {
   "cell_type": "code",
   "execution_count": 60,
   "metadata": {},
   "outputs": [
    {
     "data": {
      "text/plain": [
       "2"
      ]
     },
     "execution_count": 60,
     "metadata": {},
     "output_type": "execute_result"
    }
   ],
   "source": [
    "\"ABAB\".count(\"AB\")"
   ]
  },
  {
   "cell_type": "code",
   "execution_count": null,
   "metadata": {},
   "outputs": [],
   "source": []
  },
  {
   "cell_type": "code",
   "execution_count": null,
   "metadata": {},
   "outputs": [],
   "source": []
  },
  {
   "cell_type": "code",
   "execution_count": null,
   "metadata": {},
   "outputs": [],
   "source": [
    "R,G,B,N = list(map(int, input().split()))\n"
   ]
  },
  {
   "cell_type": "code",
   "execution_count": 3,
   "metadata": {},
   "outputs": [
    {
     "name": "stdout",
     "output_type": "stream",
     "text": [
      "3 1\n",
      "ABC\n",
      "aBC\n"
     ]
    }
   ],
   "source": [
    "# ABC126\n",
    "N,K = list(map(int, input().split()))\n",
    "S = input()\n",
    "\n",
    "ans = \"\"\n",
    "for idx,c in enumerate(S):\n",
    "    if idx+1 == K:\n",
    "        ans = ans + c.lower()\n",
    "    else:\n",
    "        ans = ans + c\n",
    "print(ans)\n",
    "    "
   ]
  },
  {
   "cell_type": "code",
   "execution_count": 14,
   "metadata": {},
   "outputs": [
    {
     "name": "stdout",
     "output_type": "stream",
     "text": [
      "0013\n",
      "NA\n"
     ]
    }
   ],
   "source": [
    "S = input()\n",
    "mae = int(S[:2])\n",
    "ushiro = int(S[-2:])\n",
    "\n",
    "\n",
    "if mae > 12 or mae == 0:\n",
    "    # YYMM\n",
    "    if ushiro > 12 or ushiro == 0:\n",
    "        print(\"NA\")\n",
    "    else:\n",
    "        print(\"YYMM\")\n",
    "else:\n",
    "    # MMYY\n",
    "    if ushiro < 13 and ushiro > 0:\n",
    "        print(\"AMBIGUOUS\")\n",
    "    else:\n",
    "        print(\"MMYY\")\n"
   ]
  },
  {
   "cell_type": "code",
   "execution_count": 49,
   "metadata": {},
   "outputs": [
    {
     "name": "stdout",
     "output_type": "stream",
     "text": [
      "100000 5\n",
      "0.99997375\n"
     ]
    }
   ],
   "source": [
    "import math\n",
    "N,K = list(map(int, input().split()))\n",
    "\n",
    "#1,2,4,8,16...\n",
    "# max coin num\n",
    "ans = 0\n",
    "\n",
    "\n",
    "for i in range(1, N+1):\n",
    "    coin = math.log2(K/i)\n",
    "    if coin > 0:\n",
    "        if coin % 1 == 0:\n",
    "            coin = int(coin)\n",
    "        else:\n",
    "            coin = int(coin) + 1\n",
    "        ans += (0.5) ** coin\n",
    "    else:\n",
    "        ans += 1\n",
    "    \n",
    "    \n",
    "\n",
    "# ans = (1/N) * (1 - (2 ** N))  * (0.5 ** max_coin) * (-1)\n",
    "# ans = (1/N) * ((math.exp(N*math.log(2))) -1)  * (0.5 ** max_coin)\n",
    "print(ans/N)"
   ]
  },
  {
   "cell_type": "code",
   "execution_count": 77,
   "metadata": {},
   "outputs": [
    {
     "name": "stdout",
     "output_type": "stream",
     "text": [
      "5\n",
      "2 5 2\n",
      "2 3 10\n",
      "1 3 8\n",
      "3 4 2\n",
      "0\n",
      "0\n",
      "0\n",
      "0\n",
      "0\n"
     ]
    }
   ],
   "source": [
    "import numpy as np\n",
    "N = int(input())\n",
    "\n",
    "group = np.full(N, -1)\n",
    "\n",
    "data_list = []\n",
    "for idx in range(N-1):\n",
    "    u, v, w = list(map(int, input().split()))\n",
    "    \n",
    "    data_list.append((u-1,v-1,w))\n",
    "    \n",
    "data_list = sorted(data_list, key=lambda x:x[1])\n",
    "data_list = sorted(data_list, key=lambda x:x[0])\n",
    "    \n",
    "for idx, (u, v, w) in enumerate(data_list):\n",
    "    if idx == 0:\n",
    "        if w % 2 == 0:\n",
    "            group[u] = 0\n",
    "            group[v] = 0\n",
    "        else:\n",
    "            group[u] = 0\n",
    "            group[v] = 1\n",
    "    else:\n",
    "        if group[u] > -1:\n",
    "            if w % 2 == 0:\n",
    "                group[v] = group[u]\n",
    "            else:\n",
    "                group[v] = 1 - group[u]\n",
    "        elif group[v] > -1:\n",
    "            if w % 2 == 0:\n",
    "                group[u] = group[v]\n",
    "            else:\n",
    "                group[u] = 1 - group[v]\n",
    "        else:\n",
    "            print(\"unknown node exists\", u, v)\n",
    "            \n",
    "        \n",
    "for g in group:\n",
    "    print(g)"
   ]
  },
  {
   "cell_type": "code",
   "execution_count": 76,
   "metadata": {},
   "outputs": [
    {
     "data": {
      "text/plain": [
       "[(0, 2, 8), (1, 4, 2), (1, 2, 10), (2, 3, 2)]"
      ]
     },
     "execution_count": 76,
     "metadata": {},
     "output_type": "execute_result"
    }
   ],
   "source": [
    "data_list"
   ]
  },
  {
   "cell_type": "code",
   "execution_count": null,
   "metadata": {},
   "outputs": [],
   "source": []
  },
  {
   "cell_type": "code",
   "execution_count": 2,
   "metadata": {},
   "outputs": [
    {
     "name": "stdout",
     "output_type": "stream",
     "text": [
      "12 100\n",
      "50.0\n"
     ]
    }
   ],
   "source": [
    "#ABC127\n",
    "\n",
    "A,B = list(map(int, input().split()))\n",
    "\n",
    "if A <=5:\n",
    "    print(0)\n",
    "elif A >=6 and A <=12:\n",
    "    print(int(B/2))\n",
    "else:\n",
    "    print(B)\n",
    "\n"
   ]
  },
  {
   "cell_type": "code",
   "execution_count": 3,
   "metadata": {},
   "outputs": [
    {
     "name": "stdout",
     "output_type": "stream",
     "text": [
      "2 10 20\n",
      "30\n",
      "50\n",
      "90\n",
      "170\n",
      "330\n",
      "650\n",
      "1290\n",
      "2570\n",
      "5130\n",
      "10250\n"
     ]
    }
   ],
   "source": [
    "\n",
    "r, D, x = list(map(int, input().split()))\n",
    "for i in range(10):\n",
    "    x = r*x - D\n",
    "    print(x)"
   ]
  },
  {
   "cell_type": "code",
   "execution_count": 7,
   "metadata": {},
   "outputs": [
    {
     "ename": "KeyboardInterrupt",
     "evalue": "",
     "output_type": "error",
     "traceback": [
      "\u001b[0;31m---------------------------------------------------------------------------\u001b[0m",
      "\u001b[0;31mKeyboardInterrupt\u001b[0m                         Traceback (most recent call last)",
      "\u001b[0;32m/anaconda3/lib/python3.6/site-packages/ipykernel/kernelbase.py\u001b[0m in \u001b[0;36m_input_request\u001b[0;34m(self, prompt, ident, parent, password)\u001b[0m\n\u001b[1;32m    728\u001b[0m             \u001b[0;32mtry\u001b[0m\u001b[0;34m:\u001b[0m\u001b[0;34m\u001b[0m\u001b[0m\n\u001b[0;32m--> 729\u001b[0;31m                 \u001b[0mident\u001b[0m\u001b[0;34m,\u001b[0m \u001b[0mreply\u001b[0m \u001b[0;34m=\u001b[0m \u001b[0mself\u001b[0m\u001b[0;34m.\u001b[0m\u001b[0msession\u001b[0m\u001b[0;34m.\u001b[0m\u001b[0mrecv\u001b[0m\u001b[0;34m(\u001b[0m\u001b[0mself\u001b[0m\u001b[0;34m.\u001b[0m\u001b[0mstdin_socket\u001b[0m\u001b[0;34m,\u001b[0m \u001b[0;36m0\u001b[0m\u001b[0;34m)\u001b[0m\u001b[0;34m\u001b[0m\u001b[0m\n\u001b[0m\u001b[1;32m    730\u001b[0m             \u001b[0;32mexcept\u001b[0m \u001b[0mException\u001b[0m\u001b[0;34m:\u001b[0m\u001b[0;34m\u001b[0m\u001b[0m\n",
      "\u001b[0;32m/anaconda3/lib/python3.6/site-packages/jupyter_client/session.py\u001b[0m in \u001b[0;36mrecv\u001b[0;34m(self, socket, mode, content, copy)\u001b[0m\n\u001b[1;32m    802\u001b[0m         \u001b[0;32mtry\u001b[0m\u001b[0;34m:\u001b[0m\u001b[0;34m\u001b[0m\u001b[0m\n\u001b[0;32m--> 803\u001b[0;31m             \u001b[0mmsg_list\u001b[0m \u001b[0;34m=\u001b[0m \u001b[0msocket\u001b[0m\u001b[0;34m.\u001b[0m\u001b[0mrecv_multipart\u001b[0m\u001b[0;34m(\u001b[0m\u001b[0mmode\u001b[0m\u001b[0;34m,\u001b[0m \u001b[0mcopy\u001b[0m\u001b[0;34m=\u001b[0m\u001b[0mcopy\u001b[0m\u001b[0;34m)\u001b[0m\u001b[0;34m\u001b[0m\u001b[0m\n\u001b[0m\u001b[1;32m    804\u001b[0m         \u001b[0;32mexcept\u001b[0m \u001b[0mzmq\u001b[0m\u001b[0;34m.\u001b[0m\u001b[0mZMQError\u001b[0m \u001b[0;32mas\u001b[0m \u001b[0me\u001b[0m\u001b[0;34m:\u001b[0m\u001b[0;34m\u001b[0m\u001b[0m\n",
      "\u001b[0;32m/anaconda3/lib/python3.6/site-packages/zmq/sugar/socket.py\u001b[0m in \u001b[0;36mrecv_multipart\u001b[0;34m(self, flags, copy, track)\u001b[0m\n\u001b[1;32m    394\u001b[0m         \"\"\"\n\u001b[0;32m--> 395\u001b[0;31m         \u001b[0mparts\u001b[0m \u001b[0;34m=\u001b[0m \u001b[0;34m[\u001b[0m\u001b[0mself\u001b[0m\u001b[0;34m.\u001b[0m\u001b[0mrecv\u001b[0m\u001b[0;34m(\u001b[0m\u001b[0mflags\u001b[0m\u001b[0;34m,\u001b[0m \u001b[0mcopy\u001b[0m\u001b[0;34m=\u001b[0m\u001b[0mcopy\u001b[0m\u001b[0;34m,\u001b[0m \u001b[0mtrack\u001b[0m\u001b[0;34m=\u001b[0m\u001b[0mtrack\u001b[0m\u001b[0;34m)\u001b[0m\u001b[0;34m]\u001b[0m\u001b[0;34m\u001b[0m\u001b[0m\n\u001b[0m\u001b[1;32m    396\u001b[0m         \u001b[0;31m# have first part already, only loop while more to receive\u001b[0m\u001b[0;34m\u001b[0m\u001b[0;34m\u001b[0m\u001b[0m\n",
      "\u001b[0;32mzmq/backend/cython/socket.pyx\u001b[0m in \u001b[0;36mzmq.backend.cython.socket.Socket.recv\u001b[0;34m()\u001b[0m\n",
      "\u001b[0;32mzmq/backend/cython/socket.pyx\u001b[0m in \u001b[0;36mzmq.backend.cython.socket.Socket.recv\u001b[0;34m()\u001b[0m\n",
      "\u001b[0;32mzmq/backend/cython/socket.pyx\u001b[0m in \u001b[0;36mzmq.backend.cython.socket._recv_copy\u001b[0;34m()\u001b[0m\n",
      "\u001b[0;32m/anaconda3/lib/python3.6/site-packages/zmq/backend/cython/checkrc.pxd\u001b[0m in \u001b[0;36mzmq.backend.cython.checkrc._check_rc\u001b[0;34m()\u001b[0m\n",
      "\u001b[0;31mKeyboardInterrupt\u001b[0m: ",
      "\nDuring handling of the above exception, another exception occurred:\n",
      "\u001b[0;31mKeyboardInterrupt\u001b[0m                         Traceback (most recent call last)",
      "\u001b[0;32m<ipython-input-7-34d2f5b9d09f>\u001b[0m in \u001b[0;36m<module>\u001b[0;34m()\u001b[0m\n\u001b[0;32m----> 1\u001b[0;31m \u001b[0mN\u001b[0m\u001b[0;34m,\u001b[0m \u001b[0mM\u001b[0m \u001b[0;34m=\u001b[0m \u001b[0mlist\u001b[0m\u001b[0;34m(\u001b[0m\u001b[0mmap\u001b[0m\u001b[0;34m(\u001b[0m\u001b[0mint\u001b[0m\u001b[0;34m,\u001b[0m \u001b[0minput\u001b[0m\u001b[0;34m(\u001b[0m\u001b[0;34m)\u001b[0m\u001b[0;34m.\u001b[0m\u001b[0msplit\u001b[0m\u001b[0;34m(\u001b[0m\u001b[0;34m)\u001b[0m\u001b[0;34m)\u001b[0m\u001b[0;34m)\u001b[0m\u001b[0;34m\u001b[0m\u001b[0m\n\u001b[0m\u001b[1;32m      2\u001b[0m \u001b[0;34m\u001b[0m\u001b[0m\n\u001b[1;32m      3\u001b[0m \u001b[0ml_max\u001b[0m\u001b[0;34m,\u001b[0m \u001b[0mr_min\u001b[0m \u001b[0;34m=\u001b[0m \u001b[0;34m-\u001b[0m\u001b[0;36m1\u001b[0m\u001b[0;34m,\u001b[0m \u001b[0;36m100000\u001b[0m\u001b[0;34m\u001b[0m\u001b[0m\n\u001b[1;32m      4\u001b[0m \u001b[0;32mfor\u001b[0m \u001b[0m_\u001b[0m \u001b[0;32min\u001b[0m \u001b[0mrange\u001b[0m\u001b[0;34m(\u001b[0m\u001b[0mM\u001b[0m\u001b[0;34m)\u001b[0m\u001b[0;34m:\u001b[0m\u001b[0;34m\u001b[0m\u001b[0m\n\u001b[1;32m      5\u001b[0m     \u001b[0mL\u001b[0m\u001b[0;34m,\u001b[0m \u001b[0mR\u001b[0m \u001b[0;34m=\u001b[0m \u001b[0mlist\u001b[0m\u001b[0;34m(\u001b[0m\u001b[0mmap\u001b[0m\u001b[0;34m(\u001b[0m\u001b[0mint\u001b[0m\u001b[0;34m,\u001b[0m \u001b[0minput\u001b[0m\u001b[0;34m(\u001b[0m\u001b[0;34m)\u001b[0m\u001b[0;34m.\u001b[0m\u001b[0msplit\u001b[0m\u001b[0;34m(\u001b[0m\u001b[0;34m)\u001b[0m\u001b[0;34m)\u001b[0m\u001b[0;34m)\u001b[0m\u001b[0;34m\u001b[0m\u001b[0m\n",
      "\u001b[0;32m/anaconda3/lib/python3.6/site-packages/ipykernel/kernelbase.py\u001b[0m in \u001b[0;36mraw_input\u001b[0;34m(self, prompt)\u001b[0m\n\u001b[1;32m    702\u001b[0m             \u001b[0mself\u001b[0m\u001b[0;34m.\u001b[0m\u001b[0m_parent_ident\u001b[0m\u001b[0;34m,\u001b[0m\u001b[0;34m\u001b[0m\u001b[0m\n\u001b[1;32m    703\u001b[0m             \u001b[0mself\u001b[0m\u001b[0;34m.\u001b[0m\u001b[0m_parent_header\u001b[0m\u001b[0;34m,\u001b[0m\u001b[0;34m\u001b[0m\u001b[0m\n\u001b[0;32m--> 704\u001b[0;31m             \u001b[0mpassword\u001b[0m\u001b[0;34m=\u001b[0m\u001b[0;32mFalse\u001b[0m\u001b[0;34m,\u001b[0m\u001b[0;34m\u001b[0m\u001b[0m\n\u001b[0m\u001b[1;32m    705\u001b[0m         )\n\u001b[1;32m    706\u001b[0m \u001b[0;34m\u001b[0m\u001b[0m\n",
      "\u001b[0;32m/anaconda3/lib/python3.6/site-packages/ipykernel/kernelbase.py\u001b[0m in \u001b[0;36m_input_request\u001b[0;34m(self, prompt, ident, parent, password)\u001b[0m\n\u001b[1;32m    732\u001b[0m             \u001b[0;32mexcept\u001b[0m \u001b[0mKeyboardInterrupt\u001b[0m\u001b[0;34m:\u001b[0m\u001b[0;34m\u001b[0m\u001b[0m\n\u001b[1;32m    733\u001b[0m                 \u001b[0;31m# re-raise KeyboardInterrupt, to truncate traceback\u001b[0m\u001b[0;34m\u001b[0m\u001b[0;34m\u001b[0m\u001b[0m\n\u001b[0;32m--> 734\u001b[0;31m                 \u001b[0;32mraise\u001b[0m \u001b[0mKeyboardInterrupt\u001b[0m\u001b[0;34m\u001b[0m\u001b[0m\n\u001b[0m\u001b[1;32m    735\u001b[0m             \u001b[0;32melse\u001b[0m\u001b[0;34m:\u001b[0m\u001b[0;34m\u001b[0m\u001b[0m\n\u001b[1;32m    736\u001b[0m                 \u001b[0;32mbreak\u001b[0m\u001b[0;34m\u001b[0m\u001b[0m\n",
      "\u001b[0;31mKeyboardInterrupt\u001b[0m: "
     ]
    }
   ],
   "source": [
    "N, M = list(map(int, input().split()))\n",
    "\n",
    "l_max, r_min = -1, 100000\n",
    "for _ in range(M):\n",
    "    L, R = list(map(int, input().split()))\n",
    "    if l_max < L:\n",
    "        l_max = L\n",
    "    if r_min > R:\n",
    "        r_min = R\n",
    "\n",
    "if r_min >= l_max:\n",
    "    print(r_min - l_max + 1)\n",
    "else:\n",
    "    print(0)\n"
   ]
  },
  {
   "cell_type": "code",
   "execution_count": 16,
   "metadata": {},
   "outputs": [
    {
     "name": "stdout",
     "output_type": "stream",
     "text": [
      "3 2\n",
      "5 1 4\n",
      "1000000097\n",
      "2 3\n",
      "1 5\n",
      "14\n"
     ]
    }
   ],
   "source": [
    "import numpy as np\n",
    "import sys\n",
    "N, M = list(map(int, input().split()))\n",
    "A_list = list(map(int, input().split()))\n",
    "\n",
    "card_num = np.zeros(10**9+1, dtype=\"uint8\")\n",
    "print(sys.getsizeof(card_num))\n",
    "max_num = -1\n",
    "for a in A_list:\n",
    "    card_num[a] += 1\n",
    "    if max_num < a:\n",
    "        max_num = a\n",
    "\n",
    "for _ in range(M):\n",
    "    \n",
    "    B, C = list(map(int, input().split()))\n",
    "    card_num[C] += B\n",
    "    if max_num < C:\n",
    "        max_num = C\n",
    "\n",
    "ans = 0\n",
    "current_num = 0\n",
    "for i in range(max_num, 0, -1):\n",
    "    num = card_num[i]\n",
    "    if num == 0:\n",
    "        continue\n",
    "    else:\n",
    "        if current_num + num <= N:\n",
    "            ans += num * i\n",
    "            current_num += num\n",
    "        else:\n",
    "            ans += (N-current_num) * i\n",
    "            break\n",
    "print(int(ans))"
   ]
  },
  {
   "cell_type": "code",
   "execution_count": 33,
   "metadata": {},
   "outputs": [
    {
     "name": "stdout",
     "output_type": "stream",
     "text": [
      "3 2\n",
      "5 1 4\n",
      "2 3\n",
      "1 5\n",
      "14\n"
     ]
    }
   ],
   "source": [
    "N, M = list(map(int, input().split()))\n",
    "A_list = list(map(int, input().split()))\n",
    "\n",
    "card = []\n",
    "card_num = []\n",
    "\n",
    "for a in A_list:\n",
    "    card.append(a)\n",
    "    card_num.append(1)\n",
    "        \n",
    "for _ in range(M):\n",
    "    B, C = list(map(int, input().split()))\n",
    "    card.append(C)\n",
    "    card_num.append(B)\n",
    "    \n",
    "union = zip(card, card_num)\n",
    "sorted_union = sorted(union, key=lambda x:x[0])[-1::-1]\n",
    "sorted_card, sorted_card_num = zip(*sorted_union)\n",
    "\n",
    "ans = 0\n",
    "current_num = 0\n",
    "for c, c_num in zip(sorted_card, sorted_card_num):\n",
    "    if current_num + c_num < N:\n",
    "        current_num += c_num\n",
    "        ans += c * c_num\n",
    "    else:\n",
    "        ans += c * (N - current_num)\n",
    "        current_num = N\n",
    "        break\n",
    "print(ans)"
   ]
  },
  {
   "cell_type": "code",
   "execution_count": 31,
   "metadata": {},
   "outputs": [
    {
     "data": {
      "text/plain": [
       "[(5, 1), (5, 1), (4, 1), (3, 2), (1, 1)]"
      ]
     },
     "execution_count": 31,
     "metadata": {},
     "output_type": "execute_result"
    }
   ],
   "source": [
    "sorted_union"
   ]
  },
  {
   "cell_type": "code",
   "execution_count": 19,
   "metadata": {},
   "outputs": [
    {
     "data": {
      "text/plain": [
       "[5, 1, 4, 3, 5]"
      ]
     },
     "execution_count": 19,
     "metadata": {},
     "output_type": "execute_result"
    }
   ],
   "source": [
    "N, M, K = list(map(int, input().split()))\n"
   ]
  },
  {
   "cell_type": "code",
   "execution_count": null,
   "metadata": {},
   "outputs": [],
   "source": []
  },
  {
   "cell_type": "code",
   "execution_count": null,
   "metadata": {},
   "outputs": [],
   "source": []
  },
  {
   "cell_type": "code",
   "execution_count": null,
   "metadata": {},
   "outputs": [],
   "source": []
  },
  {
   "cell_type": "code",
   "execution_count": 2,
   "metadata": {},
   "outputs": [
    {
     "name": "stdout",
     "output_type": "stream",
     "text": [
      "1 3\n",
      "3\n"
     ]
    }
   ],
   "source": [
    "#ABC128\n",
    "\n",
    "A,P = list(map(int, input().split()))\n",
    "\n",
    "print((A*3 + P) // 2)"
   ]
  },
  {
   "cell_type": "code",
   "execution_count": 10,
   "metadata": {},
   "outputs": [
    {
     "name": "stdout",
     "output_type": "stream",
     "text": [
      "3\n",
      "ab 5\n",
      "abf 3\n",
      "ab 9\n",
      "2\n",
      "0\n",
      "1\n"
     ]
    }
   ],
   "source": [
    "N = int(input())\n",
    "bag = []\n",
    "shi = []\n",
    "for i in range(N):\n",
    "    s, p = input().split()\n",
    "    p = int(p)\n",
    "    shi.append(s)\n",
    "    \n",
    "    bag.append((s, p, i))\n",
    "\n",
    "sorted_bag = sorted(bag, key=lambda x:x[0])\n",
    "sorted_shi = sorted(list(set(shi)))\n",
    "\n",
    "\n",
    "dic = {}\n",
    "for s, p, i in bag:\n",
    "    if s not in dic.keys():\n",
    "        dic[s] = [[p, i+1]]\n",
    "    else:\n",
    "        dic[s].append([p, i+1])\n",
    "\n",
    "for s in sorted_shi:\n",
    "    if len(dic[s]) == 1:\n",
    "        print(dic[s][0][1])\n",
    "    else:\n",
    "        so = sorted(dic[s], key=lambda x:x[0])[-1::-1]\n",
    "        for e in so:\n",
    "            print(e[1])"
   ]
  },
  {
   "cell_type": "code",
   "execution_count": 5,
   "metadata": {},
   "outputs": [
    {
     "data": {
      "text/plain": [
       "['ab', 'ed']"
      ]
     },
     "execution_count": 5,
     "metadata": {},
     "output_type": "execute_result"
    }
   ],
   "source": [
    "sorted_shi"
   ]
  },
  {
   "cell_type": "code",
   "execution_count": 28,
   "metadata": {},
   "outputs": [
    {
     "name": "stdout",
     "output_type": "stream",
     "text": [
      "2 1\n",
      "2 1 2\n",
      "1\n",
      "2\n"
     ]
    }
   ],
   "source": [
    "N, M = list(map(int, input().split()))\n",
    "\n",
    "\n",
    "\n",
    "denkyu = []\n",
    "for _ in range(M):\n",
    "    s_list = list(map(int, input().split()))[1:]\n",
    "    denkyu.append(s_list)\n",
    "p_ist = list(map(int, input().split()))\n",
    "\n",
    "ans = 0\n",
    "\n",
    "for i in range(1, 2**N, 1):\n",
    "    binary = format(i, '0{}b'.format(N))\n",
    "    \n",
    "    all_shine = True\n",
    "    for s_list, p in zip(denkyu, p_ist):\n",
    "        sum_ = 0\n",
    "        for s in s_list:\n",
    "            sum_ += int(binary[s-1])\n",
    "        if sum_ % 2 == p:\n",
    "            pass\n",
    "        else:\n",
    "            all_shine = False\n",
    "            continue\n",
    "            \n",
    "    if all_shine:\n",
    "        ans += 1\n",
    "    \n",
    "\n",
    "print(ans)      "
   ]
  },
  {
   "cell_type": "code",
   "execution_count": 25,
   "metadata": {},
   "outputs": [
    {
     "data": {
      "text/plain": [
       "'01'"
      ]
     },
     "execution_count": 25,
     "metadata": {},
     "output_type": "execute_result"
    }
   ],
   "source": []
  },
  {
   "cell_type": "code",
   "execution_count": null,
   "metadata": {},
   "outputs": [],
   "source": [
    "N, K = list(map(int, input().split()))\n",
    "V_list = list(map(int, input().split()))\n",
    "\n",
    "for k in range(K+1):\n",
    "    if k > 0:\n",
    "        for a in range(k+1):\n",
    "            b = k - a"
   ]
  },
  {
   "cell_type": "code",
   "execution_count": null,
   "metadata": {},
   "outputs": [],
   "source": []
  },
  {
   "cell_type": "code",
   "execution_count": 1,
   "metadata": {},
   "outputs": [
    {
     "name": "stdout",
     "output_type": "stream",
     "text": [
      "3\n",
      "180\n"
     ]
    }
   ],
   "source": [
    "N = int(input())\n",
    "print((N-2)*180)"
   ]
  },
  {
   "cell_type": "code",
   "execution_count": null,
   "metadata": {},
   "outputs": [],
   "source": []
  },
  {
   "cell_type": "code",
   "execution_count": 6,
   "metadata": {},
   "outputs": [
    {
     "name": "stdout",
     "output_type": "stream",
     "text": [
      "oxoxoxoxoxoxox\n",
      "YES\n"
     ]
    }
   ],
   "source": [
    "S = input()\n",
    "o_, x_ = 0, 0\n",
    "for s in S:\n",
    "    if s == \"o\":\n",
    "        o_ += 1\n",
    "    else:\n",
    "        x_ += 1\n",
    "if o_ > 7 - (15-len(S)):\n",
    "    print(\"YES\")\n",
    "else:\n",
    "    print(\"NO\")"
   ]
  },
  {
   "cell_type": "code",
   "execution_count": 5,
   "metadata": {},
   "outputs": [
    {
     "data": {
      "text/plain": [
       "14"
      ]
     },
     "execution_count": 5,
     "metadata": {},
     "output_type": "execute_result"
    }
   ],
   "source": []
  },
  {
   "cell_type": "code",
   "execution_count": null,
   "metadata": {},
   "outputs": [],
   "source": [
    "import math\n",
    "N, A, B, C = list(map(int, input().split()))\n",
    "\n",
    "def prob(k):\n",
    "    kCn = math.factorial(k) / (math.factorial(N) * math.factorial(k-N))\n",
    "    \n",
    "    A_prob = (A/100)**N\n",
    "    \n",
    "    A_latter = 0\n",
    "    for i in range(k-N):\n",
    "        C = math.factorial(k-N) / (math.factorial(i) * math.factorial(k-N-i))\n",
    "        A_latter += C * ((B/100)**i) * ((C/100)**(k-N-i))\n",
    "        \n",
    "    A_prob = (A/100)**N\n",
    "    \n",
    "    A_latter = 0\n",
    "    for i in range(k-N):\n",
    "        C = math.factorial(k-N) / (math.factorial(i) * math.factorial(k-N-i))\n",
    "        A_latter += C * ((B/100)**i) * ((C/100)**(k-N-i))\n",
    "    \n",
    "    "
   ]
  },
  {
   "cell_type": "code",
   "execution_count": null,
   "metadata": {},
   "outputs": [],
   "source": []
  },
  {
   "cell_type": "code",
   "execution_count": null,
   "metadata": {},
   "outputs": [],
   "source": []
  },
  {
   "cell_type": "code",
   "execution_count": 2,
   "metadata": {},
   "outputs": [
    {
     "name": "stdout",
     "output_type": "stream",
     "text": [
      "3 2 3\n",
      "5\n"
     ]
    }
   ],
   "source": [
    "#ABC129\n",
    "P,Q,R = list(map(int, input().split()))\n",
    "\n",
    "sum_ = P+Q+R\n",
    "print(sum_ - max(P,Q,R))\n"
   ]
  },
  {
   "cell_type": "code",
   "execution_count": 5,
   "metadata": {},
   "outputs": [
    {
     "name": "stdout",
     "output_type": "stream",
     "text": [
      "4\n",
      "1 3 1 1\n",
      "2\n"
     ]
    }
   ],
   "source": [
    "N = int(input())\n",
    "W_list = list(map(int, input().split()))\n",
    "\n",
    "left, right = 0, 0\n",
    "ans = 100000000\n",
    "\n",
    "for idx,w in enumerate(W_list):\n",
    "    if idx == 0:\n",
    "        left = w\n",
    "        right = sum(W_list) - w\n",
    "    else:\n",
    "        left += w\n",
    "        right -= w\n",
    "        \n",
    "    if ans > abs(left - right):\n",
    "        ans = abs(left - right)\n",
    "print(ans)\n",
    "    "
   ]
  },
  {
   "cell_type": "code",
   "execution_count": 71,
   "metadata": {},
   "outputs": [
    {
     "name": "stdout",
     "output_type": "stream",
     "text": [
      "2 1\n",
      "1\n",
      "1\n"
     ]
    }
   ],
   "source": [
    "import math\n",
    "N, M = list(map(int, input().split()))\n",
    "\n",
    "a_list = []\n",
    "former_a = -1\n",
    "imp = False\n",
    "\n",
    "for _ in range(M):\n",
    "    a = int(input())\n",
    "    a_list.append(a)\n",
    "    if former_a < 0:\n",
    "        former_a = a\n",
    "    else:\n",
    "        if a - former_a == 1:\n",
    "            imp = True\n",
    "            break\n",
    "\n",
    "if imp:\n",
    "    print(0)\n",
    "else:\n",
    "    \n",
    "    def get_next(a1, length):\n",
    "        if length < 3:\n",
    "            return a1\n",
    "        else:\n",
    "            one, two = a1, a1\n",
    "            for i in range(3, length+1, 1):\n",
    "                ans = one + two\n",
    "                two = one\n",
    "                one = ans\n",
    "            return ans\n",
    "    if M == 0:\n",
    "        print(get_next(1, N+1) % 1000000007)\n",
    "    else:\n",
    "    \n",
    "        for idx, a in enumerate(a_list):\n",
    "            if idx == 0:\n",
    "                tyokuzen = get_next(1, a)\n",
    "\n",
    "            else:\n",
    "                tyokuzen = get_next(tyokuzen, a - a_list[idx-1] -1)\n",
    "\n",
    "        ans =  get_next(tyokuzen, N - a_list[-1])\n",
    "\n",
    "        print(ans % 1000000007)\n"
   ]
  },
  {
   "cell_type": "code",
   "execution_count": 77,
   "metadata": {},
   "outputs": [
    {
     "data": {
      "text/plain": [
       "2"
      ]
     },
     "execution_count": 77,
     "metadata": {},
     "output_type": "execute_result"
    }
   ],
   "source": [
    "def get_next(a1, length):\n",
    "    if length < 3:\n",
    "        return a1\n",
    "    else:\n",
    "        one, two = a1, a1\n",
    "        for i in range(3, length+1, 1):\n",
    "            ans = one + two\n",
    "            two = one\n",
    "            one = ans\n",
    "        return ans\n",
    "get_next(1, 3)\n",
    "    "
   ]
  },
  {
   "cell_type": "code",
   "execution_count": 40,
   "metadata": {},
   "outputs": [
    {
     "data": {
      "text/plain": [
       "11.18033988749895"
      ]
     },
     "execution_count": 40,
     "metadata": {},
     "output_type": "execute_result"
    }
   ],
   "source": [
    "\n",
    "common_solution(1,1,5)"
   ]
  },
  {
   "cell_type": "code",
   "execution_count": null,
   "metadata": {},
   "outputs": [],
   "source": []
  },
  {
   "cell_type": "code",
   "execution_count": null,
   "metadata": {},
   "outputs": [],
   "source": []
  },
  {
   "cell_type": "code",
   "execution_count": null,
   "metadata": {},
   "outputs": [],
   "source": []
  },
  {
   "cell_type": "markdown",
   "metadata": {},
   "source": [
    "# ABC131"
   ]
  },
  {
   "cell_type": "code",
   "execution_count": 4,
   "metadata": {},
   "outputs": [
    {
     "ename": "KeyboardInterrupt",
     "evalue": "",
     "output_type": "error",
     "traceback": [
      "\u001b[0;31m---------------------------------------------------------------------------\u001b[0m",
      "\u001b[0;31mKeyboardInterrupt\u001b[0m                         Traceback (most recent call last)",
      "\u001b[0;32m/anaconda3/lib/python3.6/site-packages/ipykernel/kernelbase.py\u001b[0m in \u001b[0;36m_input_request\u001b[0;34m(self, prompt, ident, parent, password)\u001b[0m\n\u001b[1;32m    728\u001b[0m             \u001b[0;32mtry\u001b[0m\u001b[0;34m:\u001b[0m\u001b[0;34m\u001b[0m\u001b[0m\n\u001b[0;32m--> 729\u001b[0;31m                 \u001b[0mident\u001b[0m\u001b[0;34m,\u001b[0m \u001b[0mreply\u001b[0m \u001b[0;34m=\u001b[0m \u001b[0mself\u001b[0m\u001b[0;34m.\u001b[0m\u001b[0msession\u001b[0m\u001b[0;34m.\u001b[0m\u001b[0mrecv\u001b[0m\u001b[0;34m(\u001b[0m\u001b[0mself\u001b[0m\u001b[0;34m.\u001b[0m\u001b[0mstdin_socket\u001b[0m\u001b[0;34m,\u001b[0m \u001b[0;36m0\u001b[0m\u001b[0;34m)\u001b[0m\u001b[0;34m\u001b[0m\u001b[0m\n\u001b[0m\u001b[1;32m    730\u001b[0m             \u001b[0;32mexcept\u001b[0m \u001b[0mException\u001b[0m\u001b[0;34m:\u001b[0m\u001b[0;34m\u001b[0m\u001b[0m\n",
      "\u001b[0;32m/anaconda3/lib/python3.6/site-packages/jupyter_client/session.py\u001b[0m in \u001b[0;36mrecv\u001b[0;34m(self, socket, mode, content, copy)\u001b[0m\n\u001b[1;32m    802\u001b[0m         \u001b[0;32mtry\u001b[0m\u001b[0;34m:\u001b[0m\u001b[0;34m\u001b[0m\u001b[0m\n\u001b[0;32m--> 803\u001b[0;31m             \u001b[0mmsg_list\u001b[0m \u001b[0;34m=\u001b[0m \u001b[0msocket\u001b[0m\u001b[0;34m.\u001b[0m\u001b[0mrecv_multipart\u001b[0m\u001b[0;34m(\u001b[0m\u001b[0mmode\u001b[0m\u001b[0;34m,\u001b[0m \u001b[0mcopy\u001b[0m\u001b[0;34m=\u001b[0m\u001b[0mcopy\u001b[0m\u001b[0;34m)\u001b[0m\u001b[0;34m\u001b[0m\u001b[0m\n\u001b[0m\u001b[1;32m    804\u001b[0m         \u001b[0;32mexcept\u001b[0m \u001b[0mzmq\u001b[0m\u001b[0;34m.\u001b[0m\u001b[0mZMQError\u001b[0m \u001b[0;32mas\u001b[0m \u001b[0me\u001b[0m\u001b[0;34m:\u001b[0m\u001b[0;34m\u001b[0m\u001b[0m\n",
      "\u001b[0;32m/anaconda3/lib/python3.6/site-packages/zmq/sugar/socket.py\u001b[0m in \u001b[0;36mrecv_multipart\u001b[0;34m(self, flags, copy, track)\u001b[0m\n\u001b[1;32m    394\u001b[0m         \"\"\"\n\u001b[0;32m--> 395\u001b[0;31m         \u001b[0mparts\u001b[0m \u001b[0;34m=\u001b[0m \u001b[0;34m[\u001b[0m\u001b[0mself\u001b[0m\u001b[0;34m.\u001b[0m\u001b[0mrecv\u001b[0m\u001b[0;34m(\u001b[0m\u001b[0mflags\u001b[0m\u001b[0;34m,\u001b[0m \u001b[0mcopy\u001b[0m\u001b[0;34m=\u001b[0m\u001b[0mcopy\u001b[0m\u001b[0;34m,\u001b[0m \u001b[0mtrack\u001b[0m\u001b[0;34m=\u001b[0m\u001b[0mtrack\u001b[0m\u001b[0;34m)\u001b[0m\u001b[0;34m]\u001b[0m\u001b[0;34m\u001b[0m\u001b[0m\n\u001b[0m\u001b[1;32m    396\u001b[0m         \u001b[0;31m# have first part already, only loop while more to receive\u001b[0m\u001b[0;34m\u001b[0m\u001b[0;34m\u001b[0m\u001b[0m\n",
      "\u001b[0;32mzmq/backend/cython/socket.pyx\u001b[0m in \u001b[0;36mzmq.backend.cython.socket.Socket.recv\u001b[0;34m()\u001b[0m\n",
      "\u001b[0;32mzmq/backend/cython/socket.pyx\u001b[0m in \u001b[0;36mzmq.backend.cython.socket.Socket.recv\u001b[0;34m()\u001b[0m\n",
      "\u001b[0;32mzmq/backend/cython/socket.pyx\u001b[0m in \u001b[0;36mzmq.backend.cython.socket._recv_copy\u001b[0;34m()\u001b[0m\n",
      "\u001b[0;32m/anaconda3/lib/python3.6/site-packages/zmq/backend/cython/checkrc.pxd\u001b[0m in \u001b[0;36mzmq.backend.cython.checkrc._check_rc\u001b[0;34m()\u001b[0m\n",
      "\u001b[0;31mKeyboardInterrupt\u001b[0m: ",
      "\nDuring handling of the above exception, another exception occurred:\n",
      "\u001b[0;31mKeyboardInterrupt\u001b[0m                         Traceback (most recent call last)",
      "\u001b[0;32m<ipython-input-4-5959d055cf4a>\u001b[0m in \u001b[0;36m<module>\u001b[0;34m()\u001b[0m\n\u001b[0;32m----> 1\u001b[0;31m \u001b[0mN\u001b[0m \u001b[0;34m=\u001b[0m \u001b[0minput\u001b[0m\u001b[0;34m(\u001b[0m\u001b[0;34m)\u001b[0m\u001b[0;34m\u001b[0m\u001b[0m\n\u001b[0m\u001b[1;32m      2\u001b[0m \u001b[0;34m\u001b[0m\u001b[0m\n\u001b[1;32m      3\u001b[0m \u001b[0mform\u001b[0m\u001b[0;34m=\u001b[0m\u001b[0;34m\"\"\u001b[0m\u001b[0;34m\u001b[0m\u001b[0m\n\u001b[1;32m      4\u001b[0m \u001b[0;32mfor\u001b[0m \u001b[0ms\u001b[0m \u001b[0;32min\u001b[0m \u001b[0mN\u001b[0m\u001b[0;34m:\u001b[0m\u001b[0;34m\u001b[0m\u001b[0m\n\u001b[1;32m      5\u001b[0m     \u001b[0;32mif\u001b[0m \u001b[0mform\u001b[0m \u001b[0;34m==\u001b[0m \u001b[0ms\u001b[0m\u001b[0;34m:\u001b[0m\u001b[0;34m\u001b[0m\u001b[0m\n",
      "\u001b[0;32m/anaconda3/lib/python3.6/site-packages/ipykernel/kernelbase.py\u001b[0m in \u001b[0;36mraw_input\u001b[0;34m(self, prompt)\u001b[0m\n\u001b[1;32m    702\u001b[0m             \u001b[0mself\u001b[0m\u001b[0;34m.\u001b[0m\u001b[0m_parent_ident\u001b[0m\u001b[0;34m,\u001b[0m\u001b[0;34m\u001b[0m\u001b[0m\n\u001b[1;32m    703\u001b[0m             \u001b[0mself\u001b[0m\u001b[0;34m.\u001b[0m\u001b[0m_parent_header\u001b[0m\u001b[0;34m,\u001b[0m\u001b[0;34m\u001b[0m\u001b[0m\n\u001b[0;32m--> 704\u001b[0;31m             \u001b[0mpassword\u001b[0m\u001b[0;34m=\u001b[0m\u001b[0;32mFalse\u001b[0m\u001b[0;34m,\u001b[0m\u001b[0;34m\u001b[0m\u001b[0m\n\u001b[0m\u001b[1;32m    705\u001b[0m         )\n\u001b[1;32m    706\u001b[0m \u001b[0;34m\u001b[0m\u001b[0m\n",
      "\u001b[0;32m/anaconda3/lib/python3.6/site-packages/ipykernel/kernelbase.py\u001b[0m in \u001b[0;36m_input_request\u001b[0;34m(self, prompt, ident, parent, password)\u001b[0m\n\u001b[1;32m    732\u001b[0m             \u001b[0;32mexcept\u001b[0m \u001b[0mKeyboardInterrupt\u001b[0m\u001b[0;34m:\u001b[0m\u001b[0;34m\u001b[0m\u001b[0m\n\u001b[1;32m    733\u001b[0m                 \u001b[0;31m# re-raise KeyboardInterrupt, to truncate traceback\u001b[0m\u001b[0;34m\u001b[0m\u001b[0;34m\u001b[0m\u001b[0m\n\u001b[0;32m--> 734\u001b[0;31m                 \u001b[0;32mraise\u001b[0m \u001b[0mKeyboardInterrupt\u001b[0m\u001b[0;34m\u001b[0m\u001b[0m\n\u001b[0m\u001b[1;32m    735\u001b[0m             \u001b[0;32melse\u001b[0m\u001b[0;34m:\u001b[0m\u001b[0;34m\u001b[0m\u001b[0m\n\u001b[1;32m    736\u001b[0m                 \u001b[0;32mbreak\u001b[0m\u001b[0;34m\u001b[0m\u001b[0m\n",
      "\u001b[0;31mKeyboardInterrupt\u001b[0m: "
     ]
    }
   ],
   "source": [
    "import sys\n",
    "N = input()\n",
    "\n",
    "form=\"\"\n",
    "for s in N:\n",
    "    if form == s:\n",
    "        print(\"Bad\")\n",
    "        sys.exit()\n",
    "    else:\n",
    "        pass\n",
    "    form = s\n",
    "print(\"Good\")\n"
   ]
  },
  {
   "cell_type": "code",
   "execution_count": null,
   "metadata": {},
   "outputs": [],
   "source": []
  },
  {
   "cell_type": "code",
   "execution_count": 7,
   "metadata": {},
   "outputs": [
    {
     "name": "stdout",
     "output_type": "stream",
     "text": [
      "30 -50\n",
      "-1044\n"
     ]
    }
   ],
   "source": [
    "N, L = list(map(int, input().split()))\n",
    "\n",
    "tastes = [L + i -1 for i in range(1, N+1, 1)]\n",
    "\n",
    "if tastes[0] * tastes[-1] <= 0:\n",
    "    print(sum(tastes))\n",
    "else:\n",
    "    if min(tastes) < 0:\n",
    "        print(sum(tastes) - tastes[-1])\n",
    "    else:\n",
    "        print(sum(tastes) - tastes[0])"
   ]
  },
  {
   "cell_type": "code",
   "execution_count": null,
   "metadata": {},
   "outputs": [],
   "source": []
  },
  {
   "cell_type": "code",
   "execution_count": null,
   "metadata": {},
   "outputs": [],
   "source": []
  },
  {
   "cell_type": "code",
   "execution_count": 16,
   "metadata": {},
   "outputs": [
    {
     "name": "stdout",
     "output_type": "stream",
     "text": [
      "314159265358979323 846264338327950288 419716939 937510582\n"
     ]
    },
    {
     "ename": "KeyboardInterrupt",
     "evalue": "",
     "output_type": "error",
     "traceback": [
      "\u001b[0;31m---------------------------------------------------------------------------\u001b[0m",
      "\u001b[0;31mKeyboardInterrupt\u001b[0m                         Traceback (most recent call last)",
      "\u001b[0;32m<ipython-input-16-4491d159818f>\u001b[0m in \u001b[0;36m<module>\u001b[0;34m()\u001b[0m\n\u001b[1;32m     16\u001b[0m \u001b[0;34m\u001b[0m\u001b[0m\n\u001b[1;32m     17\u001b[0m \u001b[0;32mfor\u001b[0m \u001b[0mv\u001b[0m \u001b[0;32min\u001b[0m \u001b[0mrange\u001b[0m\u001b[0;34m(\u001b[0m\u001b[0mA\u001b[0m\u001b[0;34m,\u001b[0m \u001b[0mlcm_value\u001b[0m\u001b[0;34m*\u001b[0m\u001b[0;34m(\u001b[0m\u001b[0mA_syou\u001b[0m\u001b[0;34m+\u001b[0m\u001b[0;36m1\u001b[0m\u001b[0;34m)\u001b[0m\u001b[0;34m+\u001b[0m\u001b[0;36m1\u001b[0m\u001b[0;34m,\u001b[0m \u001b[0;36m1\u001b[0m\u001b[0;34m)\u001b[0m\u001b[0;34m:\u001b[0m\u001b[0;34m\u001b[0m\u001b[0m\n\u001b[0;32m---> 18\u001b[0;31m     \u001b[0;32mif\u001b[0m \u001b[0;32mnot\u001b[0m \u001b[0mv\u001b[0m \u001b[0;34m%\u001b[0m \u001b[0mC\u001b[0m \u001b[0;34m==\u001b[0m \u001b[0;36m0\u001b[0m \u001b[0;32mand\u001b[0m \u001b[0;32mnot\u001b[0m \u001b[0mv\u001b[0m \u001b[0;34m%\u001b[0m \u001b[0mD\u001b[0m \u001b[0;34m==\u001b[0m \u001b[0;36m0\u001b[0m\u001b[0;34m:\u001b[0m\u001b[0;34m\u001b[0m\u001b[0m\n\u001b[0m\u001b[1;32m     19\u001b[0m         \u001b[0mans\u001b[0m \u001b[0;34m+=\u001b[0m \u001b[0;36m1\u001b[0m\u001b[0;34m\u001b[0m\u001b[0m\n\u001b[1;32m     20\u001b[0m \u001b[0;34m\u001b[0m\u001b[0m\n",
      "\u001b[0;31mKeyboardInterrupt\u001b[0m: "
     ]
    }
   ],
   "source": [
    "import math\n",
    "A,B,C,D = list(map(int, input().split()))\n",
    "\n",
    "def lcm(x, y):\n",
    "    return (x * y) // math.gcd(x, y)\n",
    "\n",
    "lcm_value = lcm(C,D)\n",
    "\n",
    "num_C = lcm_value // C\n",
    "num_D = lcm_value // D\n",
    "\n",
    "A_syou = A // lcm_value\n",
    "B_syou = B // lcm_value\n",
    "\n",
    "ans = 0\n",
    "\n",
    "for v in range(A, lcm_value*(A_syou+1)+1, 1):\n",
    "    if not v % C == 0 and not v % D == 0:\n",
    "        ans += 1\n",
    "        \n",
    "\n",
    "for v in range(lcm_value*(B_syou)+1, B+1, 1):\n",
    "    if not v % C == 0 and not v % D == 0:\n",
    "        ans += 1    \n",
    "\n",
    "can_num = (B_syou - A_syou - 1) * (num_C+num_D-1)\n",
    "\n",
    "if can_num > 0:\n",
    "    ans += ((B_syou - A_syou) * lcm_value + 1) - can_num\n",
    "print(ans)"
   ]
  },
  {
   "cell_type": "code",
   "execution_count": 14,
   "metadata": {},
   "outputs": [
    {
     "data": {
      "text/plain": [
       "-12"
      ]
     },
     "execution_count": 14,
     "metadata": {},
     "output_type": "execute_result"
    }
   ],
   "source": [
    "can_num"
   ]
  },
  {
   "cell_type": "code",
   "execution_count": 25,
   "metadata": {},
   "outputs": [
    {
     "name": "stdout",
     "output_type": "stream",
     "text": [
      "5\n",
      "2 4\n",
      "1 9\n",
      "1 8\n",
      "4 9\n",
      "3 12\n",
      "Yes\n"
     ]
    }
   ],
   "source": [
    "import sys\n",
    "\n",
    "N = int(input())\n",
    "worktime, deadline = [], []\n",
    "\n",
    "for _ in range(N):\n",
    "    a, b = map(int, input().split())\n",
    "    worktime.append(a)\n",
    "    deadline.append(b)\n",
    "\n",
    "union = sorted(zip(worktime, deadline), key=lambda x: x[1])\n",
    "worktime, deadline = zip(*union)\n",
    "\n",
    "current = 0\n",
    "for i in range(N):\n",
    "    if current + worktime[i] > deadline[i]:\n",
    "        print(\"No\")\n",
    "        sys.exit()\n",
    "    else:\n",
    "        current += worktime[i]\n",
    "        pass\n",
    "print(\"Yes\")\n",
    "    \n",
    "    "
   ]
  },
  {
   "cell_type": "code",
   "execution_count": 22,
   "metadata": {},
   "outputs": [
    {
     "data": {
      "text/plain": [
       "(2, 4, 10)"
      ]
     },
     "execution_count": 22,
     "metadata": {},
     "output_type": "execute_result"
    }
   ],
   "source": [
    "deadline"
   ]
  },
  {
   "cell_type": "code",
   "execution_count": null,
   "metadata": {},
   "outputs": [],
   "source": []
  },
  {
   "cell_type": "code",
   "execution_count": null,
   "metadata": {},
   "outputs": [],
   "source": []
  },
  {
   "cell_type": "code",
   "execution_count": null,
   "metadata": {},
   "outputs": [],
   "source": []
  },
  {
   "cell_type": "code",
   "execution_count": 1,
   "metadata": {},
   "outputs": [
    {
     "name": "stdout",
     "output_type": "stream",
     "text": [
      "4 2 9\n",
      "8\n"
     ]
    }
   ],
   "source": [
    "# ABC 133\n",
    "n, a, b = map(int, input().split())\n",
    "\n",
    "print(min(n*a, b))\n"
   ]
  },
  {
   "cell_type": "code",
   "execution_count": null,
   "metadata": {},
   "outputs": [],
   "source": []
  },
  {
   "cell_type": "code",
   "execution_count": 13,
   "metadata": {},
   "outputs": [
    {
     "name": "stdout",
     "output_type": "stream",
     "text": [
      "3 2\n",
      "1 2\n",
      "5 5\n",
      "-2 8\n",
      "1\n"
     ]
    }
   ],
   "source": [
    "import numpy as np\n",
    "n, d = map(int, input().split())\n",
    "\n",
    "x = []\n",
    "for i in range(n):\n",
    "    x.append(list(map(int, input().split())))\n",
    "    \n",
    "ans = 0\n",
    "for idx, point in enumerate(x):\n",
    "    for idx2 in range(idx+1, len(x), 1):\n",
    "    \n",
    "        norm =  np.linalg.norm(np.asarray(point) - np.asarray(x[idx2]))\n",
    "        if norm % 1 == 0:\n",
    "            ans += 1\n",
    "print(ans)"
   ]
  },
  {
   "cell_type": "code",
   "execution_count": null,
   "metadata": {},
   "outputs": [],
   "source": []
  },
  {
   "cell_type": "code",
   "execution_count": 27,
   "metadata": {},
   "outputs": [
    {
     "name": "stdout",
     "output_type": "stream",
     "text": [
      "2010 2030\n",
      "0\n"
     ]
    }
   ],
   "source": [
    "L, R = map(int, input().split())\n",
    "\n",
    "num = L*(L+1)\n",
    "\n",
    "if L*R < 2019:\n",
    "    print(L*R)\n",
    "else:\n",
    "    ans = 1e+1000\n",
    "    while True:\n",
    "         if num > L*R:\n",
    "            break\n",
    "\n",
    "        mod = num % 2019\n",
    "        if mod < ans:\n",
    "            ans = mod\n",
    "\n",
    "        num += 1\n",
    "    print(ans)"
   ]
  },
  {
   "cell_type": "code",
   "execution_count": 24,
   "metadata": {},
   "outputs": [
    {
     "data": {
      "text/plain": [
       "4084437"
      ]
     },
     "execution_count": 24,
     "metadata": {},
     "output_type": "execute_result"
    }
   ],
   "source": [
    "saved"
   ]
  },
  {
   "cell_type": "code",
   "execution_count": null,
   "metadata": {},
   "outputs": [],
   "source": []
  },
  {
   "cell_type": "code",
   "execution_count": 47,
   "metadata": {},
   "outputs": [
    {
     "name": "stdout",
     "output_type": "stream",
     "text": [
      "3\n",
      "2 2 4\n",
      "4 0 4\n"
     ]
    }
   ],
   "source": [
    "N = int(input())\n",
    "A = list(map(int, input().split()))\n",
    "\n",
    "irekae_sum = 0\n",
    "for idx, a in enumerate(A):\n",
    "    if idx % 2 == 0:    \n",
    "        irekae_sum += a\n",
    "    else:\n",
    "        irekae_sum -= a\n",
    "        \n",
    "ans = []\n",
    "for i in range(N):\n",
    "    ans.append(str(irekae_sum))\n",
    "    irekae_sum = - irekae_sum + 2*A[i]\n",
    "            \n",
    "print(\" \".join(ans))"
   ]
  },
  {
   "cell_type": "code",
   "execution_count": 31,
   "metadata": {},
   "outputs": [
    {
     "data": {
      "text/plain": [
       "0"
      ]
     },
     "execution_count": 31,
     "metadata": {},
     "output_type": "execute_result"
    }
   ],
   "source": [
    "0%2"
   ]
  },
  {
   "cell_type": "code",
   "execution_count": null,
   "metadata": {},
   "outputs": [],
   "source": []
  }
 ],
 "metadata": {
  "kernelspec": {
   "display_name": "Python 3",
   "language": "python",
   "name": "python3"
  },
  "language_info": {
   "codemirror_mode": {
    "name": "ipython",
    "version": 3
   },
   "file_extension": ".py",
   "mimetype": "text/x-python",
   "name": "python",
   "nbconvert_exporter": "python",
   "pygments_lexer": "ipython3",
   "version": "3.6.4"
  }
 },
 "nbformat": 4,
 "nbformat_minor": 2
}
