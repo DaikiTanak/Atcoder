{
 "cells": [
  {
   "cell_type": "code",
   "execution_count": 42,
   "metadata": {},
   "outputs": [
    {
     "name": "stdout",
     "output_type": "stream",
     "text": [
      "3 3\n",
      "#..\n",
      "...\n",
      "..#\n",
      "2\n"
     ]
    }
   ],
   "source": [
    "import numpy as np\n",
    "H, W = list(map(int, input().split()))\n",
    "masu = np.zeros((H,W))\n",
    "distance = np.zeros((H, W))\n",
    "\n",
    "black = []\n",
    "for i in range(H):\n",
    "    colors = input()\n",
    "    for j in range(W):\n",
    "        if colors[j] == \"#\":\n",
    "            masu[i][j] = 1\n",
    "            black.append((i, j))\n",
    "\n",
    "for i in range(H):\n",
    "    for j in range(W):\n",
    "        if masu[i][j] == 0:\n",
    "            min_dist = 2000\n",
    "            for b in black:\n",
    "                dis = abs(b[0] - i) + abs(b[1] - j)\n",
    "                if dis < min_dist:\n",
    "                    min_dist = dis\n",
    "            distance[i][j] = min_dist\n",
    "                \n",
    "print(int(np.max(distance)))"
   ]
  },
  {
   "cell_type": "code",
   "execution_count": 43,
   "metadata": {},
   "outputs": [
    {
     "data": {
      "text/plain": [
       "array([[0., 1., 2.],\n",
       "       [1., 2., 1.],\n",
       "       [2., 1., 0.]])"
      ]
     },
     "execution_count": 43,
     "metadata": {},
     "output_type": "execute_result"
    }
   ],
   "source": [
    "distance\n"
   ]
  },
  {
   "cell_type": "code",
   "execution_count": 44,
   "metadata": {},
   "outputs": [
    {
     "data": {
      "text/plain": [
       "array([[1., 0., 0.],\n",
       "       [0., 0., 0.],\n",
       "       [0., 0., 1.]])"
      ]
     },
     "execution_count": 44,
     "metadata": {},
     "output_type": "execute_result"
    }
   ],
   "source": [
    "masu"
   ]
  },
  {
   "cell_type": "code",
   "execution_count": 24,
   "metadata": {},
   "outputs": [
    {
     "data": {
      "text/plain": [
       "6"
      ]
     },
     "execution_count": 24,
     "metadata": {},
     "output_type": "execute_result"
    }
   ],
   "source": [
    "H"
   ]
  },
  {
   "cell_type": "code",
   "execution_count": null,
   "metadata": {},
   "outputs": [],
   "source": []
  }
 ],
 "metadata": {
  "kernelspec": {
   "display_name": "Python 3",
   "language": "python",
   "name": "python3"
  },
  "language_info": {
   "codemirror_mode": {
    "name": "ipython",
    "version": 3
   },
   "file_extension": ".py",
   "mimetype": "text/x-python",
   "name": "python",
   "nbconvert_exporter": "python",
   "pygments_lexer": "ipython3",
   "version": "3.6.4"
  }
 },
 "nbformat": 4,
 "nbformat_minor": 2
}
