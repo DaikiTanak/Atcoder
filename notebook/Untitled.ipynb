{
 "cells": [
  {
   "cell_type": "code",
   "execution_count": 1,
   "metadata": {},
   "outputs": [],
   "source": [
    "import numpy as np"
   ]
  },
  {
   "cell_type": "code",
   "execution_count": 28,
   "metadata": {},
   "outputs": [
    {
     "name": "stdout",
     "output_type": "stream",
     "text": [
      "1\n",
      "0\n",
      "0\n"
     ]
    }
   ],
   "source": [
    "N, = int(input())\n",
    "\n",
    "nums = [int(input()) for x in range(N)]\n",
    "    \n",
    "    \n",
    "def conv(x):\n",
    "    if x < 0: \n",
    "        return None\n",
    "    if x == 0:\n",
    "        return 0\n",
    "    nchar = 'ABCDEFGHIJKLMNOPQRSTUVWXYZ'\n",
    "    result = ''\n",
    "    \n",
    "    while x > 0:\n",
    "        result = nchar[x % 26 - 1] + result\n",
    "        x = x // 26 \n",
    "    return result\n",
    "    \n",
    "for n in nums:\n",
    "    print(conv(n))\n",
    "    \n"
   ]
  },
  {
   "cell_type": "markdown",
   "metadata": {},
   "source": []
  },
  {
   "cell_type": "code",
   "execution_count": null,
   "metadata": {},
   "outputs": [],
   "source": []
  },
  {
   "cell_type": "code",
   "execution_count": 1,
   "metadata": {},
   "outputs": [
    {
     "data": {
      "text/plain": [
       "6"
      ]
     },
     "execution_count": 1,
     "metadata": {},
     "output_type": "execute_result"
    }
   ],
   "source": [
    "3 ^ 5"
   ]
  },
  {
   "cell_type": "code",
   "execution_count": null,
   "metadata": {},
   "outputs": [],
   "source": []
  },
  {
   "cell_type": "code",
   "execution_count": 27,
   "metadata": {},
   "outputs": [
    {
     "name": "stdout",
     "output_type": "stream",
     "text": [
      "1 0\n",
      "100000\n",
      "31071\n",
      "131071\n"
     ]
    }
   ],
   "source": [
    "import numpy as np\n",
    "N, K = map(int, input().split())\n",
    "\n",
    "A_list = list(map(int, input().split()))\n",
    "\n",
    "max_a = np.max(A_list)\n",
    "length = len(str(bin(max_a)[2:]))\n",
    "\n",
    "# v = []\n",
    "# for i in range(0, K+1):\n",
    "#     f = 0\n",
    "#     for a in A_list:\n",
    "#         f += a ^ i\n",
    "#     v.append(f)\n",
    "    \n",
    "# print(np.max(v))\n",
    "\n",
    "binary = []\n",
    "for a in A_list:\n",
    "    bi = str(bin(a)[2:])\n",
    "    if len(bi) < length:\n",
    "        bi = \"0\"*(length-len(bi)) + bi\n",
    "    binary.append(bi)\n",
    "# print(binary)\n",
    "\n",
    "keta = []\n",
    "for i in range(length):\n",
    "    zero_count = 0\n",
    "    for bi in binary:\n",
    "        if bi[i] == \"0\":\n",
    "            zero_count += 1\n",
    "    keta.append(zero_count)\n",
    "# print(keta)\n",
    "\n",
    "X = \"\"\n",
    "for zero_count in keta:\n",
    "    \n",
    "    if zero_count > int(N/2):\n",
    "        X = X+ \"1\"\n",
    "    else:\n",
    "        X = X+\"0\"\n",
    "X = \"0B\" + X\n",
    "X = int(X, 0)\n",
    "print(X)\n",
    "\n",
    "ans = 0\n",
    "for a in A_list:\n",
    "    ans += X ^ a\n",
    "print(ans)"
   ]
  },
  {
   "cell_type": "code",
   "execution_count": 18,
   "metadata": {},
   "outputs": [
    {
     "data": {
      "text/plain": [
       "1"
      ]
     },
     "execution_count": 18,
     "metadata": {},
     "output_type": "execute_result"
    }
   ],
   "source": [
    "int(3/2)"
   ]
  },
  {
   "cell_type": "code",
   "execution_count": null,
   "metadata": {},
   "outputs": [],
   "source": []
  }
 ],
 "metadata": {
  "kernelspec": {
   "display_name": "Python 3",
   "language": "python",
   "name": "python3"
  },
  "language_info": {
   "codemirror_mode": {
    "name": "ipython",
    "version": 3
   },
   "file_extension": ".py",
   "mimetype": "text/x-python",
   "name": "python",
   "nbconvert_exporter": "python",
   "pygments_lexer": "ipython3",
   "version": "3.6.4"
  }
 },
 "nbformat": 4,
 "nbformat_minor": 2
}
